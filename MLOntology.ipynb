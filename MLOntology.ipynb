{
 "cells": [
  {
   "cell_type": "code",
   "execution_count": 18,
   "metadata": {},
   "outputs": [],
   "source": [
    "import gensim\n",
    "import os\n",
    "import collections\n",
    "import smart_open\n",
    "import random\n",
    "from pprint import pprint"
   ]
  },
  {
   "cell_type": "code",
   "execution_count": 2,
   "metadata": {},
   "outputs": [],
   "source": [
    "def read_corpus(fname, tokens_only=False):\n",
    "    with smart_open.smart_open(fname, encoding=\"iso-8859-1\") as f:\n",
    "        for i, line in enumerate(f):\n",
    "            if tokens_only:\n",
    "                yield gensim.utils.simple_preprocess(line)\n",
    "            else:\n",
    "                # For training data, add tags\n",
    "                yield gensim.models.doc2vec.TaggedDocument(gensim.utils.simple_preprocess(line), [i])"
   ]
  },
  {
   "cell_type": "code",
   "execution_count": 3,
   "metadata": {},
   "outputs": [],
   "source": [
    "#gensim.utils.simple_preprocess??\n",
    "gensim.models.doc2vec.TaggedDocument??"
   ]
  },
  {
   "cell_type": "code",
   "execution_count": 4,
   "metadata": {},
   "outputs": [],
   "source": [
    "train_file = \"ontClassTopology.txt\"\n",
    "\n",
    "train_corpus = list(read_corpus(train_file))"
   ]
  },
  {
   "cell_type": "code",
   "execution_count": 5,
   "metadata": {},
   "outputs": [
    {
     "data": {
      "text/plain": [
       "[TaggedDocument(words=['snomed', 'ct', 'concept', 'physical', 'object', 'device', 'clinical', 'equipment', 'and', 'or', 'device', 'biomedical', 'equipment', 'laboratory', 'instruments', 'and', 'equipment', 'culture', 'plate', 'air', 'sampling', 'culture', 'plate', 'air', 'sampling', 'culture', 'plate', 'air', 'sampling', 'culture', 'plate'], tags=[0]),\n",
       " TaggedDocument(words=['snomed', 'ct', 'concept', 'clinical', 'finding', 'evaluation', 'finding', 'morphologic', 'finding', 'size', 'finding', 'increased', 'diameter', 'increased', 'diameter', 'increased', 'diameter'], tags=[1])]"
      ]
     },
     "execution_count": 5,
     "metadata": {},
     "output_type": "execute_result"
    }
   ],
   "source": [
    "train_corpus[:2]"
   ]
  },
  {
   "cell_type": "code",
   "execution_count": 11,
   "metadata": {},
   "outputs": [],
   "source": [
    "model = gensim.models.doc2vec.Doc2Vec(size=50, min_count=2, iter=55)"
   ]
  },
  {
   "cell_type": "code",
   "execution_count": null,
   "metadata": {},
   "outputs": [],
   "source": [
    "cores = multiprocessing.cpu_count()\n",
    "\n",
    "models = [\n",
    "    # PV-DBOW \n",
    "    Doc2Vec(dm=0, dbow_words=1, size=200, window=8, min_count=19, iter=10, workers=cores),\n",
    "    # PV-DM w/average\n",
    "    Doc2Vec(dm=1, dm_mean=1, size=200, window=8, min_count=19, iter =10, workers=cores),\n",
    "]\n"
   ]
  },
  {
   "cell_type": "code",
   "execution_count": null,
   "metadata": {},
   "outputs": [],
   "source": [
    "models[0].build_vocab(documents)\n",
    "print(str(models[0]))\n",
    "models[1].reset_from(models[0])\n",
    "print(str(models[1]))"
   ]
  },
  {
   "cell_type": "code",
   "execution_count": null,
   "metadata": {},
   "outputs": [],
   "source": [
    "for model in models:\n",
    "    %%time model.train(documents, total_examples=model.corpus_count, epochs=model.iter)"
   ]
  },
  {
   "cell_type": "code",
   "execution_count": null,
   "metadata": {},
   "outputs": [],
   "source": [
    "for model in models:\n",
    "    print(str(model))\n",
    "    pprint(model.docvecs.most_similar(positive=[\"Machine learning\"], topn=20))"
   ]
  },
  {
   "cell_type": "code",
   "execution_count": null,
   "metadata": {},
   "outputs": [],
   "source": [
    "for model in models:\n",
    "    print(str(model))\n",
    "    vec = [model.docvecs[\"Lady Gaga\"] - model[\"american\"] + model[\"japanese\"]]\n",
    "    pprint([m for m in model.docvecs.most_similar(vec, topn=11) if m[0] != \"Lady Gaga\"])"
   ]
  },
  {
   "cell_type": "code",
   "execution_count": 13,
   "metadata": {},
   "outputs": [],
   "source": [
    "model.build_vocab(train_corpus)"
   ]
  },
  {
   "cell_type": "code",
   "execution_count": 33,
   "metadata": {},
   "outputs": [
    {
     "data": {
      "text/plain": [
       "63753"
      ]
     },
     "execution_count": 33,
     "metadata": {},
     "output_type": "execute_result"
    }
   ],
   "source": [
    "len(model.wv.vocab)"
   ]
  },
  {
   "cell_type": "code",
   "execution_count": 14,
   "metadata": {},
   "outputs": [
    {
     "name": "stdout",
     "output_type": "stream",
     "text": [
      "CPU times: user 42min 18s, sys: 1min 30s, total: 43min 49s\n",
      "Wall time: 19min 29s\n"
     ]
    },
    {
     "data": {
      "text/plain": [
       "1161145570"
      ]
     },
     "execution_count": 14,
     "metadata": {},
     "output_type": "execute_result"
    }
   ],
   "source": [
    "%time model.train(train_corpus, total_examples=model.corpus_count, epochs=model.iter)"
   ]
  },
  {
   "cell_type": "code",
   "execution_count": 32,
   "metadata": {},
   "outputs": [
    {
     "name": "stdout",
     "output_type": "stream",
     "text": [
      "['snomed', 'ct', 'concept', 'physical', 'object', 'device', 'clinical', 'equipment', 'and', 'or', 'device', 'biomedical', 'device', 'implant', 'device', 'respiratory', 'system', 'implant', 'respiratory', 'system', 'implant', 'respiratory', 'system', 'implant', 'artificial', 'lung', 'device', 'nasal', 'prosthesis', 'custom', 'nasal', 'prosthesis'] score:  0.5977195501327515\n",
      "['snomed', 'ct', 'concept', 'clinical', 'finding', 'disease', 'finding', 'by', 'site', 'congenital', 'disease', 'viscus', 'structure', 'finding', 'finding', 'of', 'body', 'region', 'respiratory', 'finding', 'disorder', 'by', 'body', 'site', 'congenital', 'malformation', 'finding', 'of', 'trunk', 'structure', 'lower', 'respiratory', 'tract', 'finding', 'disorder', 'of', 'body', 'system', 'finding', 'of', 'upper', 'trunk', 'disorder', 'of', 'trunk', 'disorder', 'of', 'respiratory', 'system', 'finding', 'of', 'region', 'of', 'thorax', 'disorder', 'of', 'thoracic', 'segment', 'of', 'trunk', 'congenital', 'anomaly', 'of', 'trunk', 'disorder', 'of', 'lower', 'respiratory', 'system', 'congenital', 'malformation', 'of', 'the', 'respiratory', 'system', 'lung', 'finding', 'disorder', 'of', 'thorax', 'congenital', 'anomaly', 'of', 'upper', 'trunk', 'congenital', 'anomaly', 'of', 'lower', 'respiratory', 'system', 'disorder', 'of', 'lung', 'congenital', 'anomaly', 'of', 'thorax', 'congenital', 'anomaly', 'of', 'lung', 'congenital', 'hypoplasia', 'of', 'lung', 'secondary', 'pulmonary', 'hypoplasia', 'congenital', 'pulmonary', 'hypoplasia', 'due', 'to', 'lung', 'space', 'occupying', 'lesion', 'congenital', 'pulmonary', 'hypoplasia', 'due', 'to', 'lung', 'space', 'occupying', 'lesion', 'congenital', 'pulmonary', 'hypoplasia', 'due', 'to', 'lung', 'space', 'occupying', 'lesion'] score:  0.5663599967956543\n",
      "['snomed', 'ct', 'concept', 'clinical', 'finding', 'disease', 'finding', 'by', 'site', 'congenital', 'disease', 'viscus', 'structure', 'finding', 'finding', 'of', 'body', 'region', 'respiratory', 'finding', 'disorder', 'by', 'body', 'site', 'congenital', 'malformation', 'finding', 'of', 'trunk', 'structure', 'lower', 'respiratory', 'tract', 'finding', 'disorder', 'of', 'body', 'system', 'finding', 'of', 'upper', 'trunk', 'disorder', 'of', 'trunk', 'disorder', 'of', 'respiratory', 'system', 'finding', 'of', 'region', 'of', 'thorax', 'disorder', 'of', 'thoracic', 'segment', 'of', 'trunk', 'congenital', 'anomaly', 'of', 'trunk', 'disorder', 'of', 'lower', 'respiratory', 'system', 'congenital', 'malformation', 'of', 'the', 'respiratory', 'system', 'lung', 'finding', 'disorder', 'of', 'thorax', 'congenital', 'anomaly', 'of', 'upper', 'trunk', 'congenital', 'anomaly', 'of', 'lower', 'respiratory', 'system', 'disorder', 'of', 'lung', 'congenital', 'anomaly', 'of', 'thorax', 'congenital', 'anomaly', 'of', 'lung', 'congenital', 'hypoplasia', 'of', 'lung', 'secondary', 'pulmonary', 'hypoplasia', 'secondary', 'pulmonary', 'hypoplasia', 'secondary', 'pulmonary', 'hypoplasia', 'congenital', 'pulmonary', 'hypoplasia', 'due', 'to', 'lung', 'space', 'occupying', 'lesion', 'congenital', 'pulmonary', 'hypoplasia', 'due', 'to', 'prolonged', 'premature', 'rupture', 'of', 'membranes'] score:  0.5396261215209961\n",
      "['snomed', 'ct', 'concept', 'clinical', 'finding', 'disease', 'finding', 'by', 'site', 'drug', 'related', 'disorder', 'viscus', 'structure', 'finding', 'finding', 'of', 'body', 'region', 'disorder', 'by', 'body', 'site', 'respiratory', 'finding', 'finding', 'of', 'trunk', 'structure', 'disorder', 'of', 'connective', 'tissue', 'disorder', 'of', 'body', 'system', 'lower', 'respiratory', 'tract', 'finding', 'finding', 'of', 'upper', 'trunk', 'disorder', 'of', 'trunk', 'disorder', 'of', 'respiratory', 'system', 'finding', 'of', 'region', 'of', 'thorax', 'disorder', 'of', 'thoracic', 'segment', 'of', 'trunk', 'disorder', 'of', 'lower', 'respiratory', 'system', 'lung', 'finding', 'disorder', 'of', 'thorax', 'disorder', 'of', 'lung', 'interstitial', 'lung', 'disease', 'drug', 'induced', 'interstitial', 'lung', 'disorder', 'chronic', 'drug', 'induced', 'interstitial', 'lung', 'disorders', 'chronic', 'drug', 'induced', 'interstitial', 'lung', 'disorders', 'chronic', 'drug', 'induced', 'interstitial', 'lung', 'disorders'] score:  0.5394839644432068\n",
      "['snomed', 'ct', 'concept', 'clinical', 'finding', 'disease', 'finding', 'by', 'site', 'congenital', 'disease', 'multisystem', 'disorder', 'hereditary', 'disease', 'viscus', 'structure', 'finding', 'finding', 'of', 'body', 'region', 'disorder', 'by', 'body', 'site', 'respiratory', 'finding', 'autosomal', 'hereditary', 'disorder', 'finding', 'of', 'trunk', 'structure', 'disorder', 'of', 'connective', 'tissue', 'disorder', 'of', 'body', 'system', 'lower', 'respiratory', 'tract', 'finding', 'autosomal', 'recessive', 'hereditary', 'disorder', 'disorder', 'of', 'trunk', 'finding', 'of', 'upper', 'trunk', 'urogenital', 'finding', 'finding', 'of', 'abdominal', 'segment', 'of', 'trunk', 'congenital', 'connective', 'tissue', 'disorder', 'connective', 'tissue', 'hereditary', 'disorder', 'hereditary', 'disorder', 'by', 'system', 'disorder', 'of', 'respiratory', 'system', 'finding', 'of', 'region', 'of', 'thorax', 'disorder', 'of', 'thoracic', 'segment', 'of', 'trunk', 'disorder', 'of', 'the', 'genitourinary', 'system', 'urinary', 'system', 'finding', 'disorder', 'of', 'abdominal', 'segment', 'of', 'trunk', 'finding', 'of', 'abdomen', 'disorder', 'of', 'lower', 'respiratory', 'system', 'lung', 'finding', 'disorder', 'of', 'thorax', 'disorder', 'of', 'the', 'urinary', 'system', 'abdominal', 'organ', 'finding', 'disorder', 'of', 'abdomen', 'disorder', 'of', 'lung', 'disorder', 'of', 'kidney', 'and', 'or', 'ureter', 'hereditary', 'disorder', 'of', 'the', 'urinary', 'system', 'kidney', 'finding', 'disorder', 'of', 'retroperitoneal', 'compartment', 'interstitial', 'lung', 'disease', 'kidney', 'disease', 'hereditary', 'nephropathy', 'glomerular', 'disease', 'nephrotic', 'syndrome', 'congenital', 'nephrotic', 'syndrome', 'congenital', 'nephrotic', 'syndrome', 'interstitial', 'lung', 'disease', 'epidermolysis', 'bullosa', 'syndrome', 'congenital', 'nephrotic', 'syndrome', 'interstitial', 'lung', 'disease', 'epidermolysis', 'bullosa', 'syndrome', 'congenital', 'nephrotic', 'syndrome', 'interstitial', 'lung', 'disease', 'epidermolysis', 'bullosa', 'syndrome'] score:  0.5273708701133728\n",
      "['snomed', 'ct', 'concept', 'clinical', 'finding', 'disease', 'finding', 'by', 'site', 'drug', 'related', 'disorder', 'viscus', 'structure', 'finding', 'finding', 'of', 'body', 'region', 'disorder', 'by', 'body', 'site', 'respiratory', 'finding', 'finding', 'of', 'trunk', 'structure', 'disorder', 'of', 'connective', 'tissue', 'disorder', 'of', 'body', 'system', 'lower', 'respiratory', 'tract', 'finding', 'finding', 'of', 'upper', 'trunk', 'disorder', 'of', 'trunk', 'disorder', 'of', 'respiratory', 'system', 'finding', 'of', 'region', 'of', 'thorax', 'disorder', 'of', 'thoracic', 'segment', 'of', 'trunk', 'disorder', 'of', 'lower', 'respiratory', 'system', 'lung', 'finding', 'disorder', 'of', 'thorax', 'disorder', 'of', 'lung', 'interstitial', 'lung', 'disease', 'drug', 'induced', 'interstitial', 'lung', 'disorder', 'drug', 'induced', 'interstitial', 'lung', 'disorder', 'drug', 'induced', 'interstitial', 'lung', 'disorder', 'acute', 'drug', 'induced', 'interstitial', 'lung', 'disorder', 'chronic', 'drug', 'induced', 'interstitial', 'lung', 'disorders'] score:  0.5271615982055664\n",
      "['snomed', 'ct', 'concept', 'clinical', 'finding', 'disease', 'finding', 'by', 'site', 'viscus', 'structure', 'finding', 'finding', 'of', 'body', 'region', 'respiratory', 'finding', 'disorder', 'by', 'body', 'site', 'finding', 'of', 'trunk', 'structure', 'lower', 'respiratory', 'tract', 'finding', 'disorder', 'of', 'body', 'system', 'finding', 'of', 'upper', 'trunk', 'disorder', 'of', 'trunk', 'disorder', 'of', 'respiratory', 'system', 'finding', 'of', 'region', 'of', 'thorax', 'disorder', 'of', 'thoracic', 'segment', 'of', 'trunk', 'disorder', 'of', 'lower', 'respiratory', 'system', 'lung', 'finding', 'disorder', 'of', 'thorax', 'disorder', 'of', 'lung', 'restrictive', 'lung', 'disease', 'restrictive', 'lung', 'disease', 'due', 'to', 'muscular', 'dystrophy', 'restrictive', 'lung', 'disease', 'due', 'to', 'muscular', 'dystrophy', 'restrictive', 'lung', 'disease', 'due', 'to', 'muscular', 'dystrophy'] score:  0.5237089991569519\n",
      "['snomed', 'ct', 'concept', 'physical', 'object', 'device', 'computer', 'equipment', 'software', 'application', 'program', 'software', 'lung', 'function', 'software', 'lung', 'function', 'software', 'lung', 'function', 'software'] score:  0.5216248631477356\n",
      "['snomed', 'ct', 'concept', 'procedure', 'procedure', 'by', 'site', 'procedure', 'by', 'method', 'procedure', 'on', 'organ', 'procedure', 'on', 'trunk', 'procedure', 'on', 'body', 'system', 'surgical', 'procedure', 'procedure', 'on', 'serous', 'sac', 'procedure', 'on', 'thorax', 'procedure', 'on', 'respiratory', 'system', 'fixation', 'operation', 'on', 'trunk', 'procedure', 'on', 'pleura', 'fusion', 'procedure', 'surgical', 'procedure', 'on', 'thorax', 'pleurodesis', 'chemical', 'pleurodesis', 'pleurodesis', 'with', 'tetracycline', 'pleurodesis', 'with', 'tetracycline', 'pleurodesis', 'with', 'tetracycline'] score:  0.5186247229576111\n",
      "['snomed', 'ct', 'concept', 'procedure', 'laboratory', 'procedure', 'procedure', 'by', 'method', 'evaluation', 'procedure', 'laboratory', 'test', 'microbiology', 'procedure', 'microbial', 'culture', 'source', 'specific', 'culture', 'respiratory', 'microbial', 'culture', 'cystic', 'fibrosis', 'respiratory', 'culture', 'cystic', 'fibrosis', 'respiratory', 'culture', 'cystic', 'fibrosis', 'respiratory', 'culture'] score:  0.5149245262145996\n"
     ]
    }
   ],
   "source": [
    "# inferred_vector = model.infer_vector(['clinical', 'finding', 'evaluation', 'prevent', 'sampling', 'foot'])\n",
    "inferred_vector = model.infer_vector(['congenital', 'prolong', 'rupture', 'premature', 'membrane', 'lung'])\n",
    "\n",
    "\n",
    "sims = model.docvecs.most_similar([inferred_vector], topn=10)\n",
    "\n",
    "\n",
    "for sim in sims:\n",
    "    print(train_corpus[sim[0]].words, \"score: \", sim[1])"
   ]
  },
  {
   "cell_type": "code",
   "execution_count": 22,
   "metadata": {
    "scrolled": true
   },
   "outputs": [
    {
     "name": "stdout",
     "output_type": "stream",
     "text": [
      "Total:  336902\n",
      "Processing:  0\n",
      "Processing:  1\n",
      "Processing:  2\n",
      "Processing:  3\n",
      "Processing:  4\n",
      "Processing:  5\n",
      "Processing:  6\n",
      "Processing:  7\n",
      "Processing:  8\n",
      "Processing:  9\n",
      "Processing:  10\n",
      "Processing:  11\n",
      "Processing:  12\n",
      "Processing:  13\n",
      "Processing:  14\n",
      "Processing:  15\n",
      "Processing:  16\n",
      "Processing:  17\n",
      "Processing:  18\n",
      "Processing:  19\n",
      "Processing:  20\n",
      "Processing:  21\n",
      "Processing:  22\n",
      "Processing:  23\n",
      "Processing:  24\n",
      "Processing:  25\n",
      "Processing:  26\n",
      "Processing:  27\n",
      "Processing:  28\n",
      "Processing:  29\n",
      "Processing:  30\n",
      "Processing:  31\n",
      "Processing:  32\n",
      "Processing:  33\n",
      "Processing:  34\n",
      "Processing:  35\n",
      "Processing:  36\n",
      "Processing:  37\n",
      "Processing:  38\n",
      "Processing:  39\n",
      "Processing:  40\n",
      "Processing:  41\n",
      "Processing:  42\n",
      "Processing:  43\n",
      "Processing:  44\n",
      "Processing:  45\n",
      "Processing:  46\n",
      "Processing:  47\n",
      "Processing:  48\n",
      "Processing:  49\n",
      "Processing:  50\n",
      "Processing:  51\n",
      "Processing:  52\n",
      "Processing:  53\n",
      "Processing:  54\n",
      "Processing:  55\n",
      "Processing:  56\n",
      "Processing:  57\n",
      "Processing:  58\n",
      "Processing:  59\n",
      "Processing:  60\n",
      "Processing:  61\n",
      "Processing:  62\n",
      "Processing:  63\n",
      "Processing:  64\n",
      "Processing:  65\n",
      "Processing:  66\n",
      "Processing:  67\n",
      "Processing:  68\n",
      "Processing:  69\n",
      "Processing:  70\n",
      "Processing:  71\n",
      "Processing:  72\n",
      "Processing:  73\n",
      "Processing:  74\n",
      "Processing:  75\n",
      "Processing:  76\n",
      "Processing:  77\n",
      "Processing:  78\n",
      "Processing:  79\n",
      "Processing:  80\n",
      "Processing:  81\n",
      "Processing:  82\n",
      "Processing:  83\n",
      "Processing:  84\n",
      "Processing:  85\n",
      "Processing:  86\n",
      "Processing:  87\n",
      "Processing:  88\n",
      "Processing:  89\n",
      "Processing:  90\n",
      "Processing:  91\n",
      "Processing:  92\n",
      "Processing:  93\n",
      "Processing:  94\n",
      "Processing:  95\n",
      "Processing:  96\n",
      "Processing:  97\n",
      "Processing:  98\n",
      "Processing:  99\n",
      "Processing:  100\n",
      "Processing:  101\n",
      "Processing:  102\n",
      "Processing:  103\n",
      "Processing:  104\n",
      "Processing:  105\n",
      "Processing:  106\n",
      "Processing:  107\n",
      "Processing:  108\n",
      "Processing:  109\n",
      "Processing:  110\n",
      "Processing:  111\n",
      "Processing:  112\n",
      "Processing:  113\n",
      "Processing:  114\n",
      "Processing:  115\n",
      "Processing:  116\n",
      "Processing:  117\n",
      "Processing:  118\n",
      "Processing:  119\n",
      "Processing:  120\n",
      "Processing:  121\n",
      "Processing:  122\n",
      "Processing:  123\n",
      "Processing:  124\n",
      "Processing:  125\n",
      "Processing:  126\n",
      "Processing:  127\n",
      "Processing:  128\n",
      "Processing:  129\n",
      "Processing:  130\n",
      "Processing:  131\n",
      "Processing:  132\n",
      "Processing:  133\n",
      "Processing:  134\n",
      "Processing:  135\n",
      "Processing:  136\n",
      "Processing:  137\n",
      "Processing:  138\n",
      "Processing:  139\n",
      "Processing:  140\n",
      "Processing:  141\n",
      "Processing:  142\n",
      "Processing:  143\n",
      "Processing:  144\n",
      "Processing:  145\n",
      "Processing:  146\n",
      "Processing:  147\n",
      "Processing:  148\n",
      "Processing:  149\n",
      "Processing:  150\n",
      "Processing:  151\n",
      "Processing:  152\n",
      "Processing:  153\n",
      "Processing:  154\n",
      "Processing:  155\n",
      "Processing:  156\n",
      "Processing:  157\n",
      "Processing:  158\n",
      "Processing:  159\n",
      "Processing:  160\n",
      "Processing:  161\n",
      "Processing:  162\n",
      "Processing:  163\n",
      "Processing:  164\n",
      "Processing:  165\n",
      "Processing:  166\n",
      "Processing:  167\n",
      "Processing:  168\n",
      "Processing:  169\n",
      "Processing:  170\n",
      "Processing:  171\n",
      "Processing:  172\n",
      "Processing:  173\n",
      "Processing:  174\n",
      "Processing:  175\n",
      "Processing:  176\n",
      "Processing:  177\n",
      "Processing:  178\n",
      "Processing:  179\n",
      "Processing:  180\n",
      "Processing:  181\n",
      "Processing:  182\n",
      "Processing:  183\n",
      "Processing:  184\n",
      "Processing:  185\n",
      "Processing:  186\n",
      "Processing:  187\n",
      "Processing:  188\n",
      "Processing:  189\n",
      "Processing:  190\n",
      "Processing:  191\n",
      "Processing:  192\n",
      "Processing:  193\n",
      "Processing:  194\n",
      "Processing:  195\n",
      "Processing:  196\n",
      "Processing:  197\n",
      "Processing:  198\n",
      "Processing:  199\n",
      "Processing:  200\n",
      "Processing:  201\n",
      "Processing:  202\n",
      "Processing:  203\n",
      "Processing:  204\n",
      "Processing:  205\n",
      "Processing:  206\n",
      "Processing:  207\n",
      "Processing:  208\n",
      "Processing:  209\n",
      "Processing:  210\n",
      "Processing:  211\n",
      "Processing:  212\n",
      "Processing:  213\n",
      "Processing:  214\n",
      "Processing:  215\n"
     ]
    },
    {
     "ename": "KeyboardInterrupt",
     "evalue": "",
     "output_type": "error",
     "traceback": [
      "\u001b[0;31m---------------------------------------------------------------------------\u001b[0m",
      "\u001b[0;31mKeyboardInterrupt\u001b[0m                         Traceback (most recent call last)",
      "\u001b[0;32m<ipython-input-22-c1c4e4470c91>\u001b[0m in \u001b[0;36m<module>\u001b[0;34m()\u001b[0m\n\u001b[1;32m      7\u001b[0m     \u001b[0mprint\u001b[0m\u001b[0;34m(\u001b[0m\u001b[0;34m\"Processing: \"\u001b[0m\u001b[0;34m,\u001b[0m \u001b[0mdoc_id\u001b[0m\u001b[0;34m)\u001b[0m\u001b[0;34m\u001b[0m\u001b[0m\n\u001b[1;32m      8\u001b[0m     \u001b[0minferred_vector\u001b[0m \u001b[0;34m=\u001b[0m \u001b[0mmodel\u001b[0m\u001b[0;34m.\u001b[0m\u001b[0minfer_vector\u001b[0m\u001b[0;34m(\u001b[0m\u001b[0mtrain_corpus\u001b[0m\u001b[0;34m[\u001b[0m\u001b[0mdoc_id\u001b[0m\u001b[0;34m]\u001b[0m\u001b[0;34m.\u001b[0m\u001b[0mwords\u001b[0m\u001b[0;34m)\u001b[0m\u001b[0;34m\u001b[0m\u001b[0m\n\u001b[0;32m----> 9\u001b[0;31m     \u001b[0msims\u001b[0m \u001b[0;34m=\u001b[0m \u001b[0mmodel\u001b[0m\u001b[0;34m.\u001b[0m\u001b[0mdocvecs\u001b[0m\u001b[0;34m.\u001b[0m\u001b[0mmost_similar\u001b[0m\u001b[0;34m(\u001b[0m\u001b[0;34m[\u001b[0m\u001b[0minferred_vector\u001b[0m\u001b[0;34m]\u001b[0m\u001b[0;34m,\u001b[0m \u001b[0mtopn\u001b[0m\u001b[0;34m=\u001b[0m\u001b[0mlen\u001b[0m\u001b[0;34m(\u001b[0m\u001b[0mmodel\u001b[0m\u001b[0;34m.\u001b[0m\u001b[0mdocvecs\u001b[0m\u001b[0;34m)\u001b[0m\u001b[0;34m)\u001b[0m\u001b[0;34m\u001b[0m\u001b[0m\n\u001b[0m\u001b[1;32m     10\u001b[0m     \u001b[0mrank\u001b[0m \u001b[0;34m=\u001b[0m \u001b[0;34m[\u001b[0m\u001b[0mdocid\u001b[0m \u001b[0;32mfor\u001b[0m \u001b[0mdocid\u001b[0m\u001b[0;34m,\u001b[0m \u001b[0msim\u001b[0m \u001b[0;32min\u001b[0m \u001b[0msims\u001b[0m\u001b[0;34m]\u001b[0m\u001b[0;34m.\u001b[0m\u001b[0mindex\u001b[0m\u001b[0;34m(\u001b[0m\u001b[0mdoc_id\u001b[0m\u001b[0;34m)\u001b[0m\u001b[0;34m\u001b[0m\u001b[0m\n\u001b[1;32m     11\u001b[0m     \u001b[0mranks\u001b[0m\u001b[0;34m.\u001b[0m\u001b[0mappend\u001b[0m\u001b[0;34m(\u001b[0m\u001b[0mrank\u001b[0m\u001b[0;34m)\u001b[0m\u001b[0;34m\u001b[0m\u001b[0m\n",
      "\u001b[0;32m~/anaconda3/envs/MLOntology/lib/python3.5/site-packages/gensim/models/doc2vec.py\u001b[0m in \u001b[0;36mmost_similar\u001b[0;34m(self, positive, negative, topn, clip_start, clip_end, indexer)\u001b[0m\n\u001b[1;32m    489\u001b[0m         result = [\n\u001b[1;32m    490\u001b[0m             \u001b[0;34m(\u001b[0m\u001b[0mself\u001b[0m\u001b[0;34m.\u001b[0m\u001b[0mindex_to_doctag\u001b[0m\u001b[0;34m(\u001b[0m\u001b[0msim\u001b[0m \u001b[0;34m+\u001b[0m \u001b[0mclip_start\u001b[0m\u001b[0;34m)\u001b[0m\u001b[0;34m,\u001b[0m \u001b[0mfloat\u001b[0m\u001b[0;34m(\u001b[0m\u001b[0mdists\u001b[0m\u001b[0;34m[\u001b[0m\u001b[0msim\u001b[0m\u001b[0;34m]\u001b[0m\u001b[0;34m)\u001b[0m\u001b[0;34m)\u001b[0m\u001b[0;34m\u001b[0m\u001b[0m\n\u001b[0;32m--> 491\u001b[0;31m             \u001b[0;32mfor\u001b[0m \u001b[0msim\u001b[0m \u001b[0;32min\u001b[0m \u001b[0mbest\u001b[0m\u001b[0;34m\u001b[0m\u001b[0m\n\u001b[0m\u001b[1;32m    492\u001b[0m             \u001b[0;32mif\u001b[0m \u001b[0;34m(\u001b[0m\u001b[0msim\u001b[0m \u001b[0;34m+\u001b[0m \u001b[0mclip_start\u001b[0m\u001b[0;34m)\u001b[0m \u001b[0;32mnot\u001b[0m \u001b[0;32min\u001b[0m \u001b[0mall_docs\u001b[0m\u001b[0;34m\u001b[0m\u001b[0m\n\u001b[1;32m    493\u001b[0m         ]\n",
      "\u001b[0;32m~/anaconda3/envs/MLOntology/lib/python3.5/site-packages/gensim/models/doc2vec.py\u001b[0m in \u001b[0;36m<listcomp>\u001b[0;34m(.0)\u001b[0m\n\u001b[1;32m    490\u001b[0m             \u001b[0;34m(\u001b[0m\u001b[0mself\u001b[0m\u001b[0;34m.\u001b[0m\u001b[0mindex_to_doctag\u001b[0m\u001b[0;34m(\u001b[0m\u001b[0msim\u001b[0m \u001b[0;34m+\u001b[0m \u001b[0mclip_start\u001b[0m\u001b[0;34m)\u001b[0m\u001b[0;34m,\u001b[0m \u001b[0mfloat\u001b[0m\u001b[0;34m(\u001b[0m\u001b[0mdists\u001b[0m\u001b[0;34m[\u001b[0m\u001b[0msim\u001b[0m\u001b[0;34m]\u001b[0m\u001b[0;34m)\u001b[0m\u001b[0;34m)\u001b[0m\u001b[0;34m\u001b[0m\u001b[0m\n\u001b[1;32m    491\u001b[0m             \u001b[0;32mfor\u001b[0m \u001b[0msim\u001b[0m \u001b[0;32min\u001b[0m \u001b[0mbest\u001b[0m\u001b[0;34m\u001b[0m\u001b[0m\n\u001b[0;32m--> 492\u001b[0;31m             \u001b[0;32mif\u001b[0m \u001b[0;34m(\u001b[0m\u001b[0msim\u001b[0m \u001b[0;34m+\u001b[0m \u001b[0mclip_start\u001b[0m\u001b[0;34m)\u001b[0m \u001b[0;32mnot\u001b[0m \u001b[0;32min\u001b[0m \u001b[0mall_docs\u001b[0m\u001b[0;34m\u001b[0m\u001b[0m\n\u001b[0m\u001b[1;32m    493\u001b[0m         ]\n\u001b[1;32m    494\u001b[0m         \u001b[0;32mreturn\u001b[0m \u001b[0mresult\u001b[0m\u001b[0;34m[\u001b[0m\u001b[0;34m:\u001b[0m\u001b[0mtopn\u001b[0m\u001b[0;34m]\u001b[0m\u001b[0;34m\u001b[0m\u001b[0m\n",
      "\u001b[0;31mKeyboardInterrupt\u001b[0m: "
     ]
    }
   ],
   "source": [
    "print(\"Total: \",len(train_corpus))\n",
    "\n",
    "\n",
    "ranks = []\n",
    "second_ranks = []\n",
    "for doc_id in range(len(train_corpus)):\n",
    "    print(\"Processing: \", doc_id)\n",
    "    inferred_vector = model.infer_vector(train_corpus[doc_id].words)\n",
    "    sims = model.docvecs.most_similar([inferred_vector], topn=len(model.docvecs))\n",
    "    rank = [docid for docid, sim in sims].index(doc_id)\n",
    "    ranks.append(rank)\n",
    "    \n",
    "    second_ranks.append(sims[1])"
   ]
  },
  {
   "cell_type": "code",
   "execution_count": 23,
   "metadata": {},
   "outputs": [
    {
     "data": {
      "text/plain": [
       "Counter({0: 55,\n",
       "         1: 20,\n",
       "         2: 10,\n",
       "         3: 8,\n",
       "         4: 7,\n",
       "         5: 4,\n",
       "         6: 2,\n",
       "         7: 4,\n",
       "         8: 3,\n",
       "         9: 1,\n",
       "         10: 3,\n",
       "         12: 1,\n",
       "         14: 3,\n",
       "         18: 1,\n",
       "         20: 1,\n",
       "         21: 2,\n",
       "         22: 1,\n",
       "         28: 1,\n",
       "         30: 1,\n",
       "         33: 1,\n",
       "         41: 1,\n",
       "         47: 1,\n",
       "         49: 1,\n",
       "         69: 1,\n",
       "         107: 1,\n",
       "         120: 1,\n",
       "         135: 1,\n",
       "         163: 1,\n",
       "         230: 1,\n",
       "         293: 1,\n",
       "         317: 1,\n",
       "         365: 1,\n",
       "         372: 1,\n",
       "         385: 1,\n",
       "         412: 1,\n",
       "         515: 1,\n",
       "         655: 1,\n",
       "         978: 1,\n",
       "         1439: 1,\n",
       "         1829: 1,\n",
       "         1842: 1,\n",
       "         2163: 1,\n",
       "         2353: 1,\n",
       "         2625: 1,\n",
       "         2646: 1,\n",
       "         3723: 1,\n",
       "         3733: 1,\n",
       "         4923: 1,\n",
       "         5034: 1,\n",
       "         5106: 1,\n",
       "         5156: 1,\n",
       "         5692: 1,\n",
       "         6168: 1,\n",
       "         6361: 1,\n",
       "         7484: 1,\n",
       "         7594: 1,\n",
       "         9157: 1,\n",
       "         9586: 1,\n",
       "         10023: 1,\n",
       "         10440: 1,\n",
       "         11342: 1,\n",
       "         12173: 1,\n",
       "         12190: 1,\n",
       "         13031: 1,\n",
       "         13042: 1,\n",
       "         15515: 1,\n",
       "         15705: 1,\n",
       "         16110: 1,\n",
       "         16255: 1,\n",
       "         16360: 1,\n",
       "         17504: 1,\n",
       "         18952: 1,\n",
       "         19437: 1,\n",
       "         20191: 1,\n",
       "         21892: 1,\n",
       "         22662: 1,\n",
       "         23030: 1,\n",
       "         23987: 1,\n",
       "         24087: 1,\n",
       "         24820: 1,\n",
       "         25166: 1,\n",
       "         25760: 1,\n",
       "         27022: 1,\n",
       "         27325: 1,\n",
       "         31099: 1,\n",
       "         31486: 1,\n",
       "         35248: 1,\n",
       "         37289: 1,\n",
       "         40074: 1,\n",
       "         47311: 1,\n",
       "         48144: 1,\n",
       "         49630: 1,\n",
       "         57639: 1,\n",
       "         59849: 1,\n",
       "         61287: 1,\n",
       "         62828: 1,\n",
       "         63360: 1,\n",
       "         65685: 1,\n",
       "         65734: 1,\n",
       "         68947: 1,\n",
       "         80212: 1,\n",
       "         81861: 1,\n",
       "         88921: 1,\n",
       "         95107: 1,\n",
       "         97975: 1,\n",
       "         202046: 1})"
      ]
     },
     "execution_count": 23,
     "metadata": {},
     "output_type": "execute_result"
    }
   ],
   "source": [
    "collections.Counter(ranks) "
   ]
  },
  {
   "cell_type": "code",
   "execution_count": null,
   "metadata": {},
   "outputs": [],
   "source": []
  }
 ],
 "metadata": {
  "kernelspec": {
   "display_name": "Python 3",
   "language": "python",
   "name": "python3"
  },
  "language_info": {
   "codemirror_mode": {
    "name": "ipython",
    "version": 3
   },
   "file_extension": ".py",
   "mimetype": "text/x-python",
   "name": "python",
   "nbconvert_exporter": "python",
   "pygments_lexer": "ipython3",
   "version": "3.5.4"
  }
 },
 "nbformat": 4,
 "nbformat_minor": 2
}
