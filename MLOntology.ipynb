{
 "cells": [
  {
   "cell_type": "code",
   "execution_count": 1,
   "metadata": {},
   "outputs": [
    {
     "name": "stderr",
     "output_type": "stream",
     "text": [
      "C:\\Users\\Hao\\AppData\\Local\\conda\\conda\\envs\\MLOntology\\lib\\site-packages\\gensim\\utils.py:860: UserWarning: detected Windows; aliasing chunkize to chunkize_serial\n",
      "  warnings.warn(\"detected Windows; aliasing chunkize to chunkize_serial\")\n"
     ]
    }
   ],
   "source": [
    "import gensim\n",
    "import os\n",
    "import collections\n",
    "import smart_open\n",
    "import random\n",
    "import multiprocessing\n",
    "from gensim.models.doc2vec import Doc2Vec, TaggedDocument\n",
    "from pprint import pprint"
   ]
  },
  {
   "cell_type": "code",
   "execution_count": null,
   "metadata": {},
   "outputs": [],
   "source": [
    "#read class label file\n",
    "#create mapping from id to labels\n",
    "\n",
    "\n",
    "\n"
   ]
  },
  {
   "cell_type": "code",
   "execution_count": 2,
   "metadata": {},
   "outputs": [],
   "source": [
    "\n",
    "conceptMappingDict={}"
   ]
  },
  {
   "cell_type": "code",
   "execution_count": 3,
   "metadata": {},
   "outputs": [],
   "source": [
    "def read_corpus(fname, tokens_only=False):\n",
    "    with smart_open.smart_open(fname, encoding=\"iso-8859-1\") as f:\n",
    "        for i, line in enumerate(f):\n",
    "            splitted = line.decode('iso-8859-1').split(\"\\t\", 1)\n",
    "            \n",
    "            if tokens_only:\n",
    "                yield gensim.utils.simple_preprocess(line)\n",
    "            else:\n",
    "                # For training data, add tags\n",
    "                conceptMappingDict[i]= int(splitted[0])\n",
    "                yield gensim.models.doc2vec.TaggedDocument(gensim.utils.simple_preprocess(line), [i])"
   ]
  },
  {
   "cell_type": "code",
   "execution_count": null,
   "metadata": {},
   "outputs": [],
   "source": [
    "#gensim.utils.simple_preprocess??\n",
    "gensim.models.doc2vec.TaggedDocument??"
   ]
  },
  {
   "cell_type": "code",
   "execution_count": 4,
   "metadata": {},
   "outputs": [],
   "source": [
    "train_file = \"ontClassTopology.txt\"\n",
    "\n",
    "train_corpus = list(read_corpus(train_file))"
   ]
  },
  {
   "cell_type": "code",
   "execution_count": 5,
   "metadata": {},
   "outputs": [
    {
     "name": "stdout",
     "output_type": "stream",
     "text": [
      "336886\n"
     ]
    },
    {
     "data": {
      "text/plain": [
       "[TaggedDocument(words=['snomed', 'ct', 'concept', 'physical', 'object', 'device', 'clinical', 'equipment', 'and', 'or', 'device', 'biomedical', 'equipment', 'laboratory', 'instruments', 'and', 'equipment', 'culture', 'plate', 'air', 'sampling', 'culture', 'plate', 'air', 'sampling', 'culture', 'plate', 'air', 'sampling', 'culture', 'plate'], tags=[0]),\n",
       " TaggedDocument(words=['snomed', 'ct', 'concept', 'clinical', 'finding', 'evaluation', 'finding', 'morphologic', 'finding', 'size', 'finding', 'increased', 'diameter', 'increased', 'diameter', 'increased', 'diameter'], tags=[1])]"
      ]
     },
     "execution_count": 5,
     "metadata": {},
     "output_type": "execute_result"
    }
   ],
   "source": [
    "print(len(train_corpus))\n",
    "train_corpus[:2]"
   ]
  },
  {
   "cell_type": "code",
   "execution_count": 6,
   "metadata": {},
   "outputs": [],
   "source": [
    "model = gensim.models.doc2vec.Doc2Vec(size=50, min_count=2, iter=55)"
   ]
  },
  {
   "cell_type": "code",
   "execution_count": 7,
   "metadata": {},
   "outputs": [],
   "source": [
    "model.build_vocab(train_corpus)"
   ]
  },
  {
   "cell_type": "code",
   "execution_count": null,
   "metadata": {},
   "outputs": [],
   "source": [
    "len(model.wv.vocab)"
   ]
  },
  {
   "cell_type": "code",
   "execution_count": 8,
   "metadata": {},
   "outputs": [
    {
     "ename": "KeyboardInterrupt",
     "evalue": "",
     "output_type": "error",
     "traceback": [
      "\u001b[1;31m---------------------------------------------------------------------------\u001b[0m",
      "\u001b[1;31mKeyboardInterrupt\u001b[0m                         Traceback (most recent call last)",
      "\u001b[1;32m<timed eval>\u001b[0m in \u001b[0;36m<module>\u001b[1;34m()\u001b[0m\n",
      "\u001b[1;32m~\\AppData\\Local\\conda\\conda\\envs\\MLOntology\\lib\\site-packages\\gensim\\models\\word2vec.py\u001b[0m in \u001b[0;36mtrain\u001b[1;34m(self, sentences, total_examples, total_words, epochs, start_alpha, end_alpha, word_count, queue_factor, report_delay, compute_loss)\u001b[0m\n\u001b[0;32m   1048\u001b[0m \u001b[1;33m\u001b[0m\u001b[0m\n\u001b[0;32m   1049\u001b[0m         \u001b[1;32mwhile\u001b[0m \u001b[0munfinished_worker_count\u001b[0m \u001b[1;33m>\u001b[0m \u001b[1;36m0\u001b[0m\u001b[1;33m:\u001b[0m\u001b[1;33m\u001b[0m\u001b[0m\n\u001b[1;32m-> 1050\u001b[1;33m             \u001b[0mreport\u001b[0m \u001b[1;33m=\u001b[0m \u001b[0mprogress_queue\u001b[0m\u001b[1;33m.\u001b[0m\u001b[0mget\u001b[0m\u001b[1;33m(\u001b[0m\u001b[1;33m)\u001b[0m  \u001b[1;31m# blocks if workers too slow\u001b[0m\u001b[1;33m\u001b[0m\u001b[0m\n\u001b[0m\u001b[0;32m   1051\u001b[0m             \u001b[1;32mif\u001b[0m \u001b[0mreport\u001b[0m \u001b[1;32mis\u001b[0m \u001b[1;32mNone\u001b[0m\u001b[1;33m:\u001b[0m  \u001b[1;31m# a thread reporting that it finished\u001b[0m\u001b[1;33m\u001b[0m\u001b[0m\n\u001b[0;32m   1052\u001b[0m                 \u001b[0munfinished_worker_count\u001b[0m \u001b[1;33m-=\u001b[0m \u001b[1;36m1\u001b[0m\u001b[1;33m\u001b[0m\u001b[0m\n",
      "\u001b[1;32m~\\AppData\\Local\\conda\\conda\\envs\\MLOntology\\lib\\queue.py\u001b[0m in \u001b[0;36mget\u001b[1;34m(self, block, timeout)\u001b[0m\n\u001b[0;32m    162\u001b[0m             \u001b[1;32melif\u001b[0m \u001b[0mtimeout\u001b[0m \u001b[1;32mis\u001b[0m \u001b[1;32mNone\u001b[0m\u001b[1;33m:\u001b[0m\u001b[1;33m\u001b[0m\u001b[0m\n\u001b[0;32m    163\u001b[0m                 \u001b[1;32mwhile\u001b[0m \u001b[1;32mnot\u001b[0m \u001b[0mself\u001b[0m\u001b[1;33m.\u001b[0m\u001b[0m_qsize\u001b[0m\u001b[1;33m(\u001b[0m\u001b[1;33m)\u001b[0m\u001b[1;33m:\u001b[0m\u001b[1;33m\u001b[0m\u001b[0m\n\u001b[1;32m--> 164\u001b[1;33m                     \u001b[0mself\u001b[0m\u001b[1;33m.\u001b[0m\u001b[0mnot_empty\u001b[0m\u001b[1;33m.\u001b[0m\u001b[0mwait\u001b[0m\u001b[1;33m(\u001b[0m\u001b[1;33m)\u001b[0m\u001b[1;33m\u001b[0m\u001b[0m\n\u001b[0m\u001b[0;32m    165\u001b[0m             \u001b[1;32melif\u001b[0m \u001b[0mtimeout\u001b[0m \u001b[1;33m<\u001b[0m \u001b[1;36m0\u001b[0m\u001b[1;33m:\u001b[0m\u001b[1;33m\u001b[0m\u001b[0m\n\u001b[0;32m    166\u001b[0m                 \u001b[1;32mraise\u001b[0m \u001b[0mValueError\u001b[0m\u001b[1;33m(\u001b[0m\u001b[1;34m\"'timeout' must be a non-negative number\"\u001b[0m\u001b[1;33m)\u001b[0m\u001b[1;33m\u001b[0m\u001b[0m\n",
      "\u001b[1;32m~\\AppData\\Local\\conda\\conda\\envs\\MLOntology\\lib\\threading.py\u001b[0m in \u001b[0;36mwait\u001b[1;34m(self, timeout)\u001b[0m\n\u001b[0;32m    291\u001b[0m         \u001b[1;32mtry\u001b[0m\u001b[1;33m:\u001b[0m    \u001b[1;31m# restore state no matter what (e.g., KeyboardInterrupt)\u001b[0m\u001b[1;33m\u001b[0m\u001b[0m\n\u001b[0;32m    292\u001b[0m             \u001b[1;32mif\u001b[0m \u001b[0mtimeout\u001b[0m \u001b[1;32mis\u001b[0m \u001b[1;32mNone\u001b[0m\u001b[1;33m:\u001b[0m\u001b[1;33m\u001b[0m\u001b[0m\n\u001b[1;32m--> 293\u001b[1;33m                 \u001b[0mwaiter\u001b[0m\u001b[1;33m.\u001b[0m\u001b[0macquire\u001b[0m\u001b[1;33m(\u001b[0m\u001b[1;33m)\u001b[0m\u001b[1;33m\u001b[0m\u001b[0m\n\u001b[0m\u001b[0;32m    294\u001b[0m                 \u001b[0mgotit\u001b[0m \u001b[1;33m=\u001b[0m \u001b[1;32mTrue\u001b[0m\u001b[1;33m\u001b[0m\u001b[0m\n\u001b[0;32m    295\u001b[0m             \u001b[1;32melse\u001b[0m\u001b[1;33m:\u001b[0m\u001b[1;33m\u001b[0m\u001b[0m\n",
      "\u001b[1;31mKeyboardInterrupt\u001b[0m: "
     ]
    }
   ],
   "source": [
    "%time model.train(train_corpus, total_examples=model.corpus_count, epochs=model.iter)"
   ]
  },
  {
   "cell_type": "code",
   "execution_count": 17,
   "metadata": {},
   "outputs": [
    {
     "name": "stdout",
     "output_type": "stream",
     "text": [
      "['snomed', 'ct', 'concept', 'clinical', 'finding', 'disease', 'complication', 'complication', 'of', 'procedure', 'complication', 'associated', 'with', 'device', 'complication', 'of', 'implant', 'complication', 'of', 'internal', 'prosthetic', 'device', 'complication', 'of', 'internal', 'prosthetic', 'device', 'complication', 'of', 'internal', 'prosthetic', 'device', 'disorder', 'of', 'bile', 'duct', 'stent', 'complication', 'associated', 'with', 'saline', 'breast', 'implant', 'disorder', 'of', 'bile', 'duct', 'prosthesis', 'cardiac', 'insufficiency', 'due', 'to', 'prosthesis', 'internal', 'prosthetic', 'device', 'causing', 'pain', 'disorder', 'of', 'implanted', 'penile', 'prosthesis', 'disorder', 'of', 'testicular', 'prosthesis', 'disorder', 'of', 'prosthetic', 'joint', 'internal', 'prosthetic', 'device', 'causing', 'stenosis', 'mechanical', 'hemolysis', 'due', 'to', 'cardiovascular', 'prosthetic', 'patch', 'internal', 'prosthetic', 'device', 'causing', 'embolism', 'internal', 'prosthetic', 'device', 'causing', 'fibrosis', 'mechanical', 'complication', 'due', 'to', 'heart', 'valve', 'prosthesis', 'failure', 'of', 'of', 'dental', 'implant', 'disorder', 'of', 'prostheses', 'or', 'implants', 'fracture', 'of', 'dental', 'implant', 'internal', 'prosthetic', 'device', 'causing', 'hemorrhage', 'internal', 'prosthetic', 'device', 'causing', 'thrombus', 'disorder', 'of', 'breast', 'implant', 'disorder', 'of', 'prosthetic', 'cardiac', 'valve', 'prosthetic', 'infection', 'mechanical', 'complication', 'of', 'chin', 'prosthesis', 'complication', 'associated', 'with', 'silicone', 'gel', 'breast', 'implant', 'infection', 'of', 'biliary', 'stent', 'obstruction', 'of', 'biliary', 'stent', 'displacement', 'of', 'biliary', 'stent', 'mechanical', 'complication', 'of', 'bile', 'duct', 'prosthesis', 'displacement', 'of', 'penile', 'prosthesis', 'malfunction', 'of', 'penile', 'prosthesis', 'extrusion', 'of', 'penile', 'prosthesis', 'penile', 'prosthesis', 'infection', 'testicular', 'prosthesis', 'extrusion', 'testicular', 'prosthesis', 'displacement', 'testicular', 'prosthesis', 'infection', 'persistent', 'prosthetic', 'joint', 'pain', 'prosthetic', 'joint', 'infection', 'mechanical', 'complication', 'of', 'internal', 'joint', 'prosthesis', 'mechanical', 'failure', 'of', 'dental', 'implant', 'after', 'failure', 'of', 'of', 'dental', 'implant', 'due', 'to', 'occlusal', 'trauma', 'caused', 'by', 'poor', 'prosthetic', 'design', 'primary', 'failure', 'of', 'of', 'dental', 'implant', 'biological', 'failure', 'of', 'dental', 'implant', 'after', 'disorder', 'of', 'implanted', 'esophageal', 'antireflux', 'device', 'fracture', 'of', 'dental', 'implant', 'screw', 'mechanical', 'complication', 'due', 'to', 'breast', 'prosthesis', 'mechanical', 'complication', 'of', 'breast', 'prosthesis', 'infection', 'of', 'breast', 'implant', 'disorder', 'of', 'pulmonary', 'valve', 'prosthesis', 'mechanical', 'breakdown', 'of', 'prosthetic', 'heart', 'valve', 'disorder', 'of', 'not', 'morphologically', 'mitral', 'or', 'tricuspid', 'valve', 'prosthesis', 'prosthetic', 'cardiac', 'valve', 'dehiscence', 'prosthetic', 'cardiac', 'valve', 'obstruction', 'abscess', 'at', 'site', 'of', 'cardiac', 'valve', 'prosthesis', 'prosthetic', 'cardiac', 'valve', 'vegetation', 'prosthetic', 'cardiac', 'valve', 'regurgitation', 'disorder', 'of', 'tricuspid', 'valve', 'prosthesis', 'disorder', 'of', 'mitral', 'valve', 'prosthesis', 'disorder', 'of', 'aortic', 'valve', 'prosthesis', 'mechanical', 'complication', 'of', 'heart', 'valve', 'prosthesis', 'prosthetic', 'cardiac', 'valve', 'calcification', 'failure', 'of', 'cardiac', 'valve', 'prosthesis', 'prosthetic', 'cardiac', 'valve', 'thrombosis', 'disorder', 'of', 'truncal', 'valve', 'prosthesis', 'infection', 'and', 'inflammatory', 'reaction', 'due', 'to', 'cardiac', 'valve', 'prosthesis'] score:  33.79270553588867\n",
      "['snomed', 'ct', 'concept', 'clinical', 'finding', 'disease', 'finding', 'by', 'site', 'congenital', 'disease', 'degenerative', 'disorder', 'metabolic', 'disease', 'hereditary', 'disease', 'muscle', 'finding', 'finding', 'of', 'body', 'region', 'musculoskeletal', 'finding', 'eye', 'vision', 'finding', 'viscus', 'structure', 'finding', 'disorder', 'by', 'body', 'site', 'general', 'finding', 'of', 'soft', 'tissue', 'cardiovascular', 'finding', 'congenital', 'malformation', 'mitochondrial', 'cytopathy', 'autosomal', 'hereditary', 'disorder', 'finding', 'of', 'head', 'and', 'neck', 'region', 'finding', 'of', 'trunk', 'structure', 'disorder', 'of', 'skeletal', 'and', 'or', 'smooth', 'muscle', 'disorder', 'of', 'body', 'system', 'disorder', 'of', 'soft', 'tissue', 'autosomal', 'recessive', 'hereditary', 'disorder', 'head', 'finding', 'finding', 'of', 'upper', 'trunk', 'disorder', 'of', 'trunk', 'visual', 'system', 'disorder', 'disorder', 'of', 'cardiovascular', 'system', 'hereditary', 'disorder', 'by', 'system', 'disorder', 'of', 'musculoskeletal', 'system', 'globe', 'finding', 'disorder', 'of', 'head', 'finding', 'of', 'region', 'of', 'thorax', 'disorder', 'of', 'thoracic', 'segment', 'of', 'trunk', 'congenital', 'anomaly', 'of', 'visual', 'system', 'hereditary', 'disorder', 'of', 'the', 'visual', 'system', 'cardiovascular', 'system', 'hereditary', 'disorder', 'hereditary', 'disorder', 'of', 'musculoskeletal', 'system', 'disorder', 'of', 'skeletal', 'muscle', 'lesion', 'of', 'eye', 'structure', 'anterior', 'segment', 'finding', 'congenital', 'anomaly', 'of', 'head', 'disorder', 'of', 'eye', 'region', 'mediastinal', 'finding', 'disorder', 'of', 'thorax', 'metabolic', 'myopathy', 'crystalline', 'lens', 'finding', 'disorder', 'of', 'eye', 'proper', 'cardiac', 'finding', 'disorder', 'of', 'mediastinum', 'mitochondrial', 'myopathy', 'cataract', 'finding', 'anomaly', 'of', 'eye', 'degenerative', 'disorder', 'of', 'eye', 'disorder', 'of', 'anterior', 'segment', 'of', 'eye', 'myocardial', 'finding', 'heart', 'disease', 'congenital', 'anomaly', 'of', 'eye', 'disorder', 'of', 'lens', 'myocardial', 'disease', 'structural', 'disorder', 'of', 'heart', 'congenital', 'anomaly', 'of', 'anterior', 'segment', 'of', 'eye', 'cataract', 'cardiomyopathy', 'congenital', 'anomaly', 'of', 'lens', 'hypertrophic', 'cardiomyopathy', 'cardiomyopathy', 'associated', 'with', 'another', 'disorder', 'congenital', 'cataract', 'mitochondrial', 'cardiomyopathy', 'hypertrophic', 'mitochondrial', 'cardiomyopathy', 'congenital', 'cataract', 'hypertrophic', 'cardiomyopathy', 'mitochondrial', 'myopathy', 'syndrome', 'congenital', 'cataract', 'hypertrophic', 'cardiomyopathy', 'mitochondrial', 'myopathy', 'syndrome', 'congenital', 'cataract', 'hypertrophic', 'cardiomyopathy', 'mitochondrial', 'myopathy', 'syndrome'] score:  30.44179916381836\n",
      "['snomed', 'ct', 'concept', 'qualifier', 'value', 'reference', 'documentation', 'protocols', 'care', 'plan', 'care', 'plan', 'care', 'plan', 'angina', 'self', 'management', 'plan', 'ankle', 'brachial', 'pressure', 'index', 'management', 'plan', 'mental', 'health', 'crisis', 'plan', 'diabetes', 'self', 'management', 'plan', 'care', 'program', 'approach', 'care', 'plan', 'patient', 'written', 'birth', 'plan', 'heart', 'failure', 'self', 'management', 'plan', 'clinical', 'management', 'plan', 'cancer', 'care', 'plan', 'psychiatry', 'care', 'plan', 'hyperglycemia', 'self', 'management', 'plan', 'hypoglycemia', 'self', 'management', 'plan', 'transient', 'ischemic', 'attack', 'clinical', 'management', 'plan', 'seizure', 'disorder', 'clinical', 'management', 'plan', 'malnutrition', 'clinical', 'management', 'plan', 'myocardial', 'infarction', 'clinical', 'management', 'plan', 'hyperlipidemia', 'clinical', 'management', 'plan', 'congestive', 'heart', 'failure', 'clinical', 'management', 'plan', 'diabetes', 'clinical', 'management', 'plan', 'coronary', 'heart', 'disease', 'risk', 'clinical', 'management', 'plan', 'major', 'depressive', 'disorder', 'clinical', 'management', 'plan', 'chronic', 'kidney', 'disease', 'clinical', 'management', 'plan', 'hypertension', 'clinical', 'management', 'plan', 'chronic', 'obstructive', 'pulmonary', 'disease', 'clinical', 'management', 'plan', 'arthritis', 'clinical', 'management', 'plan', 'hypothyroidism', 'clinical', 'management', 'plan', 'mental', 'health', 'personal', 'health', 'plan'] score:  25.425357818603516\n",
      "['snomed', 'ct', 'concept', 'procedure', 'procedure', 'by', 'site', 'procedure', 'by', 'method', 'procedure', 'on', 'organ', 'procedure', 'on', 'trunk', 'procedure', 'on', 'body', 'system', 'removal', 'surgical', 'procedure', 'procedure', 'on', 'thorax', 'procedure', 'on', 'cardiovascular', 'system', 'lung', 'and', 'or', 'mediastinum', 'operations', 'surgical', 'removal', 'operation', 'on', 'trunk', 'procedure', 'on', 'mediastinum', 'cardiovascular', 'operative', 'procedure', 'excision', 'surgical', 'procedure', 'on', 'thorax', 'procedure', 'on', 'heart', 'cardiovascular', 'system', 'excision', 'trunk', 'excision', 'operation', 'on', 'mediastinum', 'thorax', 'excision', 'operation', 'on', 'heart', 'resection', 'of', 'mediastinal', 'lesion', 'mediastinum', 'excision', 'excision', 'of', 'lesion', 'of', 'thorax', 'atrial', 'operation', 'excision', 'of', 'lesion', 'of', 'mediastinum', 'excision', 'of', 'lesion', 'of', 'heart', 'excision', 'of', 'lesion', 'of', 'atrium', 'excision', 'of', 'lesion', 'of', 'atrium', 'excision', 'of', 'lesion', 'of', 'atrium', 'excision', 'of', 'right', 'atrial', 'lesion', 'atrial', 'aneurysmectomy', 'excision', 'of', 'left', 'atrial', 'lesion', 'excision', 'of', 'right', 'atrial', 'myxoma', 'excision', 'of', 'right', 'atrial', 'vegetations', 'auricular', 'aneurysmectomy', 'excision', 'of', 'supramitral', 'valve', 'ring', 'excision', 'of', 'left', 'atrial', 'myxoma'] score:  17.019437789916992\n",
      "['snomed', 'ct', 'concept', 'body', 'structure', 'anatomical', 'or', 'acquired', 'body', 'structure', 'anatomical', 'structure', 'body', 'organ', 'structure', 'body', 'region', 'structure', 'body', 'tissue', 'structure', 'body', 'system', 'structure', 'body', 'part', 'structure', 'soft', 'tissues', 'structure', 'of', 'cardiovascular', 'system', 'lower', 'body', 'structure', 'limb', 'structure', 'venous', 'system', 'structure', 'blood', 'vessel', 'structure', 'systemic', 'circulatory', 'system', 'structure', 'regional', 'cardiovascular', 'structure', 'lower', 'body', 'part', 'structure', 'extremity', 'part', 'venous', 'structure', 'peripheral', 'vascular', 'system', 'structure', 'regional', 'blood', 'vessel', 'structure', 'pelvis', 'and', 'or', 'lower', 'extremity', 'structure', 'type', 'of', 'vein', 'systemic', 'venous', 'structure', 'structure', 'of', 'blood', 'vessel', 'of', 'limb', 'lower', 'limb', 'structure', 'structure', 'of', 'deep', 'vein', 'structure', 'of', 'peripheral', 'vein', 'structure', 'of', 'pelvic', 'and', 'leg', 'veins', 'structure', 'of', 'tributary', 'of', 'right', 'atrium', 'lower', 'extremity', 'part', 'venous', 'structure', 'of', 'limb', 'structure', 'of', 'tributary', 'of', 'inferior', 'vena', 'cava', 'vascular', 'structure', 'of', 'lower', 'limb', 'structure', 'of', 'tributary', 'of', 'common', 'iliac', 'vein', 'structure', 'of', 'femoral', 'vessel', 'structure', 'of', 'venous', 'system', 'of', 'lower', 'extremity', 'structure', 'of', 'vein', 'of', 'lower', 'extremity', 'structure', 'of', 'tributary', 'of', 'external', 'iliac', 'vein', 'structure', 'of', 'deep', 'venous', 'system', 'of', 'lower', 'extremity', 'structure', 'of', 'deep', 'vein', 'of', 'lower', 'extremity', 'femoral', 'vein', 'structure', 'femoral', 'vein', 'structure', 'femoral', 'vein', 'structure', 'structure', 'of', 'saphenofemoral', 'junction', 'superficial', 'femoral', 'vein', 'structure', 'entire', 'femoral', 'vein', 'femoral', 'vein', 'part', 'common', 'femoral', 'vein', 'structure', 'entire', 'saphenofemoral', 'junction', 'entire', 'superficial', 'femoral', 'vein', 'entire', 'common', 'femoral', 'vein'] score:  16.943578720092773\n",
      "['snomed', 'ct', 'concept', 'clinical', 'finding', 'disease', 'finding', 'by', 'site', 'congenital', 'disease', 'finding', 'of', 'body', 'region', 'disorder', 'by', 'body', 'site', 'general', 'finding', 'of', 'soft', 'tissue', 'cardiovascular', 'finding', 'congenital', 'malformation', 'finding', 'of', 'head', 'and', 'neck', 'region', 'disorder', 'of', 'body', 'system', 'disorder', 'of', 'soft', 'tissue', 'blood', 'vessel', 'finding', 'finding', 'of', 'neck', 'region', 'disorder', 'of', 'cardiovascular', 'system', 'arterial', 'finding', 'disorder', 'of', 'neck', 'disorder', 'of', 'blood', 'vessel', 'peripheral', 'vascular', 'disease', 'congenital', 'anomaly', 'of', 'cardiovascular', 'system', 'systemic', 'arterial', 'finding', 'congenital', 'anomaly', 'of', 'neck', 'congenital', 'vascular', 'disorder', 'disorder', 'of', 'artery', 'congenital', 'anomaly', 'of', 'peripheral', 'blood', 'vessel', 'carotid', 'artery', 'finding', 'congenital', 'vascular', 'malformation', 'disease', 'of', 'non', 'coronary', 'systemic', 'artery', 'arterial', 'malformation', 'disorder', 'of', 'artery', 'of', 'neck', 'abnormality', 'of', 'aortic', 'arch', 'branch', 'congenital', 'abnormality', 'of', 'systemic', 'artery', 'disorder', 'of', 'carotid', 'artery', 'congenital', 'abnormalities', 'of', 'thoracic', 'aortic', 'branches', 'congenital', 'anomaly', 'of', 'carotid', 'artery', 'congenital', 'abnormality', 'of', 'supraaortic', 'branch', 'of', 'thoracic', 'aorta', 'anomalous', 'origin', 'of', 'left', 'common', 'carotid', 'artery', 'from', 'brachiocephalic', 'artery', 'anomalous', 'origin', 'of', 'left', 'common', 'carotid', 'artery', 'from', 'brachiocephalic', 'artery', 'anomalous', 'origin', 'of', 'left', 'common', 'carotid', 'artery', 'from', 'brachiocephalic', 'artery'] score:  15.158258438110352\n",
      "['snomed', 'ct', 'concept', 'clinical', 'finding', 'disease', 'finding', 'by', 'site', 'finding', 'of', 'body', 'region', 'eye', 'vision', 'finding', 'disorder', 'by', 'body', 'site', 'finding', 'of', 'head', 'and', 'neck', 'region', 'disorder', 'of', 'body', 'system', 'head', 'finding', 'visual', 'system', 'disorder', 'globe', 'finding', 'disorder', 'of', 'head', 'lesion', 'of', 'eye', 'structure', 'disorder', 'of', 'eye', 'region', 'disorder', 'of', 'eye', 'proper', 'rupture', 'of', 'globe', 'rupture', 'of', 'globe', 'rupture', 'of', 'globe', 'rupture', 'in', 'descemet', 'membrane', 'rupture', 'of', 'sphincter', 'of', 'pupil', 'rupture', 'of', 'bowman', 'membrane', 'burn', 'with', 'resulting', 'rupture', 'of', 'eyeball', 'corrosion', 'with', 'resulting', 'rupture', 'and', 'destruction', 'of', 'eyeball', 'rupture', 'of', 'posterior', 'lens', 'capsule', 'as', 'intraoperative', 'complication', 'rupture', 'of', 'pupillary', 'membrane', 'rupture', 'of', 'globe', 'without', 'prolapse', 'of', 'intraocular', 'tissue', 'burn', 'resulting', 'in', 'eyeball', 'rupture', 'and', 'destruction', 'of', 'eyeball', 'rupture', 'of', 'eye', 'with', 'partial', 'loss', 'of', 'intraocular', 'tissue', 'rupture', 'of', 'lens', 'choroidal', 'rupture', 'ruptured', 'descemet', 'membrane', 'due', 'to', 'birth', 'trauma'] score:  14.7694091796875\n",
      "['snomed', 'ct', 'concept', 'observable', 'entity', 'feature', 'of', 'entity', 'feature', 'of', 'entity', 'feature', 'of', 'entity', 'feature', 'of', 'artificial', 'lens', 'feature', 'of', 'abdominal', 'appearance', 'feature', 'of', 'mass', 'temperature', 'binding', 'capacity', 'appearance', 'specimen', 'source', 'fluid', 'observable', 'color', 'feature', 'of', 'anatomical', 'entity', 'cell', 'feature', 'motility', 'abdominal', 'percussion', 'note', 'feature', 'feature', 'of', 'lens', 'capsule', 'in', 'pseudophakia', 'intraocular', 'lens', 'optic', 'edge', 'design', 'intraocular', 'lens', 'optic', 'material', 'intraocular', 'lens', 'anterior', 'chamber', 'depth', 'overall', 'diameter', 'of', 'intraocular', 'lens', 'refractive', 'index', 'of', 'intraocular', 'lens', 'intraocular', 'lens', 'haptic', 'angulation', 'position', 'of', 'artificial', 'lens', 'intraocular', 'lens', 'design', 'constant', 'of', 'intraocular', 'lens', 'intraocular', 'lens', 'manufacturer', 'intraocular', 'lens', 'haptic', 'material', 'intraocular', 'lens', 'implant', 'refractive', 'power', 'intraocular', 'lens', 'form', 'optic', 'diameter', 'of', 'intraocular', 'lens', 'intraocular', 'lens', 'model', 'consistency', 'of', 'abdomen', 'contour', 'of', 'abdomen', 'appearance', 'of', 'skin', 'of', 'abdominal', 'wall', 'color', 'of', 'abdominal', 'wall', 'cough', 'impulse', 'of', 'lump', 'number', 'of', 'lumps', 'movement', 'of', 'mass', 'with', 'respiration', 'lump', 'size', 'acoustic', 'feature', 'of', 'mass', 'total', 'iron', 'binding', 'capacity', 'protein', 'binding', 'capacity', 'function', 'body', 'fluid', 'property', 'optical', 'density', 'osmotic', 'pressure', 'osmolarity', 'osmolality', 'specific', 'gravity', 'feature', 'of', 'circulating', 'blood', 'fluid', 'appearance', 'hydrogen', 'ion', 'concentration', 'oncotic', 'pressure', 'turbidity', 'of', 'fluid', 'viscosity', 'titratable', 'acidity', 'feature', 'of', 'lower', 'limb', 'female', 'genitalia', 'feature', 'nasopharynx', 'feature', 'nose', 'feature', 'eye', 'observable', 'anogenital', 'distance', 'cardiac', 'feature', 'feature', 'of', 'upper', 'limb', 'microorganism', 'motility', 'leukocyte', 'feature', 'erythrocyte', 'feature', 'platelet', 'feature', 'motility', 'of', 'spermatozoa', 'feature', 'of', 'abdominal', 'dullness'] score:  14.203411102294922\n",
      "['snomed', 'ct', 'concept', 'procedure', 'procedure', 'by', 'site', 'procedure', 'by', 'method', 'procedure', 'on', 'soft', 'tissue', 'procedure', 'on', 'body', 'system', 'procedure', 'on', 'extremity', 'introduction', 'procedure', 'on', 'nervous', 'system', 'procedure', 'on', 'lower', 'extremity', 'administration', 'of', 'substance', 'introduction', 'of', 'substance', 'by', 'body', 'site', 'procedure', 'on', 'nerve', 'procedure', 'on', 'peripheral', 'nervous', 'system', 'procedure', 'on', 'knee', 'procedure', 'on', 'lower', 'leg', 'administration', 'of', 'drug', 'or', 'medicament', 'introduction', 'of', 'therapeutic', 'substance', 'into', 'soft', 'tissue', 'procedure', 'on', 'peripheral', 'nerve', 'popliteal', 'fossa', 'nerve', 'block', 'popliteal', 'fossa', 'nerve', 'block', 'lateral', 'approach', 'popliteal', 'fossa', 'nerve', 'block', 'lateral', 'approach', 'popliteal', 'fossa', 'nerve', 'block', 'lateral', 'approach'] score:  13.262630462646484\n",
      "['snomed', 'ct', 'concept', 'body', 'structure', 'anatomical', 'or', 'acquired', 'body', 'structure', 'anatomical', 'structure', 'body', 'organ', 'structure', 'body', 'region', 'structure', 'structure', 'of', 'anatomical', 'cluster', 'body', 'system', 'structure', 'structure', 'of', 'viscus', 'organ', 'part', 'body', 'part', 'structure', 'structure', 'of', 'half', 'of', 'body', 'lateral', 'to', 'midsagittal', 'plane', 'chest', 'and', 'or', 'abdomen', 'and', 'or', 'pelvis', 'structure', 'neck', 'and', 'or', 'chest', 'and', 'or', 'abdomen', 'and', 'or', 'pelvis', 'structure', 'of', 'anatomical', 'compartment', 'structure', 'of', 'respiratory', 'system', 'and', 'or', 'intrathoracic', 'structure', 'structure', 'of', 'lung', 'and', 'or', 'mediastinum', 'trunk', 'structure', 'upper', 'body', 'structure', 'structure', 'of', 'right', 'half', 'of', 'body', 'neck', 'and', 'or', 'chest', 'and', 'or', 'abdomen', 'structure', 'structure', 'of', 'respiratory', 'system', 'pulmonary', 'structure', 'including', 'vessels', 'and', 'lymphoid', 'tissue', 'structure', 'of', 'half', 'of', 'trunk', 'lateral', 'to', 'midsagittal', 'plane', 'structure', 'of', 'body', 'compartment', 'structure', 'of', 'subregion', 'of', 'trunk', 'upper', 'body', 'part', 'structure', 'chest', 'and', 'or', 'abdomen', 'structure', 'neck', 'and', 'or', 'chest', 'structure', 'lower', 'respiratory', 'system', 'structure', 'respiratory', 'tract', 'structure', 'structure', 'of', 'right', 'side', 'of', 'trunk', 'upper', 'trunk', 'structure', 'lower', 'respiratory', 'tract', 'structure', 'thoracic', 'structure', 'structure', 'of', 'half', 'of', 'thorax', 'lateral', 'to', 'midsagittal', 'plane', 'structure', 'of', 'compartment', 'of', 'thorax', 'right', 'thorax', 'structure', 'structure', 'of', 'thoracic', 'viscus', 'structure', 'of', 'pulmopleural', 'compartment', 'lung', 'structure', 'right', 'lung', 'structure', 'lung', 'part', 'structure', 'of', 'lobe', 'of', 'lung', 'segment', 'structure', 'structure', 'of', 'middle', 'lobe', 'of', 'lung', 'structure', 'of', 'lobe', 'of', 'right', 'lung', 'structure', 'of', 'segment', 'of', 'right', 'lung', 'structure', 'of', 'middle', 'lobe', 'of', 'right', 'lung', 'segment', 'of', 'middle', 'lobe', 'of', 'right', 'lung', 'structure', 'of', 'lateral', 'segment', 'of', 'right', 'middle', 'lobe', 'of', 'lung', 'structure', 'of', 'lateral', 'segment', 'of', 'right', 'middle', 'lobe', 'of', 'lung', 'structure', 'of', 'lateral', 'segment', 'of', 'right', 'middle', 'lobe', 'of', 'lung', 'entire', 'lateral', 'segment', 'of', 'right', 'middle', 'lobe', 'of', 'lung', 'structure', 'of', 'right', 'middle', 'lobe', 'lateral', 'segmental', 'bronchus', 'entire', 'right', 'middle', 'lobe', 'lateral', 'segmental', 'bronchus'] score:  12.991545677185059\n",
      "snomed ct concept\tclinical finding\tdisease\tcomplication\tcomplication of procedure\tcomplication associated with device\tcomplication of implant\tcomplication of internal prosthetic device\tcomplication of internal prosthetic device\tcomplication of internal prosthetic device\tdisorder of bile duct stent\tcomplication associated with saline breast implant\tdisorder of bile duct prosthesis\tcardiac insufficiency due to prosthesis\tinternal prosthetic device causing pain\tdisorder of implanted penile prosthesis\tdisorder of testicular prosthesis\tdisorder of prosthetic joint\tinternal prosthetic device causing stenosis\tmechanical hemolysis due to cardiovascular prosthetic patch\tinternal prosthetic device causing embolism\tinternal prosthetic device causing fibrosis\tmechanical complication due to heart valve prosthesis\tfailure of osseointegration of dental implant\tdisorder of gastrointestinal prostheses or implants\tfracture of dental implant\tinternal prosthetic device causing hemorrhage\tinternal prosthetic device causing thrombus\tdisorder of breast implant\tdisorder of prosthetic cardiac valve\tprosthetic infection\tmechanical complication of chin prosthesis\tcomplication associated with silicone gel breast implant\tinfection of biliary stent\tobstruction of biliary stent\tdisplacement of biliary stent\tmechanical complication of bile duct prosthesis\tdisplacement of penile prosthesis\tmalfunction of penile prosthesis\textrusion of penile prosthesis\tpenile prosthesis infection\ttesticular prosthesis extrusion\ttesticular prosthesis displacement\ttesticular prosthesis infection\tpersistent prosthetic joint pain\tprosthetic joint infection\tmechanical complication of internal joint prosthesis\tmechanical failure of dental implant after osseointegration\tfailure of osseointegration of dental implant due to occlusal trauma caused by poor prosthetic design\tprimary failure of osseointegration of dental implant\tbiological failure of dental implant after osseointegration\tdisorder of implanted esophageal antireflux device\tfracture of dental implant screw\tmechanical complication due to breast prosthesis\tmechanical complication of breast prosthesis\tinfection of breast implant\tdisorder of pulmonary valve prosthesis\tmechanical breakdown of prosthetic heart valve\tdisorder of atrioventricular (not morphologically mitral or tricuspid) valve prosthesis\tprosthetic cardiac valve dehiscence\tprosthetic cardiac valve obstruction\tabscess at site of cardiac valve prosthesis\tprosthetic cardiac valve vegetation\tprosthetic cardiac valve regurgitation\tdisorder of tricuspid valve prosthesis\tdisorder of mitral valve prosthesis\tdisorder of aortic valve prosthesis\tmechanical complication of heart valve prosthesis\tprosthetic cardiac valve calcification\tfailure of cardiac valve prosthesis\tprosthetic cardiac valve thrombosis\tdisorder of truncal valve prosthesis\tinfection and inflammatory reaction due to cardiac valve prosthesis\r\n",
      " score:  33.79270553588867\n",
      "snomed ct concept\tclinical finding\tdisease\tfinding by site\tcongenital disease\tdegenerative disorder\tmetabolic disease\thereditary disease\tmuscle finding\tfinding of body region\tmusculoskeletal finding\teye / vision finding\tviscus structure finding\tdisorder by body site\tgeneral finding of soft tissue\tcardiovascular finding\tcongenital malformation\tmitochondrial cytopathy\tautosomal hereditary disorder\tfinding of head and neck region\tfinding of trunk structure\tdisorder of skeletal and/or smooth muscle\tdisorder of body system\tdisorder of soft tissue\tautosomal recessive hereditary disorder\thead finding\tfinding of upper trunk\tdisorder of trunk\tvisual system disorder\tdisorder of cardiovascular system\thereditary disorder by system\tdisorder of musculoskeletal system\tglobe finding\tdisorder of head\tfinding of region of thorax\tdisorder of thoracic segment of trunk\tcongenital anomaly of visual system\thereditary disorder of the visual system\tcardiovascular system hereditary disorder\thereditary disorder of musculoskeletal system\tdisorder of skeletal muscle\tlesion of eye structure\tanterior segment finding\tcongenital anomaly of head\tdisorder of eye region\tmediastinal finding\tdisorder of thorax\tmetabolic myopathy\tcrystalline lens finding\tdisorder of eye proper\tcardiac finding\tdisorder of mediastinum\tmitochondrial myopathy\tcataract finding\tanomaly of eye\tdegenerative disorder of eye\tdisorder of anterior segment of eye\tmyocardial finding\theart disease\tcongenital anomaly of eye\tdisorder of lens\tmyocardial disease\tstructural disorder of heart\tcongenital anomaly of anterior segment of eye\tcataract\tcardiomyopathy\tcongenital anomaly of lens\thypertrophic cardiomyopathy\tcardiomyopathy associated with another disorder\tcongenital cataract\tmitochondrial cardiomyopathy\thypertrophic mitochondrial cardiomyopathy\tcongenital cataract, hypertrophic cardiomyopathy, mitochondrial myopathy syndrome\tcongenital cataract, hypertrophic cardiomyopathy, mitochondrial myopathy syndrome\tcongenital cataract, hypertrophic cardiomyopathy, mitochondrial myopathy syndrome\r\n",
      " score:  30.44179916381836\n",
      "snomed ct concept\tqualifier value\treference documentation\tprotocols\tcare plan\tcare plan\tcare plan\tangina self management plan\tankle brachial pressure index management plan\tmental health crisis plan\tdiabetes self management plan\tcare program approach care plan\tpatient written birth plan\theart failure self management plan\tclinical management plan\tcancer care plan\tpsychiatry care plan\thyperglycemia self management plan\thypoglycemia self management plan\ttransient ischemic attack clinical management plan\tseizure disorder clinical management plan\tmalnutrition clinical management plan\tmyocardial infarction clinical management plan\thyperlipidemia clinical management plan\tcongestive heart failure clinical management plan\tdiabetes clinical management plan\tcoronary heart disease risk clinical management plan\tmajor depressive disorder clinical management plan\tchronic kidney disease clinical management plan\thypertension clinical management plan\tchronic obstructive pulmonary disease clinical management plan\tarthritis clinical management plan\thypothyroidism clinical management plan\tmental health personal health plan\r\n",
      " score:  25.425357818603516\n",
      "snomed ct concept\tprocedure\tprocedure by site\tprocedure by method\tprocedure on organ\tprocedure on trunk\tprocedure on body system\tremoval\tsurgical procedure\tprocedure on thorax\tprocedure on cardiovascular system\tlung and/or mediastinum operations\tsurgical removal\toperation on trunk\tprocedure on mediastinum\tcardiovascular operative procedure\texcision\tsurgical procedure on thorax\tprocedure on heart\tcardiovascular system excision\ttrunk excision\toperation on mediastinum\tthorax excision\toperation on heart\tresection of mediastinal lesion\tmediastinum excision\texcision of lesion of thorax\tatrial operation\texcision of lesion of mediastinum\texcision of lesion of heart\texcision of lesion of atrium\texcision of lesion of atrium\texcision of lesion of atrium\texcision of right atrial lesion\tatrial aneurysmectomy\texcision of left atrial lesion\texcision of right atrial myxoma\texcision of right atrial vegetations\tauricular aneurysmectomy\texcision of supramitral valve ring\texcision of left atrial myxoma\r\n",
      " score:  17.019437789916992\n",
      "snomed ct concept\tbody structure\tanatomical or acquired body structure\tanatomical structure\tbody organ structure\tbody region structure\tbody tissue structure\tbody system structure\tbody part structure\tsoft tissues\tstructure of cardiovascular system\tlower body structure\tlimb structure\tvenous system structure\tblood vessel structure\tsystemic circulatory system structure\tregional cardiovascular structure\tlower body part structure\textremity part\tvenous structure\tperipheral vascular system structure\tregional blood vessel structure\tpelvis and/or lower extremity structure\ttype of vein\tsystemic venous structure\tstructure of blood vessel of limb\tlower limb structure\tstructure of deep vein\tstructure of peripheral vein\tstructure of pelvic and leg veins\tstructure of tributary of right atrium\tlower extremity part\tvenous structure of limb\tstructure of tributary of inferior vena cava\tvascular structure of lower limb\tstructure of tributary of common iliac vein\tstructure of femoral vessel\tstructure of venous system of lower extremity\tstructure of vein of lower extremity\tstructure of tributary of external iliac vein\tstructure of deep venous system of lower extremity\tstructure of deep vein of lower extremity\tfemoral vein structure\tfemoral vein structure\tfemoral vein structure\tstructure of saphenofemoral junction\tsuperficial femoral vein structure\tentire femoral vein\tfemoral vein part\tcommon femoral vein structure\tentire saphenofemoral junction\tentire superficial femoral vein\tentire common femoral vein\r\n",
      " score:  16.943578720092773\n",
      "snomed ct concept\tclinical finding\tdisease\tfinding by site\tcongenital disease\tfinding of body region\tdisorder by body site\tgeneral finding of soft tissue\tcardiovascular finding\tcongenital malformation\tfinding of head and neck region\tdisorder of body system\tdisorder of soft tissue\tblood vessel finding\tfinding of neck region\tdisorder of cardiovascular system\tarterial finding\tdisorder of neck\tdisorder of blood vessel\tperipheral vascular disease\tcongenital anomaly of cardiovascular system\tsystemic arterial finding\tcongenital anomaly of neck\tcongenital vascular disorder\tdisorder of artery\tcongenital anomaly of peripheral blood vessel\tcarotid artery finding\tcongenital vascular malformation\tdisease of non-coronary systemic artery\tarterial malformation\tdisorder of artery of neck\tabnormality of aortic arch branch\tcongenital abnormality of systemic artery\tdisorder of carotid artery\tcongenital abnormalities of thoracic aortic branches\tcongenital anomaly of carotid artery\tcongenital abnormality of supraaortic branch of thoracic aorta\tanomalous origin of left common carotid artery from brachiocephalic artery\tanomalous origin of left common carotid artery from brachiocephalic artery\tanomalous origin of left common carotid artery from brachiocephalic artery\r\n",
      " score:  15.158258438110352\n",
      "snomed ct concept\tclinical finding\tdisease\tfinding by site\tfinding of body region\teye / vision finding\tdisorder by body site\tfinding of head and neck region\tdisorder of body system\thead finding\tvisual system disorder\tglobe finding\tdisorder of head\tlesion of eye structure\tdisorder of eye region\tdisorder of eye proper\trupture of globe\trupture of globe\trupture of globe\trupture in descemet's membrane\trupture of sphincter of pupil\trupture of bowman's membrane\tburn with resulting rupture of eyeball\tcorrosion with resulting rupture and destruction of eyeball\trupture of posterior lens capsule as intraoperative complication\trupture of pupillary membrane\trupture of globe without prolapse of intraocular tissue\tburn resulting in eyeball rupture and destruction of eyeball\trupture of eye with partial loss of intraocular tissue\trupture of lens\tchoroidal rupture\truptured descemet membrane due to birth trauma\r\n",
      " score:  14.7694091796875\n",
      "snomed ct concept\tobservable entity\tfeature of entity\tfeature of entity\tfeature of entity\tfeature of artificial lens\tfeature of abdominal appearance\tfeature of a mass\ttemperature\tbinding capacity\tappearance\tspecimen source\tfluid observable\tcolor\tfeature of anatomical entity\tcell feature\tmotility\tabdominal percussion note feature\tfeature of lens capsule in pseudophakia\tintraocular lens optic edge design\tintraocular lens optic material\tintraocular lens anterior chamber depth\toverall diameter of intraocular lens\trefractive index of intraocular lens\tintraocular lens haptic angulation\tposition of artificial lens\tintraocular lens design\ta-constant of intraocular lens\tintraocular lens manufacturer\tintraocular lens haptic material\tintraocular lens implant refractive power\tintraocular lens form\toptic diameter of intraocular lens\tintraocular lens model\tconsistency of abdomen\tcontour of abdomen\tappearance of skin of abdominal wall\tcolor of abdominal wall\tcough impulse of lump\tnumber of lumps\tmovement of mass with respiration\tlump size\tacoustic feature of mass\ttotal iron binding capacity\tprotein binding capacity, function\tbody fluid property\toptical density\tosmotic pressure\tosmolarity\tosmolality\tspecific gravity\tfeature of circulating blood\tfluid appearance\thydrogen ion concentration\toncotic pressure\tturbidity of fluid\tviscosity\ttitratable acidity\tfeature of lower limb\tfemale genitalia feature\tnasopharynx feature\tnose feature\teye observable\tanogenital distance\tcardiac feature\tfeature of upper limb\tmicroorganism motility\tleukocyte feature\terythrocyte feature\tplatelet feature\tmotility of spermatozoa\tfeature of abdominal dullness\r\n",
      " score:  14.203411102294922\n",
      "snomed ct concept\tprocedure\tprocedure by site\tprocedure by method\tprocedure on soft tissue\tprocedure on body system\tprocedure on extremity\tintroduction\tprocedure on nervous system\tprocedure on lower extremity\tadministration of substance\tintroduction of substance by body site\tprocedure on nerve\tprocedure on peripheral nervous system\tprocedure on knee\tprocedure on lower leg\tadministration of drug or medicament\tintroduction of therapeutic substance into soft tissue\tprocedure on peripheral nerve\tpopliteal fossa nerve block\tpopliteal fossa nerve block, lateral approach\tpopliteal fossa nerve block, lateral approach\tpopliteal fossa nerve block, lateral approach\r\n",
      " score:  13.262630462646484\n",
      "snomed ct concept\tbody structure\tanatomical or acquired body structure\tanatomical structure\tbody organ structure\tbody region structure\tstructure of anatomical cluster\tbody system structure\tstructure of viscus\torgan part\tbody part structure\tstructure of half of body lateral to midsagittal plane\tchest and/or abdomen and/or pelvis structure\tneck and/or chest and/or abdomen and/or pelvis\tstructure of anatomical compartment\tstructure of respiratory system and/or intrathoracic structure\tstructure of lung and/or mediastinum\ttrunk structure\tupper body structure\tstructure of right half of body\tneck and/or chest and/or abdomen structure\tstructure of respiratory system\tpulmonary structure including vessels and lymphoid tissue\tstructure of half of trunk lateral to midsagittal plane\tstructure of body compartment\tstructure of subregion of trunk\tupper body part structure\tchest and/or abdomen structure\tneck and/or chest structure\tlower respiratory system structure\trespiratory tract structure\tstructure of right side of trunk\tupper trunk structure\tlower respiratory tract structure\tthoracic structure\tstructure of half of thorax lateral to midsagittal plane\tstructure of compartment of thorax\tright thorax structure\tstructure of thoracic viscus\tstructure of pulmopleural compartment\tlung structure\tright lung structure\tlung part\tstructure of lobe of lung\tbronchopulmonary segment structure\tstructure of middle lobe of lung\tstructure of lobe of right lung\tstructure of segment of right lung\tstructure of middle lobe of right lung\tsegment of middle lobe of right lung\tstructure of lateral segment of right middle lobe of lung\tstructure of lateral segment of right middle lobe of lung\tstructure of lateral segment of right middle lobe of lung\tentire lateral segment of right middle lobe of lung\tstructure of right middle lobe lateral segmental bronchus\tentire right middle lobe lateral segmental bronchus\r\n",
      " score:  12.991545677185059\n"
     ]
    }
   ],
   "source": [
    "# inferred_vector = model.infer_vector(['clinical', 'finding', 'evaluation', 'prevent', 'sampling', 'foot'])\n",
    "inferred_vector = model.infer_vector(['congenital', 'prolong', 'rupture', 'premature', 'membrane', 'lung'])\n",
    "\n",
    "\n",
    "sims = model.docvecs.most_similar([inferred_vector], topn=10)\n",
    "\n",
    "\n",
    "for sim in sims:\n",
    "    print(train_corpus[sim[0]].words, \"score: \", sim[1])\n",
    "    \n",
    "for sim in sims:\n",
    "    print(conceptMappingDict[sim[0]], \"score: \", sim[1])\n",
    "  "
   ]
  },
  {
   "cell_type": "code",
   "execution_count": 9,
   "metadata": {},
   "outputs": [],
   "source": [
    "from tempfile import mkstemp\n",
    "\n",
    "fs, temp_path = mkstemp(\"gensim_temp\")  # creates a temp file\n",
    "\n",
    "model.save(temp_path)  # save the model"
   ]
  },
  {
   "cell_type": "code",
   "execution_count": 10,
   "metadata": {},
   "outputs": [],
   "source": [
    "new_model = gensim.models.Doc2Vec.load(temp_path)"
   ]
  },
  {
   "cell_type": "code",
   "execution_count": 12,
   "metadata": {},
   "outputs": [],
   "source": [
    "cores = multiprocessing.cpu_count()\n",
    "\n",
    "models = [\n",
    "    # PV-DBOW \n",
    "    Doc2Vec(dm=0, dbow_words=1, size=200, window=8, min_count=1, iter=10, workers=cores),\n",
    "    # PV-DM w/average\n",
    "    Doc2Vec(dm=1, dm_mean=1, size=200, window=8, min_count=1, iter =10, workers=cores),\n",
    "]\n"
   ]
  },
  {
   "cell_type": "code",
   "execution_count": 13,
   "metadata": {},
   "outputs": [
    {
     "name": "stdout",
     "output_type": "stream",
     "text": [
      "Doc2Vec(dbow+w,d200,n5,w8,s0.001,t4)\n",
      "Doc2Vec(dm/m,d200,n5,w8,s0.001,t4)\n"
     ]
    }
   ],
   "source": [
    "models[0].build_vocab(train_corpus)\n",
    "print(str(models[0]))\n",
    "models[1].reset_from(models[0])\n",
    "print(str(models[1]))"
   ]
  },
  {
   "cell_type": "code",
   "execution_count": 15,
   "metadata": {},
   "outputs": [
    {
     "ename": "KeyboardInterrupt",
     "evalue": "",
     "output_type": "error",
     "traceback": [
      "\u001b[1;31m---------------------------------------------------------------------------\u001b[0m",
      "\u001b[1;31mKeyboardInterrupt\u001b[0m                         Traceback (most recent call last)",
      "\u001b[1;32m<timed eval>\u001b[0m in \u001b[0;36m<module>\u001b[1;34m()\u001b[0m\n",
      "\u001b[1;32m~\\AppData\\Local\\conda\\conda\\envs\\MLOntology\\lib\\site-packages\\gensim\\models\\word2vec.py\u001b[0m in \u001b[0;36mtrain\u001b[1;34m(self, sentences, total_examples, total_words, epochs, start_alpha, end_alpha, word_count, queue_factor, report_delay, compute_loss)\u001b[0m\n\u001b[0;32m   1048\u001b[0m \u001b[1;33m\u001b[0m\u001b[0m\n\u001b[0;32m   1049\u001b[0m         \u001b[1;32mwhile\u001b[0m \u001b[0munfinished_worker_count\u001b[0m \u001b[1;33m>\u001b[0m \u001b[1;36m0\u001b[0m\u001b[1;33m:\u001b[0m\u001b[1;33m\u001b[0m\u001b[0m\n\u001b[1;32m-> 1050\u001b[1;33m             \u001b[0mreport\u001b[0m \u001b[1;33m=\u001b[0m \u001b[0mprogress_queue\u001b[0m\u001b[1;33m.\u001b[0m\u001b[0mget\u001b[0m\u001b[1;33m(\u001b[0m\u001b[1;33m)\u001b[0m  \u001b[1;31m# blocks if workers too slow\u001b[0m\u001b[1;33m\u001b[0m\u001b[0m\n\u001b[0m\u001b[0;32m   1051\u001b[0m             \u001b[1;32mif\u001b[0m \u001b[0mreport\u001b[0m \u001b[1;32mis\u001b[0m \u001b[1;32mNone\u001b[0m\u001b[1;33m:\u001b[0m  \u001b[1;31m# a thread reporting that it finished\u001b[0m\u001b[1;33m\u001b[0m\u001b[0m\n\u001b[0;32m   1052\u001b[0m                 \u001b[0munfinished_worker_count\u001b[0m \u001b[1;33m-=\u001b[0m \u001b[1;36m1\u001b[0m\u001b[1;33m\u001b[0m\u001b[0m\n",
      "\u001b[1;32m~\\AppData\\Local\\conda\\conda\\envs\\MLOntology\\lib\\queue.py\u001b[0m in \u001b[0;36mget\u001b[1;34m(self, block, timeout)\u001b[0m\n\u001b[0;32m    162\u001b[0m             \u001b[1;32melif\u001b[0m \u001b[0mtimeout\u001b[0m \u001b[1;32mis\u001b[0m \u001b[1;32mNone\u001b[0m\u001b[1;33m:\u001b[0m\u001b[1;33m\u001b[0m\u001b[0m\n\u001b[0;32m    163\u001b[0m                 \u001b[1;32mwhile\u001b[0m \u001b[1;32mnot\u001b[0m \u001b[0mself\u001b[0m\u001b[1;33m.\u001b[0m\u001b[0m_qsize\u001b[0m\u001b[1;33m(\u001b[0m\u001b[1;33m)\u001b[0m\u001b[1;33m:\u001b[0m\u001b[1;33m\u001b[0m\u001b[0m\n\u001b[1;32m--> 164\u001b[1;33m                     \u001b[0mself\u001b[0m\u001b[1;33m.\u001b[0m\u001b[0mnot_empty\u001b[0m\u001b[1;33m.\u001b[0m\u001b[0mwait\u001b[0m\u001b[1;33m(\u001b[0m\u001b[1;33m)\u001b[0m\u001b[1;33m\u001b[0m\u001b[0m\n\u001b[0m\u001b[0;32m    165\u001b[0m             \u001b[1;32melif\u001b[0m \u001b[0mtimeout\u001b[0m \u001b[1;33m<\u001b[0m \u001b[1;36m0\u001b[0m\u001b[1;33m:\u001b[0m\u001b[1;33m\u001b[0m\u001b[0m\n\u001b[0;32m    166\u001b[0m                 \u001b[1;32mraise\u001b[0m \u001b[0mValueError\u001b[0m\u001b[1;33m(\u001b[0m\u001b[1;34m\"'timeout' must be a non-negative number\"\u001b[0m\u001b[1;33m)\u001b[0m\u001b[1;33m\u001b[0m\u001b[0m\n",
      "\u001b[1;32m~\\AppData\\Local\\conda\\conda\\envs\\MLOntology\\lib\\threading.py\u001b[0m in \u001b[0;36mwait\u001b[1;34m(self, timeout)\u001b[0m\n\u001b[0;32m    291\u001b[0m         \u001b[1;32mtry\u001b[0m\u001b[1;33m:\u001b[0m    \u001b[1;31m# restore state no matter what (e.g., KeyboardInterrupt)\u001b[0m\u001b[1;33m\u001b[0m\u001b[0m\n\u001b[0;32m    292\u001b[0m             \u001b[1;32mif\u001b[0m \u001b[0mtimeout\u001b[0m \u001b[1;32mis\u001b[0m \u001b[1;32mNone\u001b[0m\u001b[1;33m:\u001b[0m\u001b[1;33m\u001b[0m\u001b[0m\n\u001b[1;32m--> 293\u001b[1;33m                 \u001b[0mwaiter\u001b[0m\u001b[1;33m.\u001b[0m\u001b[0macquire\u001b[0m\u001b[1;33m(\u001b[0m\u001b[1;33m)\u001b[0m\u001b[1;33m\u001b[0m\u001b[0m\n\u001b[0m\u001b[0;32m    294\u001b[0m                 \u001b[0mgotit\u001b[0m \u001b[1;33m=\u001b[0m \u001b[1;32mTrue\u001b[0m\u001b[1;33m\u001b[0m\u001b[0m\n\u001b[0;32m    295\u001b[0m             \u001b[1;32melse\u001b[0m\u001b[1;33m:\u001b[0m\u001b[1;33m\u001b[0m\u001b[0m\n",
      "\u001b[1;31mKeyboardInterrupt\u001b[0m: "
     ]
    },
    {
     "ename": "KeyboardInterrupt",
     "evalue": "",
     "output_type": "error",
     "traceback": [
      "\u001b[1;31m---------------------------------------------------------------------------\u001b[0m",
      "\u001b[1;31mKeyboardInterrupt\u001b[0m                         Traceback (most recent call last)",
      "\u001b[1;32m<timed eval>\u001b[0m in \u001b[0;36m<module>\u001b[1;34m()\u001b[0m\n",
      "\u001b[1;32m~\\AppData\\Local\\conda\\conda\\envs\\MLOntology\\lib\\site-packages\\gensim\\models\\word2vec.py\u001b[0m in \u001b[0;36mtrain\u001b[1;34m(self, sentences, total_examples, total_words, epochs, start_alpha, end_alpha, word_count, queue_factor, report_delay, compute_loss)\u001b[0m\n\u001b[0;32m   1048\u001b[0m \u001b[1;33m\u001b[0m\u001b[0m\n\u001b[0;32m   1049\u001b[0m         \u001b[1;32mwhile\u001b[0m \u001b[0munfinished_worker_count\u001b[0m \u001b[1;33m>\u001b[0m \u001b[1;36m0\u001b[0m\u001b[1;33m:\u001b[0m\u001b[1;33m\u001b[0m\u001b[0m\n\u001b[1;32m-> 1050\u001b[1;33m             \u001b[0mreport\u001b[0m \u001b[1;33m=\u001b[0m \u001b[0mprogress_queue\u001b[0m\u001b[1;33m.\u001b[0m\u001b[0mget\u001b[0m\u001b[1;33m(\u001b[0m\u001b[1;33m)\u001b[0m  \u001b[1;31m# blocks if workers too slow\u001b[0m\u001b[1;33m\u001b[0m\u001b[0m\n\u001b[0m\u001b[0;32m   1051\u001b[0m             \u001b[1;32mif\u001b[0m \u001b[0mreport\u001b[0m \u001b[1;32mis\u001b[0m \u001b[1;32mNone\u001b[0m\u001b[1;33m:\u001b[0m  \u001b[1;31m# a thread reporting that it finished\u001b[0m\u001b[1;33m\u001b[0m\u001b[0m\n\u001b[0;32m   1052\u001b[0m                 \u001b[0munfinished_worker_count\u001b[0m \u001b[1;33m-=\u001b[0m \u001b[1;36m1\u001b[0m\u001b[1;33m\u001b[0m\u001b[0m\n",
      "\u001b[1;32m~\\AppData\\Local\\conda\\conda\\envs\\MLOntology\\lib\\queue.py\u001b[0m in \u001b[0;36mget\u001b[1;34m(self, block, timeout)\u001b[0m\n\u001b[0;32m    162\u001b[0m             \u001b[1;32melif\u001b[0m \u001b[0mtimeout\u001b[0m \u001b[1;32mis\u001b[0m \u001b[1;32mNone\u001b[0m\u001b[1;33m:\u001b[0m\u001b[1;33m\u001b[0m\u001b[0m\n\u001b[0;32m    163\u001b[0m                 \u001b[1;32mwhile\u001b[0m \u001b[1;32mnot\u001b[0m \u001b[0mself\u001b[0m\u001b[1;33m.\u001b[0m\u001b[0m_qsize\u001b[0m\u001b[1;33m(\u001b[0m\u001b[1;33m)\u001b[0m\u001b[1;33m:\u001b[0m\u001b[1;33m\u001b[0m\u001b[0m\n\u001b[1;32m--> 164\u001b[1;33m                     \u001b[0mself\u001b[0m\u001b[1;33m.\u001b[0m\u001b[0mnot_empty\u001b[0m\u001b[1;33m.\u001b[0m\u001b[0mwait\u001b[0m\u001b[1;33m(\u001b[0m\u001b[1;33m)\u001b[0m\u001b[1;33m\u001b[0m\u001b[0m\n\u001b[0m\u001b[0;32m    165\u001b[0m             \u001b[1;32melif\u001b[0m \u001b[0mtimeout\u001b[0m \u001b[1;33m<\u001b[0m \u001b[1;36m0\u001b[0m\u001b[1;33m:\u001b[0m\u001b[1;33m\u001b[0m\u001b[0m\n\u001b[0;32m    166\u001b[0m                 \u001b[1;32mraise\u001b[0m \u001b[0mValueError\u001b[0m\u001b[1;33m(\u001b[0m\u001b[1;34m\"'timeout' must be a non-negative number\"\u001b[0m\u001b[1;33m)\u001b[0m\u001b[1;33m\u001b[0m\u001b[0m\n",
      "\u001b[1;32m~\\AppData\\Local\\conda\\conda\\envs\\MLOntology\\lib\\threading.py\u001b[0m in \u001b[0;36mwait\u001b[1;34m(self, timeout)\u001b[0m\n\u001b[0;32m    291\u001b[0m         \u001b[1;32mtry\u001b[0m\u001b[1;33m:\u001b[0m    \u001b[1;31m# restore state no matter what (e.g., KeyboardInterrupt)\u001b[0m\u001b[1;33m\u001b[0m\u001b[0m\n\u001b[0;32m    292\u001b[0m             \u001b[1;32mif\u001b[0m \u001b[0mtimeout\u001b[0m \u001b[1;32mis\u001b[0m \u001b[1;32mNone\u001b[0m\u001b[1;33m:\u001b[0m\u001b[1;33m\u001b[0m\u001b[0m\n\u001b[1;32m--> 293\u001b[1;33m                 \u001b[0mwaiter\u001b[0m\u001b[1;33m.\u001b[0m\u001b[0macquire\u001b[0m\u001b[1;33m(\u001b[0m\u001b[1;33m)\u001b[0m\u001b[1;33m\u001b[0m\u001b[0m\n\u001b[0m\u001b[0;32m    294\u001b[0m                 \u001b[0mgotit\u001b[0m \u001b[1;33m=\u001b[0m \u001b[1;32mTrue\u001b[0m\u001b[1;33m\u001b[0m\u001b[0m\n\u001b[0;32m    295\u001b[0m             \u001b[1;32melse\u001b[0m\u001b[1;33m:\u001b[0m\u001b[1;33m\u001b[0m\u001b[0m\n",
      "\u001b[1;31mKeyboardInterrupt\u001b[0m: "
     ]
    }
   ],
   "source": [
    "for model in models:\n",
    "    %%time model.train(train_corpus, total_examples=model.corpus_count, epochs=model.iter)"
   ]
  },
  {
   "cell_type": "code",
   "execution_count": null,
   "metadata": {},
   "outputs": [],
   "source": [
    "for model in models:\n",
    "    print(str(model))\n",
    "    pprint(model.docvecs.most_similar(positive=[\"Machine learning\"], topn=20))"
   ]
  },
  {
   "cell_type": "code",
   "execution_count": null,
   "metadata": {},
   "outputs": [],
   "source": [
    "for model in models:\n",
    "    print(str(model))\n",
    "    vec = [model.docvecs[\"Lady Gaga\"] - model[\"american\"] + model[\"japanese\"]]\n",
    "    pprint([m for m in model.docvecs.most_similar(vec, topn=11) if m[0] != \"Lady Gaga\"])"
   ]
  },
  {
   "cell_type": "code",
   "execution_count": null,
   "metadata": {
    "scrolled": true
   },
   "outputs": [],
   "source": [
    "print(\"Total: \",len(train_corpus))\n",
    "\n",
    "\n",
    "ranks = []\n",
    "second_ranks = []\n",
    "for doc_id in range(len(train_corpus)):\n",
    "    print(\"Processing: \", doc_id)\n",
    "    inferred_vector = model.infer_vector(train_corpus[doc_id].words)\n",
    "    sims = model.docvecs.most_similar([inferred_vector], topn=len(model.docvecs))\n",
    "    rank = [docid for docid, sim in sims].index(doc_id)\n",
    "    ranks.append(rank)\n",
    "    \n",
    "    second_ranks.append(sims[1])"
   ]
  },
  {
   "cell_type": "code",
   "execution_count": null,
   "metadata": {},
   "outputs": [],
   "source": [
    "collections.Counter(ranks) "
   ]
  },
  {
   "cell_type": "code",
   "execution_count": null,
   "metadata": {},
   "outputs": [],
   "source": []
  }
 ],
 "metadata": {
  "kernelspec": {
   "display_name": "Python 3",
   "language": "python",
   "name": "python3"
  },
  "language_info": {
   "codemirror_mode": {
    "name": "ipython",
    "version": 3
   },
   "file_extension": ".py",
   "mimetype": "text/x-python",
   "name": "python",
   "nbconvert_exporter": "python",
   "pygments_lexer": "ipython3",
   "version": "3.5.4"
  }
 },
 "nbformat": 4,
 "nbformat_minor": 2
}
