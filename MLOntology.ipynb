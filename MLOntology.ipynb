{
 "cells": [
  {
   "cell_type": "code",
   "execution_count": 1,
   "metadata": {},
   "outputs": [],
   "source": [
    "import gensim\n",
    "import os\n",
    "import collections\n",
    "import smart_open\n",
    "import random\n",
    "import multiprocessing\n",
    "from gensim.models.doc2vec import Doc2Vec, TaggedDocument\n",
    "from pprint import pprint"
   ]
  },
  {
   "cell_type": "code",
   "execution_count": 2,
   "metadata": {},
   "outputs": [
    {
     "name": "stdout",
     "output_type": "stream",
     "text": [
      "montgomery-Ã",
      "sberg depression rating scale\n",
      "Ã",
      "sbos chicken breed\n",
      "[['int 20170731 ']]\n"
     ]
    }
   ],
   "source": [
    "#read class label file\n",
    "#create mapping from id to labels  \n",
    "#iso-8859-1 , encoding=\"iso-8859-1\"\n",
    "conceptLabelDict={}\n",
    "errors=[]\n",
    "\n",
    "def read_label(fname):\n",
    "    with smart_open.smart_open(fname) as f:\n",
    "        for i, line in enumerate(f):\n",
    "            #get the id for each concept paragraph\n",
    "            splitted = line.decode(\"iso-8859-1\").split(\"\\t\")\n",
    "            if len(splitted)==3:\n",
    "                conceptLabelDict[splitted[1]] = splitted[2].replace(\"\\r\\n\", \"\")\n",
    "            else:\n",
    "                errors.append(splitted)\n",
    "\n",
    "label_file = \"ontClassLabels.txt\"\n",
    "read_label(label_file)\n",
    "print(conceptLabelDict[\"446087008\"])\n",
    "print(conceptLabelDict[\"132818006\"])\n",
    "print(errors)\n"
   ]
  },
  {
   "cell_type": "code",
   "execution_count": 17,
   "metadata": {},
   "outputs": [
    {
     "name": "stdout",
     "output_type": "stream",
     "text": [
      "336831\n"
     ]
    }
   ],
   "source": [
    "print(len(conceptLabelDict))"
   ]
  },
  {
   "cell_type": "code",
   "execution_count": 3,
   "metadata": {},
   "outputs": [],
   "source": [
    "conceptMappingDict={}"
   ]
  },
  {
   "cell_type": "code",
   "execution_count": 18,
   "metadata": {},
   "outputs": [],
   "source": [
    "def read_corpus(fname, tokens_only=False):\n",
    "    with smart_open.smart_open(fname) as f:\n",
    "        for i, line in enumerate(f):\n",
    "            #get the id for each concept paragraph\n",
    "            splitted = line.decode(\"iso-8859-1\").split(\"\\t\", 1)\n",
    "            \n",
    "            line = line.decode(\"iso-8859-1\")\n",
    "            if tokens_only:\n",
    "                yield gensim.utils.simple_preprocess(line)\n",
    "            else:\n",
    "                # For training data, add tags\n",
    "                conceptMappingDict[i]= int(splitted[0])\n",
    "                yield gensim.models.doc2vec.TaggedDocument(gensim.utils.simple_preprocess(line), [i])"
   ]
  },
  {
   "cell_type": "code",
   "execution_count": null,
   "metadata": {},
   "outputs": [],
   "source": [
    "def read_corpus(fname, tokens_only=False):\n",
    "    with smart_open.smart_open(fname, encoding=\"iso-8859-1\") as f:\n",
    "        for i, line in enumerate(f): \n",
    "            if tokens_only:\n",
    "                yield gensim.utils.simple_preprocess(line)\n",
    "            else:\n",
    "                # For training data, add tags\n",
    "                yield gensim.models.doc2vec.TaggedDocument(gensim.utils.simple_preprocess(line), [randomStr(10),i])"
   ]
  },
  {
   "cell_type": "code",
   "execution_count": null,
   "metadata": {},
   "outputs": [],
   "source": [
    "#gensim.utils.simple_preprocess??\n",
    "gensim.models.doc2vec.TaggedDocument??"
   ]
  },
  {
   "cell_type": "code",
   "execution_count": 19,
   "metadata": {},
   "outputs": [],
   "source": [
    "train_file = \"ontClassTopology.txt\"\n",
    "\n",
    "train_corpus = list(read_corpus(train_file))"
   ]
  },
  {
   "cell_type": "code",
   "execution_count": 20,
   "metadata": {},
   "outputs": [
    {
     "name": "stdout",
     "output_type": "stream",
     "text": [
      "336871\n"
     ]
    },
    {
     "data": {
      "text/plain": [
       "[TaggedDocument(words=['entire', 'body', 'conduit', 'structure', 'of', 'interosseous', 'metatarsal', 'spaces', 'entire', 'interosseous', 'metatarsal', 'spaces', 'entire', 'interosseous', 'metatarsal', 'spaces'], tags=[11256])]"
      ]
     },
     "execution_count": 20,
     "metadata": {},
     "output_type": "execute_result"
    }
   ],
   "source": [
    "print(len(train_corpus))\n",
    "train_corpus[11256:11257]"
   ]
  },
  {
   "cell_type": "code",
   "execution_count": null,
   "metadata": {},
   "outputs": [],
   "source": [
    "model = gensim.models.doc2vec.Doc2Vec(size=50, min_count=1, iter=5, alpha=0.025, min_alpha=0.025, sample = 1e-3)"
   ]
  },
  {
   "cell_type": "code",
   "execution_count": null,
   "metadata": {},
   "outputs": [],
   "source": [
    "gensim.models.doc2vec.Doc2Vec??"
   ]
  },
  {
   "cell_type": "code",
   "execution_count": null,
   "metadata": {},
   "outputs": [],
   "source": [
    "model.build_vocab(train_corpus)"
   ]
  },
  {
   "cell_type": "code",
   "execution_count": null,
   "metadata": {},
   "outputs": [],
   "source": [
    "len(model.wv.vocab)"
   ]
  },
  {
   "cell_type": "code",
   "execution_count": null,
   "metadata": {},
   "outputs": [],
   "source": [
    "%time model.train(train_corpus, total_examples=model.corpus_count, epochs=model.iter)"
   ]
  },
  {
   "cell_type": "code",
   "execution_count": null,
   "metadata": {},
   "outputs": [],
   "source": [
    "# inferred_vector = model.infer_vector(['clinical', 'finding', 'evaluation', 'prevent', 'sampling', 'foot'])\n",
    "inferred_vector = model.infer_vector(['congenital', 'prolong', 'rupture', 'premature', 'membrane', 'lung'])\n",
    "\n",
    "\n",
    "sims = model.docvecs.most_similar([inferred_vector], topn=10)\n",
    "pprint(sims)"
   ]
  },
  {
   "cell_type": "code",
   "execution_count": null,
   "metadata": {},
   "outputs": [],
   "source": [
    "for sim in sims:\n",
    "    print(train_corpus[sim[0]].words, \"score: \", sim[1])\n",
    "    \n",
    "for sim in sims:\n",
    "    print(conceptMappingDict[sim[0]], \"score: \", sim[1])\n",
    "  "
   ]
  },
  {
   "cell_type": "code",
   "execution_count": null,
   "metadata": {},
   "outputs": [],
   "source": [
    "from tempfile import mkstemp\n",
    "\n",
    "fs, temp_path = mkstemp(\"gensim_temp\")  # creates a temp file\n",
    "\n",
    "model.save(temp_path)  # save the model"
   ]
  },
  {
   "cell_type": "code",
   "execution_count": null,
   "metadata": {},
   "outputs": [],
   "source": [
    "new_model = gensim.models.Doc2Vec.load(temp_path)"
   ]
  },
  {
   "cell_type": "code",
   "execution_count": 21,
   "metadata": {},
   "outputs": [
    {
     "name": "stdout",
     "output_type": "stream",
     "text": [
      "8\n"
     ]
    }
   ],
   "source": [
    "cores = multiprocessing.cpu_count()\n",
    "\n",
    "print(cores)\n",
    "models = [\n",
    "    # PV-DBOW \n",
    "    Doc2Vec(dm=0, dbow_words=1, size=200, window=8, min_count=1, iter=10, workers=cores),\n",
    "    # PV-DM w/average\n",
    "    Doc2Vec(dm=1, dm_mean=1, size=200, window=8, min_count=1, iter =10, workers=cores),\n",
    "]\n"
   ]
  },
  {
   "cell_type": "code",
   "execution_count": 22,
   "metadata": {},
   "outputs": [
    {
     "name": "stdout",
     "output_type": "stream",
     "text": [
      "Doc2Vec(dbow+w,d200,n5,w8,s0.001,t8)\n",
      "Doc2Vec(dm/m,d200,n5,w8,s0.001,t8)\n"
     ]
    }
   ],
   "source": [
    "models[0].build_vocab(train_corpus)\n",
    "print(str(models[0]))\n",
    "models[1].reset_from(models[0])\n",
    "print(str(models[1]))"
   ]
  },
  {
   "cell_type": "code",
   "execution_count": 23,
   "metadata": {},
   "outputs": [
    {
     "name": "stdout",
     "output_type": "stream",
     "text": [
      "CPU times: user 1h 52min 19s, sys: 21.4 s, total: 1h 52min 40s\n",
      "Wall time: 15min 29s\n",
      "CPU times: user 21min 36s, sys: 48 s, total: 22min 24s\n",
      "Wall time: 6min 33s\n"
     ]
    }
   ],
   "source": [
    "for model in models:\n",
    "    %%time model.train(train_corpus, total_examples=model.corpus_count, epochs=model.iter)"
   ]
  },
  {
   "cell_type": "code",
   "execution_count": 34,
   "metadata": {},
   "outputs": [],
   "source": [
    "for i, model in enumerate(models):\n",
    "    temp_path = \"model\" + str(i)  # creates a temp file\n",
    "    model.save(temp_path)"
   ]
  },
  {
   "cell_type": "code",
   "execution_count": 37,
   "metadata": {},
   "outputs": [
    {
     "name": "stdout",
     "output_type": "stream",
     "text": [
      "[(327366, 0.6250582933425903),\n",
      " (277506, 0.6003328561782837),\n",
      " (323993, 0.599632978439331),\n",
      " (155455, 0.5936585664749146),\n",
      " (12484, 0.5933293700218201),\n",
      " (213464, 0.5608265399932861),\n",
      " (14683, 0.5582849979400635),\n",
      " (10707, 0.551878035068512),\n",
      " (1838, 0.5508819222450256),\n",
      " (2076, 0.5499801635742188),\n",
      " (65500, 0.5444504618644714),\n",
      " (214, 0.5439452528953552),\n",
      " (257706, 0.5381863713264465),\n",
      " (272969, 0.5356877446174622),\n",
      " (336473, 0.5330525636672974),\n",
      " (168031, 0.5322983264923096),\n",
      " (279970, 0.526287317276001),\n",
      " (172394, 0.5259836316108704),\n",
      " (294628, 0.5208942890167236),\n",
      " (87527, 0.5191961526870728)]\n"
     ]
    }
   ],
   "source": [
    "model = Doc2Vec.load(\"model1\") \n",
    "\n",
    "pprint(model.docvecs.most_similar([inferred_vector], topn=20))"
   ]
  },
  {
   "cell_type": "code",
   "execution_count": 26,
   "metadata": {},
   "outputs": [
    {
     "name": "stdout",
     "output_type": "stream",
     "text": [
      "Doc2Vec(dbow+w,d200,n5,w8,s0.001,t8)\n",
      "[(184656, 0.6794406771659851),\n",
      " (290617, 0.678496241569519),\n",
      " (291604, 0.6688330769538879),\n",
      " (59202, 0.6439175009727478),\n",
      " (283984, 0.642685055732727),\n",
      " (124086, 0.6418383717536926),\n",
      " (148659, 0.6411072015762329),\n",
      " (32814, 0.63981032371521),\n",
      " (106078, 0.6326524615287781),\n",
      " (257551, 0.6319582462310791),\n",
      " (330504, 0.6302298307418823),\n",
      " (54569, 0.6280962228775024),\n",
      " (132857, 0.6276460289955139),\n",
      " (255937, 0.6274430751800537),\n",
      " (20276, 0.6268020868301392),\n",
      " (14829, 0.6265949606895447),\n",
      " (95129, 0.6262406706809998),\n",
      " (285139, 0.6245691776275635),\n",
      " (80666, 0.6227687001228333),\n",
      " (111487, 0.6225621104240417)]\n",
      "Doc2Vec(dm/m,d200,n5,w8,s0.001,t8)\n",
      "[(327366, 0.7474574446678162),\n",
      " (65500, 0.6958821415901184),\n",
      " (277506, 0.693389892578125),\n",
      " (12484, 0.681053876876831),\n",
      " (168031, 0.6267901659011841),\n",
      " (44817, 0.6190064549446106),\n",
      " (243108, 0.6178455948829651),\n",
      " (198225, 0.6071273684501648),\n",
      " (63152, 0.5938667058944702),\n",
      " (68300, 0.5772860646247864),\n",
      " (75312, 0.5691562294960022),\n",
      " (108282, 0.5555402636528015),\n",
      " (249627, 0.544755756855011),\n",
      " (194098, 0.5357139110565186),\n",
      " (213464, 0.5329186320304871),\n",
      " (272969, 0.530998170375824),\n",
      " (306621, 0.52964848279953),\n",
      " (313660, 0.5291598439216614),\n",
      " (274884, 0.5248803496360779),\n",
      " (38520, 0.5202471613883972)]\n"
     ]
    }
   ],
   "source": [
    "for model in models:\n",
    "    print(str(model))\n",
    "    inferred_vector = model.infer_vector(['congenital', 'prolong', 'rupture', 'premature', 'membrane', 'lung'])\n",
    "    pprint(model.docvecs.most_similar([inferred_vector], topn=20))"
   ]
  },
  {
   "cell_type": "code",
   "execution_count": 30,
   "metadata": {},
   "outputs": [
    {
     "name": "stdout",
     "output_type": "stream",
     "text": [
      "Doc2Vec(dbow+w,d200,n5,w8,s0.001,t8)\n",
      "congenital pulmonary hypoplasia due to prolonged premature rupture of membranes score:  0.6569488644599915\n",
      "prolonged premature rupture of membranes score:  0.64715576171875\n",
      "congenital pulmonary hypoplasia due to lung space occupying lesion score:  0.6402868628501892\n",
      "congenital tracheocele score:  0.6391810178756714\n",
      "prolonged spontaneous rupture of membranes score:  0.6297885179519653\n",
      "preterm premature rupture of membranes score:  0.625205397605896\n",
      "ruptured membranes score:  0.6226955652236938\n",
      "preterm premature rupture of membranes with onset of labor unknown score:  0.6188146471977234\n",
      "membrane rupture with delivery delay score:  0.6165027022361755\n",
      "congenital pulmonary acinar dysplasia score:  0.6122896671295166\n",
      "spontaneous hindwater rupture of membranes score:  0.6121758222579956\n",
      "forewater rupture of amniotic membrane score:  0.6119036674499512\n",
      "premature rupture of membranes with antenatal problem score:  0.6112538576126099\n",
      "nontraumatic gastric rupture score:  0.6107814311981201\n",
      "hindwater rupture of amniotic membrane score:  0.609767496585846\n",
      "premature rupture of membranes with onset of labor within 24 hours of the rupture score:  0.6092230677604675\n",
      "premature rupture of membranes, labor delayed by therapy score:  0.6087503433227539\n",
      "premature rupture of membranes score:  0.6079263687133789\n",
      "premature rupture of membranes - delivered score:  0.6077466607093811\n",
      "preterm premature rupture of membranes with onset of labor later than 24 hours after rupture score:  0.607550859451294\n",
      "Doc2Vec(dm/m,d200,n5,w8,s0.001,t8)\n",
      "entire anterior margin of lung score:  0.6250582933425903\n",
      "entire interlobar surfaces of lung score:  0.6003328561782837\n",
      "external elastic membrane of artery score:  0.599632978439331\n",
      "cell membrane, lateral aspect of polarized cell score:  0.5936585664749146\n",
      "cardiopneumopexy score:  0.5933293700218201\n",
      "eunymphicus cornutus score:  0.5608265399932861\n",
      "tympanostomy tube, semi-permeable membrane score:  0.5582849979400635\n",
      "entire cervical pleura score:  0.551878035068512\n",
      "myocarditis caused by genus candida score:  0.5508819222450256\n",
      "complement component, antigen measurement score:  0.5499801635742188\n",
      "fusion of lobes of lung score:  0.5444504618644714\n",
      "ornithinibacillus contaminans score:  0.5439452528953552\n",
      "structure of anterior atlantooccipital membrane score:  0.5381863713264465\n",
      "croceibacter atlanticus score:  0.5356877446174622\n",
      "labrenzia aggregata score:  0.5330525636672974\n",
      "entire lower zone of lung score:  0.5322983264923096\n",
      "glycoprotein antigen score:  0.526287317276001\n",
      "chicken astrovirus score:  0.5259836316108704\n",
      "tadpole pupil score:  0.5208942890167236\n",
      "melopsittacus undulatus score:  0.5191961526870728\n"
     ]
    }
   ],
   "source": [
    "for model in models:\n",
    "    print(str(model))\n",
    "    inferred_vector = model.infer_vector(['congenital', 'prolong', 'rupture', 'premature', 'membrane', 'lung'])\n",
    "    sims= model.docvecs.most_similar([inferred_vector], topn=20)\n",
    "    for sim in sims:\n",
    "        index = str(conceptMappingDict[sim[0]])\n",
    "        print(conceptLabelDict[index], \"score: \", sim[1])\n",
    "    "
   ]
  },
  {
   "cell_type": "code",
   "execution_count": null,
   "metadata": {},
   "outputs": [],
   "source": [
    "for model in models:\n",
    "    print(str(model))\n",
    "    vec = [model.docvecs[\"Lady Gaga\"] - model[\"american\"] + model[\"japanese\"]]\n",
    "    pprint([m for m in model.docvecs.most_similar(vec, topn=11) if m[0] != \"Lady Gaga\"])"
   ]
  },
  {
   "cell_type": "code",
   "execution_count": null,
   "metadata": {
    "scrolled": true
   },
   "outputs": [],
   "source": [
    "print(\"Total: \",len(train_corpus))\n",
    "\n",
    "\n",
    "ranks = []\n",
    "second_ranks = []\n",
    "for doc_id in range(len(train_corpus)):\n",
    "    print(\"Processing: \", doc_id)\n",
    "    inferred_vector = model.infer_vector(train_corpus[doc_id].words)\n",
    "    sims = model.docvecs.most_similar([inferred_vector], topn=len(model.docvecs))\n",
    "    rank = [docid for docid, sim in sims].index(doc_id)\n",
    "    ranks.append(rank)\n",
    "    \n",
    "    second_ranks.append(sims[1])"
   ]
  },
  {
   "cell_type": "code",
   "execution_count": null,
   "metadata": {},
   "outputs": [],
   "source": [
    "import random, string\n",
    "\n",
    "def randomStr(length):\n",
    "   letters = string.ascii_lowercase\n",
    "   return ''.join(random.choice(letters) for i in range(length))\n"
   ]
  },
  {
   "cell_type": "code",
   "execution_count": null,
   "metadata": {},
   "outputs": [],
   "source": [
    "collections.Counter(ranks) "
   ]
  },
  {
   "cell_type": "code",
   "execution_count": null,
   "metadata": {},
   "outputs": [],
   "source": []
  }
 ],
 "metadata": {
  "kernelspec": {
   "display_name": "Python 3",
   "language": "python",
   "name": "python3"
  },
  "language_info": {
   "codemirror_mode": {
    "name": "ipython",
    "version": 3
   },
   "file_extension": ".py",
   "mimetype": "text/x-python",
   "name": "python",
   "nbconvert_exporter": "python",
   "pygments_lexer": "ipython3",
   "version": "3.5.4"
  }
 },
 "nbformat": 4,
 "nbformat_minor": 2
}
