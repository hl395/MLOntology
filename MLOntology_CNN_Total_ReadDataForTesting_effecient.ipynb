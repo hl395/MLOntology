{
 "cells": [
  {
   "cell_type": "code",
   "execution_count": 1,
   "metadata": {},
   "outputs": [],
   "source": [
    "import gensim\n",
    "import os\n",
    "import collections\n",
    "import smart_open\n",
    "import random\n",
    "import multiprocessing\n",
    "from gensim.models.doc2vec import Doc2Vec, TaggedDocument\n",
    "from pprint import pprint\n",
    "import numpy as np\n",
    "from sklearn import svm"
   ]
  },
  {
   "cell_type": "code",
   "execution_count": 2,
   "metadata": {},
   "outputs": [],
   "source": [
    "#global variabls\n",
    "\n",
    "directory_path = \"/home/hao/AnacondaProjects/MLOntology/\"\n",
    "data_path = directory_path + \"data/\"\n",
    "vector_model_path = directory_path +\"vectorModel/\"\n",
    "cnn_model_path = directory_path +\"cnnModel/\""
   ]
  },
  {
   "cell_type": "code",
   "execution_count": 3,
   "metadata": {},
   "outputs": [],
   "source": [
    "conceptLabelDict={}\n",
    "errors=[]\n",
    "\n",
    "def read_label(fname):\n",
    "    conceptLabelDict={}\n",
    "    with smart_open.smart_open(fname) as f:\n",
    "        for i, line in enumerate(f):\n",
    "            #get the id for each concept paragraph\n",
    "            splitted = line.decode(\"iso-8859-1\").split(\"\\t\")\n",
    "            if len(splitted)==3:\n",
    "                conceptLabelDict[splitted[1]] = splitted[2].replace(\"\\r\\n\", \"\")\n",
    "            else:\n",
    "                errors.append(splitted)\n",
    "    return conceptLabelDict\n",
    "\n",
    "label_file_2017 = data_path + \"ontClassLabels_july2017.txt\"\n",
    "conceptLabelDict_2017=read_label(label_file_2017)\n",
    "label_file_2018= data_path + \"ontClassLabels_jan2018.txt\"\n",
    "conceptLabelDict_2018=read_label(label_file_2018)"
   ]
  },
  {
   "cell_type": "code",
   "execution_count": 4,
   "metadata": {},
   "outputs": [],
   "source": [
    "import json\n",
    "from pprint import pprint\n",
    "\n",
    "jsonFile = data_path + \"2018newconcepts.json\"\n",
    "\n",
    "data = json.load(open(jsonFile))\n",
    "\n",
    "# pprint(data)\n",
    "\n",
    "# pprint(data['100841000119109']['Ancestors'][1])"
   ]
  },
  {
   "cell_type": "code",
   "execution_count": 5,
   "metadata": {},
   "outputs": [],
   "source": [
    "def readFromJsonData(data):\n",
    "    result_paired = []\n",
    "    result_not_paired= []\n",
    "    for key, value in data.items():\n",
    "        if value['Parents']:\n",
    "            for x in range(len(value['Parents'])):\n",
    "                result_paired.append([key, value['Parents'][x], 1])\n",
    "        if value['Siblings']:\n",
    "            for x in range(len(value['Siblings'])):\n",
    "                result_not_paired.append([key, value['Siblings'][x], 0])\n",
    "        if value['Children']:\n",
    "            for x in range(len(value['Children'])):\n",
    "                result_not_paired.append([key, value['Children'][x], 0])\n",
    "    return result_paired, result_not_paired\n",
    "    \n",
    "    "
   ]
  },
  {
   "cell_type": "code",
   "execution_count": 6,
   "metadata": {},
   "outputs": [
    {
     "name": "stdout",
     "output_type": "stream",
     "text": [
      "[['737278006', '251019006', 1],\n",
      " ['293951000119107', '293931000119101', 1],\n",
      " ['293951000119107', '293961000119109', 1],\n",
      " ['186831000119104', '1131000119105', 1],\n",
      " ['186831000119104', '68345001', 1],\n",
      " ['186831000119104', '928000', 1],\n",
      " ['186831000119104', '363296001', 1],\n",
      " ['736990006', '735321000', 1],\n",
      " ['737070009', '431609005', 1],\n",
      " ['737070009', '736793003', 1],\n",
      " ['726116007', '301857004', 1],\n",
      " ['726116007', '8447006', 1],\n",
      " ['12247121000119101', '16302071000119103', 1],\n",
      " ['12247121000119101', '398199007', 1],\n",
      " ['12247121000119101', '428724006', 1],\n",
      " ['12247121000119101', '298149009', 1],\n",
      " ['734978006', '734977001', 1],\n",
      " ['350561000119109', '78261002', 1],\n",
      " ['350561000119109', '25082004', 1],\n",
      " ['350561000119109', '30721006', 1]]\n",
      "[['737278006', '251026006', 0],\n",
      " ['737278006', '366204000', 0],\n",
      " ['737278006', '251020000', 0],\n",
      " ['737278006', '251033006', 0],\n",
      " ['737278006', '251021001', 0],\n",
      " ['186831000119104', '674361000119104', 0],\n",
      " ['736990006', '735326005', 0],\n",
      " ['736990006', '735322007', 0],\n",
      " ['736990006', '736337002', 0],\n",
      " ['736990006', '736381005', 0],\n",
      " ['736990006', '736352009', 0],\n",
      " ['736990006', '736389007', 0],\n",
      " ['736990006', '736453000', 0],\n",
      " ['736990006', '735323002', 0],\n",
      " ['736990006', '735328006', 0],\n",
      " ['736990006', '736338007', 0],\n",
      " ['736990006', '736390003', 0],\n",
      " ['736990006', '736391004', 0],\n",
      " ['736990006', '736351002', 0],\n",
      " ['736990006', '736359000', 0]]\n"
     ]
    }
   ],
   "source": [
    "paired_list, not_paired_list = readFromJsonData(data)\n",
    "pprint(paired_list[:20])\n",
    "pprint(not_paired_list[:20])"
   ]
  },
  {
   "cell_type": "code",
   "execution_count": 7,
   "metadata": {},
   "outputs": [
    {
     "name": "stdout",
     "output_type": "stream",
     "text": [
      "[('237267007', 0.6279136538505554),\n",
      " ('722912007', 0.6036121845245361),\n",
      " ('446466006', 0.592210054397583),\n",
      " ('722913002', 0.5905667543411255),\n",
      " ('67798003', 0.5715481042861938),\n",
      " ('253745002', 0.5682003498077393),\n",
      " ('10759661000119108', 0.567678689956665),\n",
      " ('277485007', 0.5653363466262817),\n",
      " ('177130000', 0.5645030736923218),\n",
      " ('312974005', 0.5602636337280273)]\n"
     ]
    }
   ],
   "source": [
    "vector_model_file = vector_model_path + \"model0\"\n",
    "\n",
    "vector_model = gensim.models.Doc2Vec.load(vector_model_file)\n",
    "\n",
    "inferred_vector = vector_model.infer_vector(['congenital', 'prolong', 'rupture', 'premature', 'membrane', 'lung'])\n",
    "pprint(vector_model.docvecs.most_similar([inferred_vector], topn=10))"
   ]
  },
  {
   "cell_type": "code",
   "execution_count": 8,
   "metadata": {},
   "outputs": [
    {
     "name": "stdout",
     "output_type": "stream",
     "text": [
      "INFO:tensorflow:Restoring parameters from /home/hao/AnacondaProjects/MLOntology/cnnModel/model-noleaky.ckpt\n"
     ]
    }
   ],
   "source": [
    "import tensorflow as tf\n",
    " \n",
    "sess=tf.Session()    \n",
    "#First let's load meta graph and restore weights\n",
    "cnn_model_file = cnn_model_path + 'model-noleaky.ckpt.meta'\n",
    "saver = tf.train.import_meta_graph(cnn_model_file)\n",
    "saver.restore(sess,tf.train.latest_checkpoint(cnn_model_path))"
   ]
  },
  {
   "cell_type": "code",
   "execution_count": 9,
   "metadata": {},
   "outputs": [],
   "source": [
    "graph = tf.get_default_graph()\n",
    "x = graph.get_tensor_by_name(\"input_vector:0\")\n",
    "y = graph.get_tensor_by_name(\"class_label:0\")\n",
    "keep_prob = tf.placeholder(tf.float32)\n",
    "predict= graph.get_tensor_by_name(\"predict:0\")\n",
    "correct_prediction= graph.get_tensor_by_name(\"correct_prediction:0\")\n",
    "accuracy= graph.get_tensor_by_name(\"accuracy:0\")"
   ]
  },
  {
   "cell_type": "code",
   "execution_count": null,
   "metadata": {},
   "outputs": [],
   "source": [
    "# correct_prediction = tf.equal(predict, tf.argmax(y,1))\n",
    "# accuracy = tf.reduce_mean(tf.cast(correct_prediction, \"float\"), name=\"accuracy\")"
   ]
  },
  {
   "cell_type": "code",
   "execution_count": 15,
   "metadata": {},
   "outputs": [],
   "source": [
    "feature_number = 1024\n",
    "\n",
    "def getInferredVector(concept_id, conceptLabelDict, model):\n",
    "    if concept_id in model.docvecs:\n",
    "        concept_vector= model.docvecs[concept_id]\n",
    "    else:\n",
    "        concept_label = conceptLabelDict[concept_id]\n",
    "        concept_vector= model.infer_vector(concept_label.split())\n",
    "    return concept_vector\n",
    "\n",
    "def getVectorFromModel(pair_list, conceptLabelDict, model):\n",
    "    vector_list =[]\n",
    "    label_list =[]\n",
    "    for i, line in enumerate(pair_list):        \n",
    "        a= getInferredVector(line[0], conceptLabelDict, model)\n",
    "        b= getInferredVector(line[1], conceptLabelDict, model)\n",
    "        c = np.array((a, b))\n",
    "#         test_list.append(np.reshape(c, feature_number))\n",
    "        vector_list.append(np.reshape(c, feature_number, order='F'))\n",
    "        label_list.append(line[2])\n",
    "    return vector_list, label_list"
   ]
  },
  {
   "cell_type": "code",
   "execution_count": 11,
   "metadata": {},
   "outputs": [],
   "source": [
    "test_batch_size = 1024\n",
    "pair_list = paired_list + not_paired_list\n",
    "random.shuffle(pair_list)"
   ]
  },
  {
   "cell_type": "code",
   "execution_count": 16,
   "metadata": {},
   "outputs": [
    {
     "name": "stdout",
     "output_type": "stream",
     "text": [
      "70 iterations in total\n",
      "iteration 0 Acc: 0.113281\n",
      "iteration 1 Acc: 0.135742\n",
      "iteration 2 Acc: 0.146484\n",
      "iteration 3 Acc: 0.131836\n",
      "iteration 4 Acc: 0.128906\n",
      "iteration 5 Acc: 0.137695\n",
      "iteration 6 Acc: 0.133789\n",
      "iteration 7 Acc: 0.142578\n",
      "iteration 8 Acc: 0.126953\n",
      "iteration 9 Acc: 0.111328\n",
      "iteration 10 Acc: 0.130859\n",
      "iteration 11 Acc: 0.137695\n",
      "iteration 12 Acc: 0.132812\n",
      "iteration 13 Acc: 0.129883\n",
      "iteration 14 Acc: 0.130859\n",
      "iteration 15 Acc: 0.123047\n",
      "iteration 16 Acc: 0.125\n",
      "iteration 17 Acc: 0.128906\n",
      "iteration 18 Acc: 0.12207\n",
      "iteration 19 Acc: 0.155273\n",
      "iteration 20 Acc: 0.125977\n",
      "iteration 21 Acc: 0.137695\n",
      "iteration 22 Acc: 0.125\n",
      "iteration 23 Acc: 0.107422\n",
      "iteration 24 Acc: 0.116211\n",
      "iteration 25 Acc: 0.125\n",
      "iteration 26 Acc: 0.132812\n",
      "iteration 27 Acc: 0.154297\n",
      "iteration 28 Acc: 0.123047\n",
      "iteration 29 Acc: 0.138672\n",
      "iteration 30 Acc: 0.123047\n",
      "iteration 31 Acc: 0.136719\n",
      "iteration 32 Acc: 0.132812\n",
      "iteration 33 Acc: 0.129883\n",
      "iteration 34 Acc: 0.129883\n",
      "iteration 35 Acc: 0.117188\n",
      "iteration 36 Acc: 0.151367\n",
      "iteration 37 Acc: 0.141602\n",
      "iteration 38 Acc: 0.141602\n",
      "iteration 39 Acc: 0.125\n",
      "iteration 40 Acc: 0.126953\n",
      "iteration 41 Acc: 0.117188\n",
      "iteration 42 Acc: 0.101562\n",
      "iteration 43 Acc: 0.15332\n",
      "iteration 44 Acc: 0.103516\n",
      "iteration 45 Acc: 0.109375\n",
      "iteration 46 Acc: 0.118164\n",
      "iteration 47 Acc: 0.128906\n",
      "iteration 48 Acc: 0.135742\n",
      "iteration 49 Acc: 0.136719\n",
      "iteration 50 Acc: 0.130859\n",
      "iteration 51 Acc: 0.120117\n",
      "iteration 52 Acc: 0.12793\n",
      "iteration 53 Acc: 0.133789\n",
      "iteration 54 Acc: 0.129883\n",
      "iteration 55 Acc: 0.119141\n",
      "iteration 56 Acc: 0.12793\n",
      "iteration 57 Acc: 0.129883\n",
      "iteration 58 Acc: 0.137695\n",
      "iteration 59 Acc: 0.133789\n",
      "iteration 60 Acc: 0.140625\n",
      "iteration 61 Acc: 0.137695\n",
      "iteration 62 Acc: 0.12793\n",
      "iteration 63 Acc: 0.141602\n",
      "iteration 64 Acc: 0.116211\n",
      "iteration 65 Acc: 0.124023\n",
      "iteration 66 Acc: 0.130859\n",
      "iteration 67 Acc: 0.141602\n",
      "iteration 68 Acc: 0.124023\n",
      "iteration 69 Acc: 0.140625\n"
     ]
    }
   ],
   "source": [
    "print(\"%s iterations in total\" % (len(pair_list)//test_batch_size))\n",
    "for i in range(len(pair_list)//test_batch_size):\n",
    "    list_batch = pair_list[ i*test_batch_size : min(i*test_batch_size +test_batch_size, len(pair_list))]\n",
    "    vector_list_batch, label_list_batch  = getVectorFromModel(list_batch, conceptLabelDict_2018, vector_model)\n",
    "    acc = sess.run(accuracy, feed_dict={x:vector_list_batch, y: np.eye(2)[label_list_batch], keep_prob:1})\n",
    "    print(\"iteration %d Acc: %s\" % (i,acc))"
   ]
  },
  {
   "cell_type": "code",
   "execution_count": null,
   "metadata": {},
   "outputs": [],
   "source": []
  },
  {
   "cell_type": "code",
   "execution_count": null,
   "metadata": {},
   "outputs": [],
   "source": []
  }
 ],
 "metadata": {
  "kernelspec": {
   "display_name": "Python 3",
   "language": "python",
   "name": "python3"
  },
  "language_info": {
   "codemirror_mode": {
    "name": "ipython",
    "version": 3
   },
   "file_extension": ".py",
   "mimetype": "text/x-python",
   "name": "python",
   "nbconvert_exporter": "python",
   "pygments_lexer": "ipython3",
   "version": "3.5.4"
  }
 },
 "nbformat": 4,
 "nbformat_minor": 2
}
