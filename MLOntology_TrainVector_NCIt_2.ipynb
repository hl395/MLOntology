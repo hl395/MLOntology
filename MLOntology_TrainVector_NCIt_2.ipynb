{
 "cells": [
  {
   "cell_type": "code",
   "execution_count": 1,
   "metadata": {},
   "outputs": [],
   "source": [
    "import gensim\n",
    "import os\n",
    "import collections\n",
    "import smart_open\n",
    "import random\n",
    "import multiprocessing\n",
    "from gensim.models.doc2vec import Doc2Vec, TaggedDocument\n",
    "from pprint import pprint"
   ]
  },
  {
   "cell_type": "code",
   "execution_count": 2,
   "metadata": {},
   "outputs": [],
   "source": [
    "#global variabls\n",
    "\n",
    "directory_path = \"/home/hao/AnacondaProjects/MLOntology/NCIt/\"\n",
    "data_path = directory_path + \"data/\"\n",
    "vector_model_path = directory_path +\"vectorModel/\"\n",
    "cnn_model_path = directory_path +\"cnnModel/\""
   ]
  },
  {
   "cell_type": "code",
   "execution_count": 3,
   "metadata": {},
   "outputs": [],
   "source": [
    "import re\n",
    "def get_trailing_number(s):\n",
    "    m = re.search(r'\\d+$', s)\n",
    "    return m.group() if m else None"
   ]
  },
  {
   "cell_type": "code",
   "execution_count": 4,
   "metadata": {},
   "outputs": [
    {
     "name": "stdout",
     "output_type": "stream",
     "text": [
      "prostate carcinoma\n",
      "stage ia esophageal cancer ajcc v7\n",
      "[]\n"
     ]
    }
   ],
   "source": [
    "#read class label file\n",
    "#create mapping from id to labels  \n",
    "#iso-8859-1 , encoding=\"iso-8859-1\"\n",
    "conceptLabelDict={}\n",
    "errors=[]\n",
    "\n",
    "def read_label(fname):\n",
    "    with smart_open.smart_open(fname) as f:\n",
    "        for i, line in enumerate(f):\n",
    "            #get the id for each concept paragraph\n",
    "            splitted = line.decode(\"iso-8859-1\").split(\"\\t\")\n",
    "            if len(splitted)==3:\n",
    "                conceptID = get_trailing_number(splitted[1])\n",
    "                conceptLabelDict[conceptID] = splitted[2].replace(\"\\r\\n\", \"\")\n",
    "            else:\n",
    "                errors.append(splitted)\n",
    "\n",
    "label_file = data_path + \"ontClassLabels_owl_ncit.txt\"\n",
    "read_label(label_file)\n",
    "print(conceptLabelDict[\"4863\"])\n",
    "print(conceptLabelDict[\"115117\"])\n",
    "print(errors)\n"
   ]
  },
  {
   "cell_type": "code",
   "execution_count": 5,
   "metadata": {},
   "outputs": [
    {
     "name": "stdout",
     "output_type": "stream",
     "text": [
      "9955\n"
     ]
    }
   ],
   "source": [
    "print(len(conceptLabelDict))"
   ]
  },
  {
   "cell_type": "code",
   "execution_count": 6,
   "metadata": {},
   "outputs": [],
   "source": [
    "def read_corpus(fname, tokens_only=False):\n",
    "    with smart_open.smart_open(fname) as f:\n",
    "        for i, line in enumerate(f):\n",
    "            #get the id for each concept paragraph\n",
    "            splitted = line.decode(\"iso-8859-1\").split(\"\\t\", 2)\n",
    "            \n",
    "            line = splitted[2]\n",
    "            if tokens_only:\n",
    "                yield gensim.utils.simple_preprocess(line)\n",
    "            else:\n",
    "                # For training data, add tags\n",
    "                tagID = get_trailing_number(splitted[0])\n",
    "                conceptMappingDict[i]= int(tagID)\n",
    "                yield gensim.models.doc2vec.TaggedDocument(gensim.utils.simple_preprocess(line), [tagID])"
   ]
  },
  {
   "cell_type": "code",
   "execution_count": null,
   "metadata": {},
   "outputs": [],
   "source": []
  },
  {
   "cell_type": "code",
   "execution_count": 7,
   "metadata": {},
   "outputs": [],
   "source": [
    "conceptMappingDict={}\n",
    "\n",
    "train_file = data_path + \"ontClassTopology_owl_ncit.txt\"\n",
    "\n",
    "train_corpus = list(read_corpus(train_file))"
   ]
  },
  {
   "cell_type": "code",
   "execution_count": 8,
   "metadata": {},
   "outputs": [
    {
     "name": "stdout",
     "output_type": "stream",
     "text": [
      "9955\n"
     ]
    },
    {
     "data": {
      "text/plain": [
       "[TaggedDocument(words=['neoplasm', 'by', 'special', 'category', 'neoplasm', 'by', 'obsolete', 'classification', 'hematopoietic', 'and', 'lymphoid', 'neoplasm', 'antiquated', 'lymphoma', 'by', 'working', 'formulation', 'antiquated', 'intermediate', 'grade', 'lymphoma', 'adult', 'non', 'hodgkin', 'lymphoma', 'grade', 'intermediate', 'grade', 'adult', 'non', 'hodgkin', 'lymphoma', 'stage', 'iii', 'intermediate', 'grade', 'adult', 'non', 'hodgkin', 'lymphoma', 'stage', 'iii', 'intermediate', 'grade', 'adult', 'non', 'hodgkin', 'lymphoma', 'stage', 'iii', 'intermediate', 'grade', 'adult', 'non', 'hodgkin', 'lymphoma'], tags=['8131']),\n",
       " TaggedDocument(words=['neoplasm', 'by', 'morphology', 'neoplasm', 'by', 'site', 'epithelial', 'neoplasm', 'head', 'and', 'neck', 'neoplasm', 'carcinoma', 'neck', 'neoplasm', 'malignant', 'head', 'and', 'neck', 'neoplasm', 'mucin', 'producing', 'carcinoma', 'laryngeal', 'neoplasm', 'malignant', 'neck', 'neoplasm', 'head', 'and', 'neck', 'carcinoma', 'mucoepidermoid', 'carcinoma', 'malignant', 'laryngeal', 'neoplasm', 'neck', 'carcinoma', 'throat', 'cancer', 'laryngeal', 'carcinoma', 'laryngeal', 'mucoepidermoid', 'carcinoma', 'laryngeal', 'mucoepidermoid', 'carcinoma', 'laryngeal', 'mucoepidermoid', 'carcinoma'], tags=['9463']),\n",
       " TaggedDocument(words=['neoplasm', 'by', 'morphology', 'neoplasm', 'by', 'site', 'hematopoietic', 'and', 'lymphoid', 'system', 'neoplasm', 'hematopoietic', 'and', 'lymphoid', 'cell', 'neoplasm', 'lymphocytic', 'neoplasm', 'lymphoma', 'cell', 'neoplasm', 'non', 'hodgkin', 'lymphoma', 'lymphoma', 'by', 'stage', 'mature', 'cell', 'neoplasm', 'non', 'hodgkin', 'lymphoma', 'by', 'clinical', 'course', 'cell', 'non', 'hodgkin', 'lymphoma', 'lymphoma', 'by', 'ann', 'arbor', 'stage', 'aggressive', 'non', 'hodgkin', 'lymphoma', 'mature', 'cell', 'non', 'hodgkin', 'lymphoma', 'non', 'hodgkin', 'lymphoma', 'by', 'ann', 'arbor', 'stage', 'ann', 'arbor', 'stage', 'iii', 'lymphoma', 'follicular', 'lymphoma', 'cell', 'non', 'hodgkin', 'lymphoma', 'by', 'ann', 'arbor', 'stage', 'ann', 'arbor', 'stage', 'iii', 'non', 'hodgkin', 'lymphoma', 'grade', 'follicular', 'lymphoma', 'follicular', 'lymphoma', 'by', 'ann', 'arbor', 'stage', 'ann', 'arbor', 'stage', 'iii', 'cell', 'non', 'hodgkin', 'lymphoma', 'ann', 'arbor', 'stage', 'iii', 'follicular', 'lymphoma', 'ann', 'arbor', 'stage', 'iii', 'grade', 'follicular', 'lymphoma', 'ann', 'arbor', 'stage', 'iii', 'grade', 'follicular', 'lymphoma', 'ann', 'arbor', 'stage', 'iii', 'grade', 'follicular', 'lymphoma'], tags=['8132'])]"
      ]
     },
     "execution_count": 8,
     "metadata": {},
     "output_type": "execute_result"
    }
   ],
   "source": [
    "print(len(train_corpus))\n",
    "train_corpus[1296:1299]"
   ]
  },
  {
   "cell_type": "code",
   "execution_count": 9,
   "metadata": {},
   "outputs": [
    {
     "name": "stdout",
     "output_type": "stream",
     "text": [
      "8\n"
     ]
    }
   ],
   "source": [
    "cores = multiprocessing.cpu_count()\n",
    "\n",
    "print(cores)\n",
    "models = [\n",
    "    # PV-DBOW \n",
    "    Doc2Vec(dm=0, dbow_words=1, vector_size=128, window=8, min_count=1, epochs=10, workers=cores),\n",
    "    # PV-DM w/average\n",
    "    Doc2Vec(dm=1, dm_mean=1, vector_size=128, window=8, min_count=1, epochs =10, workers=cores),\n",
    "]\n"
   ]
  },
  {
   "cell_type": "code",
   "execution_count": 10,
   "metadata": {},
   "outputs": [
    {
     "name": "stdout",
     "output_type": "stream",
     "text": [
      "Doc2Vec(dbow+w,d128,n5,w8,s0.001,t8)\n",
      "Doc2Vec(dm/m,d128,n5,w8,s0.001,t8)\n"
     ]
    }
   ],
   "source": [
    "models[0].build_vocab(train_corpus)\n",
    "print(str(models[0]))\n",
    "models[1].reset_from(models[0])\n",
    "print(str(models[1]))"
   ]
  },
  {
   "cell_type": "code",
   "execution_count": 11,
   "metadata": {},
   "outputs": [
    {
     "name": "stdout",
     "output_type": "stream",
     "text": [
      "CPU times: user 52.9 s, sys: 1.21 s, total: 54.1 s\n",
      "Wall time: 9.74 s\n",
      "CPU times: user 23.3 s, sys: 3.6 s, total: 26.9 s\n",
      "Wall time: 13.5 s\n"
     ]
    }
   ],
   "source": [
    "for model in models:\n",
    "    %%time model.train(train_corpus, total_examples=model.corpus_count, epochs=model.epochs)"
   ]
  },
  {
   "cell_type": "code",
   "execution_count": 12,
   "metadata": {},
   "outputs": [],
   "source": [
    "for i, model in enumerate(models):\n",
    "    temp_path = vector_model_path + \"model\" + str(i)  # creates a temp file\n",
    "    model.save(temp_path)"
   ]
  },
  {
   "cell_type": "code",
   "execution_count": null,
   "metadata": {},
   "outputs": [],
   "source": [
    "model = Doc2Vec.load(\"model1\") \n",
    "\n",
    "pprint(model.docvecs.most_similar([inferred_vector], topn=20))"
   ]
  },
  {
   "cell_type": "code",
   "execution_count": null,
   "metadata": {},
   "outputs": [],
   "source": [
    "for model in models:\n",
    "    print(str(model))\n",
    "    inferred_vector = model.infer_vector(['congenital', 'prolong', 'rupture', 'premature', 'membrane', 'lung'])\n",
    "    pprint(model.docvecs.most_similar([inferred_vector], topn=20))"
   ]
  },
  {
   "cell_type": "code",
   "execution_count": null,
   "metadata": {},
   "outputs": [],
   "source": [
    "for model in models:\n",
    "    print(str(model))\n",
    "    inferred_vector = model.infer_vector(['congenital', 'prolong', 'rupture', 'premature', 'membrane', 'lung'])\n",
    "    sims= model.docvecs.most_similar([inferred_vector], topn=20)\n",
    "    for sim in sims:\n",
    "        index = str(conceptMappingDict[sim[0]])\n",
    "        print(conceptLabelDict[index], \"score: \", sim[1])\n",
    "    "
   ]
  },
  {
   "cell_type": "code",
   "execution_count": null,
   "metadata": {},
   "outputs": [],
   "source": [
    "model.docvecs['133521']"
   ]
  },
  {
   "cell_type": "code",
   "execution_count": null,
   "metadata": {},
   "outputs": [],
   "source": [
    "#gensim.utils.simple_preprocess??\n",
    "gensim.models.doc2vec.TaggedDocument??"
   ]
  },
  {
   "cell_type": "code",
   "execution_count": null,
   "metadata": {},
   "outputs": [],
   "source": [
    "model = gensim.models.doc2vec.Doc2Vec(size=50, min_count=1, iter=5, alpha=0.025, min_alpha=0.025, sample = 1e-3)\n",
    "\n",
    "gensim.models.doc2vec.Doc2Vec??\n",
    "\n",
    "model.build_vocab(train_corpus)\n",
    "\n",
    "len(model.wv.vocab)\n",
    "\n",
    "%time model.train(train_corpus, total_examples=model.corpus_count, epochs=model.iter)\n",
    "\n",
    "# inferred_vector = model.infer_vector(['clinical', 'finding', 'evaluation', 'prevent', 'sampling', 'foot'])\n",
    "inferred_vector = model.infer_vector(['congenital', 'prolong', 'rupture', 'premature', 'membrane', 'lung'])\n",
    "\n",
    "\n",
    "sims = model.docvecs.most_similar([inferred_vector], topn=10)\n",
    "pprint(sims)\n",
    "\n",
    "for sim in sims:\n",
    "    print(train_corpus[sim[0]].words, \"score: \", sim[1])\n",
    "    \n",
    "for sim in sims:\n",
    "    print(conceptMappingDict[sim[0]], \"score: \", sim[1])\n",
    "  \n",
    "\n",
    "from tempfile import mkstemp\n",
    "\n",
    "fs, temp_path = mkstemp(\"gensim_temp\")  # creates a temp file\n",
    "\n",
    "model.save(temp_path)  # save the model\n",
    "\n",
    "new_model = gensim.models.Doc2Vec.load(temp_path)"
   ]
  },
  {
   "cell_type": "code",
   "execution_count": null,
   "metadata": {},
   "outputs": [],
   "source": [
    "for model in models:\n",
    "    print(str(model))\n",
    "    vec = [model.docvecs[\"Lady Gaga\"] - model[\"american\"] + model[\"japanese\"]]\n",
    "    pprint([m for m in model.docvecs.most_similar(vec, topn=11) if m[0] != \"Lady Gaga\"])"
   ]
  },
  {
   "cell_type": "code",
   "execution_count": null,
   "metadata": {
    "scrolled": true
   },
   "outputs": [],
   "source": [
    "print(\"Total: \",len(train_corpus))\n",
    "\n",
    "\n",
    "ranks = []\n",
    "second_ranks = []\n",
    "for doc_id in range(len(train_corpus)):\n",
    "    print(\"Processing: \", doc_id)\n",
    "    inferred_vector = model.infer_vector(train_corpus[doc_id].words)\n",
    "    sims = model.docvecs.most_similar([inferred_vector], topn=len(model.docvecs))\n",
    "    rank = [docid for docid, sim in sims].index(doc_id)\n",
    "    ranks.append(rank)\n",
    "    \n",
    "    second_ranks.append(sims[1])"
   ]
  },
  {
   "cell_type": "code",
   "execution_count": null,
   "metadata": {},
   "outputs": [],
   "source": [
    "import random, string\n",
    "\n",
    "def randomStr(length):\n",
    "   letters = string.ascii_lowercase\n",
    "   return ''.join(random.choice(letters) for i in range(length))\n"
   ]
  },
  {
   "cell_type": "code",
   "execution_count": null,
   "metadata": {},
   "outputs": [],
   "source": [
    "collections.Counter(ranks) "
   ]
  },
  {
   "cell_type": "code",
   "execution_count": 17,
   "metadata": {},
   "outputs": [
    {
     "name": "stdout",
     "output_type": "stream",
     "text": [
      "(128,)\n",
      "[-0.02489698 -0.05052399  0.00643161 -0.00821158 -0.07351264 -0.02326442\n",
      " -0.01810085  0.01692173 -0.01278219 -0.05133998  0.0141927   0.01293162\n",
      " -0.07734409  0.02647892 -0.03104847 -0.02024052  0.03489167  0.04426214\n",
      "  0.08376317  0.04952111 -0.07212681 -0.01899134 -0.06598855 -0.04032938\n",
      " -0.01688349  0.03832373 -0.01088326 -0.01021543  0.04160389  0.02573159\n",
      "  0.00571989  0.05141127 -0.0354414   0.03459821  0.03820553 -0.02879284\n",
      "  0.00692179 -0.0354858  -0.0201057  -0.03791515  0.00135138  0.03036554\n",
      "  0.00424715  0.05342467 -0.04247887  0.04498743 -0.02336542 -0.02821766\n",
      "  0.02692588 -0.01006284  0.0009644   0.01714842  0.00076355  0.02668407\n",
      " -0.01811202 -0.04951641 -0.00836854 -0.04120313 -0.01667412 -0.03620613\n",
      "  0.04859411  0.00914418 -0.05046156 -0.0243607   0.01927145  0.02327728\n",
      " -0.07443111  0.02873673 -0.00627365 -0.06441654 -0.00417977 -0.02179801\n",
      " -0.05945649  0.00454753 -0.06056052 -0.00290074  0.04977814  0.10757856\n",
      " -0.04604999 -0.04097356  0.02243086  0.02185724 -0.0565096  -0.05020368\n",
      "  0.06761488  0.01450881  0.01237216 -0.05785289  0.04692884  0.04782309\n",
      "  0.09442014  0.01522644  0.12203538  0.09523863 -0.0437463   0.00882166\n",
      " -0.10119982  0.08118352  0.01311951  0.02496118  0.06864528 -0.02723391\n",
      " -0.025626    0.05843873  0.02045092  0.04874284  0.02540212 -0.00479804\n",
      " -0.0235251   0.01644457  0.06848736  0.04443388 -0.04666612 -0.07578012\n",
      "  0.01071081 -0.10572591 -0.02616085 -0.00679    -0.04555999  0.00447708\n",
      "  0.08336297 -0.06438809 -0.03216237 -0.03773187  0.05089418  0.02761541\n",
      " -0.00206213  0.0420544 ]\n",
      "(128,)\n",
      "[ 0.03735565 -0.03504039 -0.02217757  0.0132304  -0.07523311 -0.07031766\n",
      " -0.01211235 -0.05913647  0.0359778  -0.11626735  0.03744502  0.0334865\n",
      " -0.07041152  0.05497146 -0.04305403  0.03534143  0.07894404  0.07372048\n",
      "  0.09838341  0.07195645 -0.09318826  0.04437087 -0.05928031 -0.07559143\n",
      "  0.09660067  0.03292616 -0.00027127 -0.05002856  0.05912937  0.02703474\n",
      " -0.01349044  0.11832742 -0.02785058  0.08542471 -0.00587788  0.00705477\n",
      " -0.03104624 -0.02895707  0.01778373 -0.04903418  0.02100225  0.03233493\n",
      "  0.05120129  0.10566654 -0.02070927 -0.007469    0.01606124  0.00756305\n",
      "  0.03986363 -0.04516726  0.01005109  0.0091058  -0.01842831  0.03444333\n",
      " -0.03074442 -0.03560506  0.02094094 -0.04169653 -0.02583948 -0.08846772\n",
      "  0.06322729 -0.00857027 -0.01850366 -0.01381712  0.01544305 -0.0264369\n",
      " -0.04435549  0.05628647  0.01831524 -0.0909805  -0.03730617 -0.03782981\n",
      "  0.00731315  0.04200811 -0.11564562 -0.01563894 -0.01294077 -0.06752082\n",
      "  0.06123878  0.04481453  0.00768506  0.03177284 -0.05077778 -0.05933765\n",
      "  0.01732005  0.04823112 -0.02879349 -0.04805036  0.04246155  0.05166504\n",
      "  0.06058114 -0.01875304  0.08918735  0.06215361  0.00775392  0.03799143\n",
      " -0.00258805  0.03867367  0.01680507  0.05759398 -0.08529698 -0.04937716\n",
      "  0.07262577  0.08366182  0.02976759 -0.01703191  0.04081461 -0.06943402\n",
      " -0.07731503  0.01197052  0.0053609   0.10749745  0.06680916 -0.01276721\n",
      " -0.03660838 -0.08919897 -0.12191457  0.00815062 -0.01059757 -0.00596988\n",
      "  0.09950223 -0.02609137 -0.0383562  -0.03504388  0.05037077  0.0249048\n",
      " -0.00840941  0.13667782]\n",
      "(128, 2)\n",
      "[[-0.02489698  0.03735565]\n",
      " [-0.05052399 -0.03504039]\n",
      " [ 0.00643161 -0.02217757]\n",
      " [-0.00821158  0.0132304 ]\n",
      " [-0.07351264 -0.07523311]\n",
      " [-0.02326442 -0.07031766]\n",
      " [-0.01810085 -0.01211235]\n",
      " [ 0.01692173 -0.05913647]\n",
      " [-0.01278219  0.0359778 ]\n",
      " [-0.05133998 -0.11626735]\n",
      " [ 0.0141927   0.03744502]\n",
      " [ 0.01293162  0.0334865 ]\n",
      " [-0.07734409 -0.07041152]\n",
      " [ 0.02647892  0.05497146]\n",
      " [-0.03104847 -0.04305403]\n",
      " [-0.02024052  0.03534143]\n",
      " [ 0.03489167  0.07894404]\n",
      " [ 0.04426214  0.07372048]\n",
      " [ 0.08376317  0.09838341]\n",
      " [ 0.04952111  0.07195645]\n",
      " [-0.07212681 -0.09318826]\n",
      " [-0.01899134  0.04437087]\n",
      " [-0.06598855 -0.05928031]\n",
      " [-0.04032938 -0.07559143]\n",
      " [-0.01688349  0.09660067]\n",
      " [ 0.03832373  0.03292616]\n",
      " [-0.01088326 -0.00027127]\n",
      " [-0.01021543 -0.05002856]\n",
      " [ 0.04160389  0.05912937]\n",
      " [ 0.02573159  0.02703474]\n",
      " [ 0.00571989 -0.01349044]\n",
      " [ 0.05141127  0.11832742]\n",
      " [-0.0354414  -0.02785058]\n",
      " [ 0.03459821  0.08542471]\n",
      " [ 0.03820553 -0.00587788]\n",
      " [-0.02879284  0.00705477]\n",
      " [ 0.00692179 -0.03104624]\n",
      " [-0.0354858  -0.02895707]\n",
      " [-0.0201057   0.01778373]\n",
      " [-0.03791515 -0.04903418]\n",
      " [ 0.00135138  0.02100225]\n",
      " [ 0.03036554  0.03233493]\n",
      " [ 0.00424715  0.05120129]\n",
      " [ 0.05342467  0.10566654]\n",
      " [-0.04247887 -0.02070927]\n",
      " [ 0.04498743 -0.007469  ]\n",
      " [-0.02336542  0.01606124]\n",
      " [-0.02821766  0.00756305]\n",
      " [ 0.02692588  0.03986363]\n",
      " [-0.01006284 -0.04516726]\n",
      " [ 0.0009644   0.01005109]\n",
      " [ 0.01714842  0.0091058 ]\n",
      " [ 0.00076355 -0.01842831]\n",
      " [ 0.02668407  0.03444333]\n",
      " [-0.01811202 -0.03074442]\n",
      " [-0.04951641 -0.03560506]\n",
      " [-0.00836854  0.02094094]\n",
      " [-0.04120313 -0.04169653]\n",
      " [-0.01667412 -0.02583948]\n",
      " [-0.03620613 -0.08846772]\n",
      " [ 0.04859411  0.06322729]\n",
      " [ 0.00914418 -0.00857027]\n",
      " [-0.05046156 -0.01850366]\n",
      " [-0.0243607  -0.01381712]\n",
      " [ 0.01927145  0.01544305]\n",
      " [ 0.02327728 -0.0264369 ]\n",
      " [-0.07443111 -0.04435549]\n",
      " [ 0.02873673  0.05628647]\n",
      " [-0.00627365  0.01831524]\n",
      " [-0.06441654 -0.0909805 ]\n",
      " [-0.00417977 -0.03730617]\n",
      " [-0.02179801 -0.03782981]\n",
      " [-0.05945649  0.00731315]\n",
      " [ 0.00454753  0.04200811]\n",
      " [-0.06056052 -0.11564562]\n",
      " [-0.00290074 -0.01563894]\n",
      " [ 0.04977814 -0.01294077]\n",
      " [ 0.10757856 -0.06752082]\n",
      " [-0.04604999  0.06123878]\n",
      " [-0.04097356  0.04481453]\n",
      " [ 0.02243086  0.00768506]\n",
      " [ 0.02185724  0.03177284]\n",
      " [-0.0565096  -0.05077778]\n",
      " [-0.05020368 -0.05933765]\n",
      " [ 0.06761488  0.01732005]\n",
      " [ 0.01450881  0.04823112]\n",
      " [ 0.01237216 -0.02879349]\n",
      " [-0.05785289 -0.04805036]\n",
      " [ 0.04692884  0.04246155]\n",
      " [ 0.04782309  0.05166504]\n",
      " [ 0.09442014  0.06058114]\n",
      " [ 0.01522644 -0.01875304]\n",
      " [ 0.12203538  0.08918735]\n",
      " [ 0.09523863  0.06215361]\n",
      " [-0.0437463   0.00775392]\n",
      " [ 0.00882166  0.03799143]\n",
      " [-0.10119982 -0.00258805]\n",
      " [ 0.08118352  0.03867367]\n",
      " [ 0.01311951  0.01680507]\n",
      " [ 0.02496118  0.05759398]\n",
      " [ 0.06864528 -0.08529698]\n",
      " [-0.02723391 -0.04937716]\n",
      " [-0.025626    0.07262577]\n",
      " [ 0.05843873  0.08366182]\n",
      " [ 0.02045092  0.02976759]\n",
      " [ 0.04874284 -0.01703191]\n",
      " [ 0.02540212  0.04081461]\n",
      " [-0.00479804 -0.06943402]\n",
      " [-0.0235251  -0.07731503]\n",
      " [ 0.01644457  0.01197052]\n",
      " [ 0.06848736  0.0053609 ]\n",
      " [ 0.04443388  0.10749745]\n",
      " [-0.04666612  0.06680916]\n",
      " [-0.07578012 -0.01276721]\n",
      " [ 0.01071081 -0.03660838]\n",
      " [-0.10572591 -0.08919897]\n",
      " [-0.02616085 -0.12191457]\n",
      " [-0.00679     0.00815062]\n",
      " [-0.04555999 -0.01059757]\n",
      " [ 0.00447708 -0.00596988]\n",
      " [ 0.08336297  0.09950223]\n",
      " [-0.06438809 -0.02609137]\n",
      " [-0.03216237 -0.0383562 ]\n",
      " [-0.03773187 -0.03504388]\n",
      " [ 0.05089418  0.05037077]\n",
      " [ 0.02761541  0.0249048 ]\n",
      " [-0.00206213 -0.00840941]\n",
      " [ 0.0420544   0.13667782]]\n"
     ]
    }
   ],
   "source": [
    "import numpy as np\n",
    "# vstack\n",
    "from numpy import vstack\n",
    "from numpy import hstack\n",
    "from numpy import dstack\n",
    "\n",
    "a1 = model.docvecs['133521']\n",
    "# print(a1)\n",
    "print(a1.shape)\n",
    "print(a1)\n",
    "a2 = model.docvecs['7918']\n",
    "# print(a2)\n",
    "print(a2.shape)\n",
    "print(a2)\n",
    "\n",
    "c = np.array((a1, a2))\n",
    "c = c.T\n",
    "print(c.shape)\n",
    "print(c)\n",
    "\n"
   ]
  },
  {
   "cell_type": "code",
   "execution_count": 21,
   "metadata": {},
   "outputs": [
    {
     "name": "stdout",
     "output_type": "stream",
     "text": [
      "[-4.80370857e-02 -9.78515819e-02 -8.97581037e-03  7.48429820e-03\n",
      "  1.77877359e-02  5.54668531e-02 -5.60946241e-02 -1.96124590e-03\n",
      "  9.07555372e-02 -3.62381302e-02 -3.52795143e-03 -7.80802369e-02\n",
      "  1.79551076e-02  2.75645070e-02  1.44851336e-03 -2.55759321e-02\n",
      "  2.94994228e-02 -5.23815341e-02  2.32474450e-02 -8.53188708e-03\n",
      "  2.08726041e-02  4.03827522e-03 -1.38276204e-01 -1.61579885e-02\n",
      "  7.18939826e-02  5.61598456e-03 -1.25992522e-02 -5.88448271e-02\n",
      " -5.52711450e-02  3.30105238e-02  5.60095273e-02  1.66105554e-01\n",
      "  5.04797921e-02 -3.30153070e-02  3.03500965e-02 -3.69303524e-02\n",
      "  3.13679166e-02 -5.91785982e-02  1.06321633e-01 -4.39745970e-02\n",
      " -3.88688445e-02  8.59545469e-02 -1.18709123e-02  3.91735919e-02\n",
      " -8.31311755e-03  1.17642939e-01 -5.03510237e-02  1.28419369e-01\n",
      "  6.67862520e-02 -3.28338668e-02 -5.89939952e-03 -2.94710603e-02\n",
      "  9.66856629e-03 -2.31381459e-03 -1.09145511e-02 -7.86113366e-02\n",
      "  5.10773854e-04 -8.83352011e-02 -8.53827596e-02  4.02513556e-02\n",
      " -5.19542769e-03  1.18624300e-01  6.99265823e-02 -9.00207460e-02\n",
      "  1.70957800e-02 -2.40808725e-02  3.85240614e-02  3.06198448e-02\n",
      "  2.51187803e-03 -9.17251855e-02 -1.24119474e-02 -5.31110466e-02\n",
      " -1.30471671e-02 -4.50342288e-03  3.40878330e-02  4.06717137e-02\n",
      "  1.10769272e-01  3.14232036e-02  6.61304221e-02 -1.15493596e-01\n",
      "  2.41410416e-05 -2.96908319e-02 -2.00375970e-02  1.94770638e-02\n",
      "  9.69147086e-02  2.19796393e-02 -4.21022139e-02 -8.86549205e-02\n",
      "  3.78451496e-02  3.57658975e-02  1.47937629e-02 -1.69923604e-02\n",
      " -1.20995464e-02 -6.75362628e-03  8.74424353e-02 -3.99154760e-02\n",
      " -5.36610112e-02 -1.06168790e-02 -6.78613111e-02 -6.14422113e-02\n",
      "  1.59666598e-01 -1.37552153e-02  6.19877242e-02  6.78901048e-03\n",
      " -6.43456494e-03  1.20864557e-02 -1.93312578e-02  7.83368796e-02\n",
      "  1.00368885e-02 -3.58925574e-02  6.82215393e-02  5.08023500e-02\n",
      "  4.11729254e-02 -3.02051045e-02 -1.58505272e-02 -6.64804550e-03\n",
      "  5.15334010e-02 -7.21813366e-02  7.02463165e-02 -5.82920425e-02\n",
      " -2.53317412e-02 -3.46301831e-02 -4.94208140e-03  5.97147550e-03\n",
      "  1.22033618e-01 -4.33968008e-03  5.45376493e-03  9.12988335e-02]\n"
     ]
    }
   ],
   "source": [
    "a2 = model.docvecs['90016']\n",
    "\n",
    "print(a2)"
   ]
  },
  {
   "cell_type": "code",
   "execution_count": null,
   "metadata": {},
   "outputs": [],
   "source": []
  }
 ],
 "metadata": {
  "kernelspec": {
   "display_name": "Python 3",
   "language": "python",
   "name": "python3"
  },
  "language_info": {
   "codemirror_mode": {
    "name": "ipython",
    "version": 3
   },
   "file_extension": ".py",
   "mimetype": "text/x-python",
   "name": "python",
   "nbconvert_exporter": "python",
   "pygments_lexer": "ipython3",
   "version": "3.5.4"
  }
 },
 "nbformat": 4,
 "nbformat_minor": 2
}
