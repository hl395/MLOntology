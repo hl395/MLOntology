{
 "cells": [
  {
   "cell_type": "code",
   "execution_count": 1,
   "metadata": {},
   "outputs": [
    {
     "name": "stderr",
     "output_type": "stream",
     "text": [
      "d:\\Anaconda3\\envs\\MLOntology\\lib\\site-packages\\gensim\\utils.py:1197: UserWarning: detected Windows; aliasing chunkize to chunkize_serial\n",
      "  warnings.warn(\"detected Windows; aliasing chunkize to chunkize_serial\")\n"
     ]
    }
   ],
   "source": [
    "import gensim\n",
    "import os\n",
    "import collections\n",
    "import smart_open\n",
    "import random\n",
    "import multiprocessing\n",
    "from gensim.models.doc2vec import Doc2Vec, TaggedDocument\n",
    "from pprint import pprint"
   ]
  },
  {
   "cell_type": "code",
   "execution_count": 2,
   "metadata": {},
   "outputs": [],
   "source": [
    "#global variabls\n",
    "\n",
    "directory_path = \"D:/MLOntology/NCIt/\"\n",
    "data_path = directory_path + \"data/\"\n",
    "vector_model_path = directory_path +\"vectorModel/\"\n",
    "cnn_model_path = directory_path +\"cnnModel/\""
   ]
  },
  {
   "cell_type": "code",
   "execution_count": 3,
   "metadata": {},
   "outputs": [],
   "source": [
    "import re\n",
    "def get_trailing_number(s):\n",
    "    m = re.search(r'\\d+$', s)\n",
    "    return m.group() if m else None"
   ]
  },
  {
   "cell_type": "code",
   "execution_count": 4,
   "metadata": {},
   "outputs": [
    {
     "name": "stdout",
     "output_type": "stream",
     "text": [
      "prostate carcinoma\n",
      "stage ia esophageal cancer ajcc v7\n",
      "[]\n"
     ]
    }
   ],
   "source": [
    "#read class label file\n",
    "#create mapping from id to labels  \n",
    "#iso-8859-1 , encoding=\"iso-8859-1\"\n",
    "conceptLabelDict={}\n",
    "errors=[]\n",
    "\n",
    "def read_label(fname):\n",
    "    with smart_open.smart_open(fname) as f:\n",
    "        for i, line in enumerate(f):\n",
    "            #get the id for each concept paragraph\n",
    "            splitted = line.decode(\"iso-8859-1\").split(\"\\t\")\n",
    "            if len(splitted)==3:\n",
    "                conceptID = get_trailing_number(splitted[1])\n",
    "                conceptLabelDict[conceptID] = splitted[2].replace(\"\\r\\n\", \"\")\n",
    "            else:\n",
    "                errors.append(splitted)\n",
    "\n",
    "label_file = data_path + \"ontClassLabels_owl_ncit.txt\"\n",
    "read_label(label_file)\n",
    "print(conceptLabelDict[\"4863\"])\n",
    "print(conceptLabelDict[\"115117\"])\n",
    "print(errors)\n"
   ]
  },
  {
   "cell_type": "code",
   "execution_count": 5,
   "metadata": {},
   "outputs": [
    {
     "name": "stdout",
     "output_type": "stream",
     "text": [
      "9955\n"
     ]
    }
   ],
   "source": [
    "print(len(conceptLabelDict))"
   ]
  },
  {
   "cell_type": "code",
   "execution_count": 6,
   "metadata": {},
   "outputs": [],
   "source": [
    "def read_corpus(fname, tokens_only=False):\n",
    "    with smart_open.smart_open(fname) as f:\n",
    "        for i, line in enumerate(f):\n",
    "            #get the id for each concept paragraph\n",
    "            splitted = line.decode(\"iso-8859-1\").split(\"\\t\", 2)\n",
    "            \n",
    "            line = splitted[2]\n",
    "            if tokens_only:\n",
    "                yield gensim.utils.simple_preprocess(line)\n",
    "            else:\n",
    "                # For training data, add tags\n",
    "                tagID = get_trailing_number(splitted[0])\n",
    "                conceptMappingDict[i]= int(tagID)\n",
    "                yield gensim.models.doc2vec.TaggedDocument(gensim.utils.simple_preprocess(line), [tagID])"
   ]
  },
  {
   "cell_type": "code",
   "execution_count": null,
   "metadata": {},
   "outputs": [],
   "source": []
  },
  {
   "cell_type": "code",
   "execution_count": 7,
   "metadata": {},
   "outputs": [],
   "source": [
    "conceptMappingDict={}\n",
    "\n",
    "train_file = data_path + \"ontClassTopology_owl_ncit.txt\"\n",
    "\n",
    "train_corpus = list(read_corpus(train_file))"
   ]
  },
  {
   "cell_type": "code",
   "execution_count": 8,
   "metadata": {},
   "outputs": [
    {
     "name": "stdout",
     "output_type": "stream",
     "text": [
      "9955\n"
     ]
    },
    {
     "data": {
      "text/plain": [
       "[TaggedDocument(words=['neoplasm', 'by', 'special', 'category', 'neoplasm', 'by', 'obsolete', 'classification', 'hematopoietic', 'and', 'lymphoid', 'neoplasm', 'antiquated', 'lymphoma', 'by', 'working', 'formulation', 'antiquated', 'intermediate', 'grade', 'lymphoma', 'adult', 'non', 'hodgkin', 'lymphoma', 'grade', 'intermediate', 'grade', 'adult', 'non', 'hodgkin', 'lymphoma', 'stage', 'iii', 'intermediate', 'grade', 'adult', 'non', 'hodgkin', 'lymphoma', 'stage', 'iii', 'intermediate', 'grade', 'adult', 'non', 'hodgkin', 'lymphoma', 'stage', 'iii', 'intermediate', 'grade', 'adult', 'non', 'hodgkin', 'lymphoma'], tags=['8131']),\n",
       " TaggedDocument(words=['neoplasm', 'by', 'morphology', 'neoplasm', 'by', 'site', 'epithelial', 'neoplasm', 'head', 'and', 'neck', 'neoplasm', 'carcinoma', 'neck', 'neoplasm', 'malignant', 'head', 'and', 'neck', 'neoplasm', 'mucin', 'producing', 'carcinoma', 'laryngeal', 'neoplasm', 'malignant', 'neck', 'neoplasm', 'head', 'and', 'neck', 'carcinoma', 'mucoepidermoid', 'carcinoma', 'malignant', 'laryngeal', 'neoplasm', 'neck', 'carcinoma', 'throat', 'cancer', 'laryngeal', 'carcinoma', 'laryngeal', 'mucoepidermoid', 'carcinoma', 'laryngeal', 'mucoepidermoid', 'carcinoma', 'laryngeal', 'mucoepidermoid', 'carcinoma'], tags=['9463']),\n",
       " TaggedDocument(words=['neoplasm', 'by', 'morphology', 'neoplasm', 'by', 'site', 'hematopoietic', 'and', 'lymphoid', 'system', 'neoplasm', 'hematopoietic', 'and', 'lymphoid', 'cell', 'neoplasm', 'lymphocytic', 'neoplasm', 'lymphoma', 'cell', 'neoplasm', 'non', 'hodgkin', 'lymphoma', 'lymphoma', 'by', 'stage', 'mature', 'cell', 'neoplasm', 'non', 'hodgkin', 'lymphoma', 'by', 'clinical', 'course', 'cell', 'non', 'hodgkin', 'lymphoma', 'lymphoma', 'by', 'ann', 'arbor', 'stage', 'aggressive', 'non', 'hodgkin', 'lymphoma', 'mature', 'cell', 'non', 'hodgkin', 'lymphoma', 'non', 'hodgkin', 'lymphoma', 'by', 'ann', 'arbor', 'stage', 'ann', 'arbor', 'stage', 'iii', 'lymphoma', 'follicular', 'lymphoma', 'cell', 'non', 'hodgkin', 'lymphoma', 'by', 'ann', 'arbor', 'stage', 'ann', 'arbor', 'stage', 'iii', 'non', 'hodgkin', 'lymphoma', 'grade', 'follicular', 'lymphoma', 'follicular', 'lymphoma', 'by', 'ann', 'arbor', 'stage', 'ann', 'arbor', 'stage', 'iii', 'cell', 'non', 'hodgkin', 'lymphoma', 'ann', 'arbor', 'stage', 'iii', 'follicular', 'lymphoma', 'ann', 'arbor', 'stage', 'iii', 'grade', 'follicular', 'lymphoma', 'ann', 'arbor', 'stage', 'iii', 'grade', 'follicular', 'lymphoma', 'ann', 'arbor', 'stage', 'iii', 'grade', 'follicular', 'lymphoma'], tags=['8132'])]"
      ]
     },
     "execution_count": 8,
     "metadata": {},
     "output_type": "execute_result"
    }
   ],
   "source": [
    "print(len(train_corpus))\n",
    "train_corpus[1296:1299]"
   ]
  },
  {
   "cell_type": "code",
   "execution_count": 15,
   "metadata": {},
   "outputs": [
    {
     "name": "stdout",
     "output_type": "stream",
     "text": [
      "4\n"
     ]
    }
   ],
   "source": [
    "cores = multiprocessing.cpu_count()\n",
    "\n",
    "print(cores)\n",
    "models = [\n",
    "    # PV-DBOW \n",
    "    Doc2Vec(dm=0, dbow_words=1, vector_size=128, window=20, min_count=1, epochs=10, workers=cores),\n",
    "    # PV-DM w/average\n",
    "    Doc2Vec(dm=1, dm_mean=1, vector_size=128, window=20, min_count=1, epochs=10, workers=cores),\n",
    "]\n"
   ]
  },
  {
   "cell_type": "code",
   "execution_count": 16,
   "metadata": {},
   "outputs": [
    {
     "name": "stdout",
     "output_type": "stream",
     "text": [
      "Doc2Vec(dbow+w,d128,n5,w20,s0.001,t4)\n",
      "Doc2Vec(dm/m,d128,n5,w20,s0.001,t4)\n"
     ]
    }
   ],
   "source": [
    "models[0].build_vocab(train_corpus)\n",
    "print(str(models[0]))\n",
    "models[1].reset_from(models[0])\n",
    "print(str(models[1]))"
   ]
  },
  {
   "cell_type": "code",
   "execution_count": 17,
   "metadata": {},
   "outputs": [
    {
     "name": "stdout",
     "output_type": "stream",
     "text": [
      "Wall time: 31 s\n",
      "Wall time: 6.7 s\n"
     ]
    }
   ],
   "source": [
    "for model in models:\n",
    "    %%time model.train(train_corpus, total_examples=model.corpus_count, epochs=model.epochs)"
   ]
  },
  {
   "cell_type": "code",
   "execution_count": 18,
   "metadata": {},
   "outputs": [],
   "source": [
    "for i, model in enumerate(models):\n",
    "    temp_path = vector_model_path + \"model\" + str(i)  # creates a temp file\n",
    "    model.save(temp_path)"
   ]
  },
  {
   "cell_type": "code",
   "execution_count": 19,
   "metadata": {},
   "outputs": [
    {
     "name": "stdout",
     "output_type": "stream",
     "text": [
      "Doc2Vec(dbow+w,d128,n5,w20,s0.001,t4)\n",
      "[('4380', 0.6904844045639038),\n",
      " ('3615', 0.6812392473220825),\n",
      " ('45750', 0.6809202432632446),\n",
      " ('4453', 0.6776319742202759),\n",
      " ('45749', 0.6672717332839966),\n",
      " ('7744', 0.6627799272537231),\n",
      " ('116899', 0.6626230478286743),\n",
      " ('45752', 0.6624276041984558),\n",
      " ('4494', 0.6618131995201111),\n",
      " ('3841', 0.6600770950317383),\n",
      " ('6387', 0.6590962409973145),\n",
      " ('8539', 0.6583346724510193),\n",
      " ('3086', 0.6558387279510498),\n",
      " ('7053', 0.6551984548568726),\n",
      " ('3205', 0.654028594493866),\n",
      " ('27127', 0.6531809568405151),\n",
      " ('45751', 0.6502649188041687),\n",
      " ('7393', 0.649591326713562),\n",
      " ('4487', 0.6492371559143066),\n",
      " ('3480', 0.6482855081558228)]\n",
      "Doc2Vec(dm/m,d128,n5,w20,s0.001,t4)\n",
      "[('142823', 0.6021954417228699),\n",
      " ('6587', 0.45289045572280884),\n",
      " ('6721', 0.44645121693611145),\n",
      " ('3263', 0.4138094186782837),\n",
      " ('3084', 0.4113937318325043),\n",
      " ('4370', 0.4108443260192871),\n",
      " ('7576', 0.4001743793487549),\n",
      " ('4228', 0.3985741138458252),\n",
      " ('139533', 0.38129493594169617),\n",
      " ('90513', 0.37288862466812134),\n",
      " ('4380', 0.36983275413513184),\n",
      " ('3085', 0.36903640627861023),\n",
      " ('7388', 0.3669338822364807),\n",
      " ('4562', 0.36112740635871887),\n",
      " ('5665', 0.3603922426700592),\n",
      " ('4880', 0.359565794467926),\n",
      " ('3810', 0.35333043336868286),\n",
      " ('5350', 0.3512634336948395),\n",
      " ('5652', 0.3510688543319702),\n",
      " ('27004', 0.3469782769680023)]\n"
     ]
    }
   ],
   "source": [
    "for model in models:\n",
    "    print(str(model))\n",
    "    inferred_vector = model.infer_vector(['congenital', 'prolong', 'rupture', 'premature', 'membrane', 'lung'])\n",
    "    pprint(model.docvecs.most_similar([inferred_vector], topn=20))"
   ]
  },
  {
   "cell_type": "code",
   "execution_count": null,
   "metadata": {},
   "outputs": [],
   "source": [
    "model.docvecs['133521']"
   ]
  },
  {
   "cell_type": "code",
   "execution_count": null,
   "metadata": {},
   "outputs": [],
   "source": [
    "#gensim.utils.simple_preprocess??\n",
    "gensim.models.doc2vec.TaggedDocument??"
   ]
  },
  {
   "cell_type": "code",
   "execution_count": null,
   "metadata": {},
   "outputs": [],
   "source": [
    "model = gensim.models.doc2vec.Doc2Vec(size=50, min_count=1, iter=5, alpha=0.025, min_alpha=0.025, sample = 1e-3)\n",
    "\n",
    "gensim.models.doc2vec.Doc2Vec??\n",
    "\n",
    "model.build_vocab(train_corpus)\n",
    "\n",
    "len(model.wv.vocab)\n",
    "\n",
    "%time model.train(train_corpus, total_examples=model.corpus_count, epochs=model.iter)\n",
    "\n",
    "# inferred_vector = model.infer_vector(['clinical', 'finding', 'evaluation', 'prevent', 'sampling', 'foot'])\n",
    "inferred_vector = model.infer_vector(['congenital', 'prolong', 'rupture', 'premature', 'membrane', 'lung'])\n",
    "\n",
    "\n",
    "sims = model.docvecs.most_similar([inferred_vector], topn=10)\n",
    "pprint(sims)\n",
    "\n",
    "for sim in sims:\n",
    "    print(train_corpus[sim[0]].words, \"score: \", sim[1])\n",
    "    \n",
    "for sim in sims:\n",
    "    print(conceptMappingDict[sim[0]], \"score: \", sim[1])\n",
    "  \n",
    "\n",
    "from tempfile import mkstemp\n",
    "\n",
    "fs, temp_path = mkstemp(\"gensim_temp\")  # creates a temp file\n",
    "\n",
    "model.save(temp_path)  # save the model\n",
    "\n",
    "new_model = gensim.models.Doc2Vec.load(temp_path)"
   ]
  },
  {
   "cell_type": "code",
   "execution_count": null,
   "metadata": {},
   "outputs": [],
   "source": []
  }
 ],
 "metadata": {
  "kernelspec": {
   "display_name": "Python 3",
   "language": "python",
   "name": "python3"
  },
  "language_info": {
   "codemirror_mode": {
    "name": "ipython",
    "version": 3
   },
   "file_extension": ".py",
   "mimetype": "text/x-python",
   "name": "python",
   "nbconvert_exporter": "python",
   "pygments_lexer": "ipython3",
   "version": "3.5.5"
  }
 },
 "nbformat": 4,
 "nbformat_minor": 2
}
