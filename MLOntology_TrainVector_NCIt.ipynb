{
 "cells": [
  {
   "cell_type": "code",
   "execution_count": 1,
   "metadata": {},
   "outputs": [
    {
     "name": "stderr",
     "output_type": "stream",
     "text": [
      "d:\\Anaconda3\\envs\\MLOntology\\lib\\site-packages\\gensim\\utils.py:1197: UserWarning: detected Windows; aliasing chunkize to chunkize_serial\n",
      "  warnings.warn(\"detected Windows; aliasing chunkize to chunkize_serial\")\n"
     ]
    }
   ],
   "source": [
    "import gensim\n",
    "import os\n",
    "import collections\n",
    "import smart_open\n",
    "import random\n",
    "import multiprocessing\n",
    "from gensim.models.doc2vec import Doc2Vec, TaggedDocument\n",
    "from pprint import pprint"
   ]
  },
  {
   "cell_type": "code",
   "execution_count": 2,
   "metadata": {},
   "outputs": [],
   "source": [
    "#global variabls\n",
    "\n",
    "directory_path = \"D:/MLOntology/NCIt/\"\n",
    "data_path = directory_path + \"data/\"\n",
    "vector_model_path = directory_path +\"vectorModel/\"\n",
    "cnn_model_path = directory_path +\"cnnModel/\""
   ]
  },
  {
   "cell_type": "code",
   "execution_count": 3,
   "metadata": {},
   "outputs": [],
   "source": [
    "import re\n",
    "def get_trailing_number(s):\n",
    "    m = re.search(r'\\d+$', s)\n",
    "    return m.group() if m else None"
   ]
  },
  {
   "cell_type": "code",
   "execution_count": 4,
   "metadata": {},
   "outputs": [
    {
     "name": "stdout",
     "output_type": "stream",
     "text": [
      "prostate carcinoma\n",
      "stage ia esophageal cancer ajcc v7\n",
      "[]\n"
     ]
    }
   ],
   "source": [
    "#read class label file\n",
    "#create mapping from id to labels  \n",
    "#iso-8859-1 , encoding=\"iso-8859-1\"\n",
    "conceptLabelDict={}\n",
    "errors=[]\n",
    "\n",
    "def read_label(fname):\n",
    "    with smart_open.smart_open(fname) as f:\n",
    "        for i, line in enumerate(f):\n",
    "            #get the id for each concept paragraph\n",
    "            splitted = line.decode(\"iso-8859-1\").split(\"\\t\")\n",
    "            if len(splitted)==3:\n",
    "                conceptID = get_trailing_number(splitted[1])\n",
    "                conceptLabelDict[conceptID] = splitted[2].replace(\"\\r\\n\", \"\")\n",
    "            else:\n",
    "                errors.append(splitted)\n",
    "\n",
    "label_file = data_path + \"ontClassLabels_owl_ncit.txt\"\n",
    "read_label(label_file)\n",
    "print(conceptLabelDict[\"4863\"])\n",
    "print(conceptLabelDict[\"115117\"])\n",
    "print(errors)\n"
   ]
  },
  {
   "cell_type": "code",
   "execution_count": 5,
   "metadata": {},
   "outputs": [
    {
     "name": "stdout",
     "output_type": "stream",
     "text": [
      "9955\n"
     ]
    }
   ],
   "source": [
    "print(len(conceptLabelDict))"
   ]
  },
  {
   "cell_type": "code",
   "execution_count": 6,
   "metadata": {},
   "outputs": [],
   "source": [
    "def read_corpus(fname, tokens_only=False):\n",
    "    with smart_open.smart_open(fname) as f:\n",
    "        for i, line in enumerate(f):\n",
    "            #get the id for each concept paragraph\n",
    "            splitted = line.decode(\"iso-8859-1\").split(\"\\t\", 2)\n",
    "            \n",
    "            line = splitted[2]\n",
    "            if tokens_only:\n",
    "                yield gensim.utils.simple_preprocess(line)\n",
    "            else:\n",
    "                # For training data, add tags\n",
    "                tagID = get_trailing_number(splitted[0])\n",
    "                conceptMappingDict[i]= int(tagID)\n",
    "                yield gensim.models.doc2vec.TaggedDocument(gensim.utils.simple_preprocess(line), [tagID])"
   ]
  },
  {
   "cell_type": "code",
   "execution_count": null,
   "metadata": {},
   "outputs": [],
   "source": []
  },
  {
   "cell_type": "code",
   "execution_count": 7,
   "metadata": {},
   "outputs": [],
   "source": [
    "conceptMappingDict={}\n",
    "\n",
    "train_file = data_path + \"ontClassTopology_owl_ncit.txt\"\n",
    "\n",
    "train_corpus = list(read_corpus(train_file))"
   ]
  },
  {
   "cell_type": "code",
   "execution_count": 10,
   "metadata": {},
   "outputs": [
    {
     "name": "stdout",
     "output_type": "stream",
     "text": [
      "9955\n"
     ]
    },
    {
     "data": {
      "text/plain": [
       "[TaggedDocument(words=['neoplasm', 'by', 'special', 'category', 'neoplasm', 'by', 'obsolete', 'classification', 'hematopoietic', 'and', 'lymphoid', 'neoplasm', 'antiquated', 'lymphoma', 'by', 'working', 'formulation', 'antiquated', 'intermediate', 'grade', 'lymphoma', 'adult', 'non', 'hodgkin', 'lymphoma', 'grade', 'intermediate', 'grade', 'adult', 'non', 'hodgkin', 'lymphoma', 'stage', 'iii', 'intermediate', 'grade', 'adult', 'non', 'hodgkin', 'lymphoma', 'stage', 'iii', 'intermediate', 'grade', 'adult', 'non', 'hodgkin', 'lymphoma', 'stage', 'iii', 'intermediate', 'grade', 'adult', 'non', 'hodgkin', 'lymphoma'], tags=['8131']),\n",
       " TaggedDocument(words=['neoplasm', 'by', 'morphology', 'neoplasm', 'by', 'site', 'epithelial', 'neoplasm', 'head', 'and', 'neck', 'neoplasm', 'carcinoma', 'neck', 'neoplasm', 'malignant', 'head', 'and', 'neck', 'neoplasm', 'mucin', 'producing', 'carcinoma', 'laryngeal', 'neoplasm', 'malignant', 'neck', 'neoplasm', 'head', 'and', 'neck', 'carcinoma', 'mucoepidermoid', 'carcinoma', 'malignant', 'laryngeal', 'neoplasm', 'neck', 'carcinoma', 'throat', 'cancer', 'laryngeal', 'carcinoma', 'laryngeal', 'mucoepidermoid', 'carcinoma', 'laryngeal', 'mucoepidermoid', 'carcinoma', 'laryngeal', 'mucoepidermoid', 'carcinoma'], tags=['9463']),\n",
       " TaggedDocument(words=['neoplasm', 'by', 'morphology', 'neoplasm', 'by', 'site', 'hematopoietic', 'and', 'lymphoid', 'system', 'neoplasm', 'hematopoietic', 'and', 'lymphoid', 'cell', 'neoplasm', 'lymphocytic', 'neoplasm', 'lymphoma', 'cell', 'neoplasm', 'non', 'hodgkin', 'lymphoma', 'lymphoma', 'by', 'stage', 'mature', 'cell', 'neoplasm', 'non', 'hodgkin', 'lymphoma', 'by', 'clinical', 'course', 'cell', 'non', 'hodgkin', 'lymphoma', 'lymphoma', 'by', 'ann', 'arbor', 'stage', 'aggressive', 'non', 'hodgkin', 'lymphoma', 'mature', 'cell', 'non', 'hodgkin', 'lymphoma', 'non', 'hodgkin', 'lymphoma', 'by', 'ann', 'arbor', 'stage', 'ann', 'arbor', 'stage', 'iii', 'lymphoma', 'follicular', 'lymphoma', 'cell', 'non', 'hodgkin', 'lymphoma', 'by', 'ann', 'arbor', 'stage', 'ann', 'arbor', 'stage', 'iii', 'non', 'hodgkin', 'lymphoma', 'grade', 'follicular', 'lymphoma', 'follicular', 'lymphoma', 'by', 'ann', 'arbor', 'stage', 'ann', 'arbor', 'stage', 'iii', 'cell', 'non', 'hodgkin', 'lymphoma', 'ann', 'arbor', 'stage', 'iii', 'follicular', 'lymphoma', 'ann', 'arbor', 'stage', 'iii', 'grade', 'follicular', 'lymphoma', 'ann', 'arbor', 'stage', 'iii', 'grade', 'follicular', 'lymphoma', 'ann', 'arbor', 'stage', 'iii', 'grade', 'follicular', 'lymphoma'], tags=['8132'])]"
      ]
     },
     "execution_count": 10,
     "metadata": {},
     "output_type": "execute_result"
    }
   ],
   "source": [
    "print(len(train_corpus))\n",
    "train_corpus[1296:1299]"
   ]
  },
  {
   "cell_type": "code",
   "execution_count": 11,
   "metadata": {},
   "outputs": [
    {
     "name": "stdout",
     "output_type": "stream",
     "text": [
      "4\n"
     ]
    }
   ],
   "source": [
    "cores = multiprocessing.cpu_count()\n",
    "\n",
    "print(cores)\n",
    "models = [\n",
    "    # PV-DBOW \n",
    "    Doc2Vec(dm=0, dbow_words=1, vector_size=200, window=8, min_count=1, epochs=10, workers=cores),\n",
    "    # PV-DM w/average\n",
    "    Doc2Vec(dm=1, dm_mean=1, vector_size=200, window=8, min_count=1, epochs =10, workers=cores),\n",
    "]\n"
   ]
  },
  {
   "cell_type": "code",
   "execution_count": 12,
   "metadata": {},
   "outputs": [
    {
     "name": "stdout",
     "output_type": "stream",
     "text": [
      "Doc2Vec(dbow+w,d200,n5,w8,s0.001,t4)\n",
      "Doc2Vec(dm/m,d200,n5,w8,s0.001,t4)\n"
     ]
    }
   ],
   "source": [
    "models[0].build_vocab(train_corpus)\n",
    "print(str(models[0]))\n",
    "models[1].reset_from(models[0])\n",
    "print(str(models[1]))"
   ]
  },
  {
   "cell_type": "code",
   "execution_count": 13,
   "metadata": {},
   "outputs": [
    {
     "name": "stdout",
     "output_type": "stream",
     "text": [
      "Wall time: 17.6 s\n",
      "Wall time: 6.44 s\n"
     ]
    }
   ],
   "source": [
    "for model in models:\n",
    "    %%time model.train(train_corpus, total_examples=model.corpus_count, epochs=model.epochs)"
   ]
  },
  {
   "cell_type": "code",
   "execution_count": 14,
   "metadata": {},
   "outputs": [],
   "source": [
    "for i, model in enumerate(models):\n",
    "    temp_path = vector_model_path + \"model\" + str(i)  # creates a temp file\n",
    "    model.save(temp_path)"
   ]
  },
  {
   "cell_type": "code",
   "execution_count": null,
   "metadata": {},
   "outputs": [],
   "source": [
    "model = Doc2Vec.load(\"model1\") \n",
    "\n",
    "pprint(model.docvecs.most_similar([inferred_vector], topn=20))"
   ]
  },
  {
   "cell_type": "code",
   "execution_count": 15,
   "metadata": {},
   "outputs": [
    {
     "name": "stdout",
     "output_type": "stream",
     "text": [
      "Doc2Vec(dbow+w,d200,n5,w8,s0.001,t4)\n",
      "[('142823', 0.7881754636764526),\n",
      " ('3497', 0.7405018210411072),\n",
      " ('4566', 0.7280634045600891),\n",
      " ('5671', 0.7232069373130798),\n",
      " ('27710', 0.716212809085846),\n",
      " ('5662', 0.7042271494865417),\n",
      " ('4888', 0.7034896612167358),\n",
      " ('4453', 0.7034471035003662),\n",
      " ('7527', 0.7026300430297852),\n",
      " ('8531', 0.6945658922195435),\n",
      " ('5663', 0.6913337111473083),\n",
      " ('35875', 0.6851045489311218),\n",
      " ('7779', 0.6831587553024292),\n",
      " ('3602', 0.6782907247543335),\n",
      " ('45612', 0.6752529144287109),\n",
      " ('4565', 0.674105167388916),\n",
      " ('7454', 0.6707520484924316),\n",
      " ('142828', 0.6687768697738647),\n",
      " ('4571', 0.6676112413406372),\n",
      " ('142829', 0.654915452003479)]\n",
      "Doc2Vec(dm/m,d200,n5,w8,s0.001,t4)\n",
      "[('3725', 0.6372205018997192),\n",
      " ('45514', 0.6368991136550903),\n",
      " ('139545', 0.5913213491439819),\n",
      " ('5665', 0.5877687335014343),\n",
      " ('45652', 0.5866506099700928),\n",
      " ('5658', 0.5679271221160889),\n",
      " ('3995', 0.5677281618118286),\n",
      " ('90513', 0.5654343366622925),\n",
      " ('45631', 0.5635276436805725),\n",
      " ('36305', 0.5595929026603699),\n",
      " ('54658', 0.5566526651382446),\n",
      " ('60310', 0.5557576417922974),\n",
      " ('5276', 0.5535883903503418),\n",
      " ('8602', 0.5485438108444214),\n",
      " ('45633', 0.5464292168617249),\n",
      " ('27637', 0.5425015687942505),\n",
      " ('4860', 0.5338308811187744),\n",
      " ('136467', 0.5328513383865356),\n",
      " ('4121', 0.5271666646003723),\n",
      " ('4370', 0.5269477963447571)]\n"
     ]
    }
   ],
   "source": [
    "for model in models:\n",
    "    print(str(model))\n",
    "    inferred_vector = model.infer_vector(['congenital', 'prolong', 'rupture', 'premature', 'membrane', 'lung'])\n",
    "    pprint(model.docvecs.most_similar([inferred_vector], topn=20))"
   ]
  },
  {
   "cell_type": "code",
   "execution_count": null,
   "metadata": {},
   "outputs": [],
   "source": [
    "for model in models:\n",
    "    print(str(model))\n",
    "    inferred_vector = model.infer_vector(['congenital', 'prolong', 'rupture', 'premature', 'membrane', 'lung'])\n",
    "    sims= model.docvecs.most_similar([inferred_vector], topn=20)\n",
    "    for sim in sims:\n",
    "        index = str(conceptMappingDict[sim[0]])\n",
    "        print(conceptLabelDict[index], \"score: \", sim[1])\n",
    "    "
   ]
  },
  {
   "cell_type": "code",
   "execution_count": 16,
   "metadata": {},
   "outputs": [
    {
     "data": {
      "text/plain": [
       "array([-6.30423054e-03,  2.26436779e-02, -2.37022508e-02,  2.08223797e-02,\n",
       "        7.71466643e-02, -2.17750873e-02, -1.57992672e-02, -1.73736028e-02,\n",
       "        2.11519413e-02, -1.98172368e-02, -1.82828847e-02, -2.78533455e-02,\n",
       "        2.14598104e-02, -2.88935844e-02, -5.85346371e-02,  2.33500190e-02,\n",
       "        5.70625626e-02, -1.31705217e-02,  2.60410402e-02, -5.64714894e-03,\n",
       "       -2.05279905e-02, -5.64146824e-02, -9.32227354e-04, -2.97767129e-02,\n",
       "        7.56343966e-03, -3.85058448e-02, -3.32194790e-02, -7.20774680e-02,\n",
       "        3.88865396e-02,  1.94361359e-02,  8.27738345e-02,  3.78705794e-03,\n",
       "        1.08767077e-02,  3.32356058e-03, -6.42525703e-02, -5.77526458e-04,\n",
       "        7.24956393e-02, -2.97766505e-03,  1.76604334e-02,  3.85918953e-02,\n",
       "        6.97201176e-06,  5.49658798e-02,  1.97130116e-03, -5.02299704e-03,\n",
       "        3.27985510e-02,  2.27714051e-02,  3.02614104e-02,  3.52760665e-02,\n",
       "        3.59978899e-02, -3.52143571e-02,  5.48494644e-02, -3.04640569e-02,\n",
       "        9.12699325e-04, -2.13289447e-02, -3.21456301e-03,  4.61550895e-03,\n",
       "       -1.98386349e-02,  2.32571345e-02,  3.87918204e-02,  2.35885065e-02,\n",
       "        3.65063688e-03,  3.12469862e-02,  1.22317960e-02,  7.49692321e-02,\n",
       "       -1.91645287e-02, -5.93089610e-02,  2.88559496e-02, -1.34447822e-04,\n",
       "       -3.16180661e-02, -3.70794386e-02, -3.32990754e-03,  1.02035413e-02,\n",
       "        8.46720487e-02,  8.62301216e-02,  1.85554884e-02,  8.01937580e-02,\n",
       "        5.94287179e-02,  1.37657986e-03, -2.11407784e-02,  5.19931279e-02,\n",
       "        2.71953586e-02, -2.87495088e-02, -1.76457949e-02, -3.86520438e-02,\n",
       "        2.12591458e-02,  4.27628495e-02, -1.08975731e-02,  6.88874796e-02,\n",
       "       -1.04402835e-02,  2.42925752e-02, -1.28982831e-02, -5.83343916e-02,\n",
       "       -2.37602275e-02,  3.76067907e-02, -8.67340248e-03,  6.83989050e-03,\n",
       "        4.29682061e-02,  2.99299043e-02,  1.11702709e-02,  6.04790598e-02,\n",
       "        8.91633425e-03,  1.98736936e-02, -1.74913444e-02, -4.93017174e-02,\n",
       "        1.64860114e-02, -6.67273672e-03,  1.93532016e-02,  1.55718881e-03,\n",
       "       -3.48563641e-02,  5.20422831e-02,  1.18902996e-02, -4.91672270e-02,\n",
       "       -2.14117430e-02,  4.37064953e-02,  4.00948003e-02, -8.08420256e-02,\n",
       "       -7.79055730e-02,  2.44267397e-02, -5.78639060e-02,  2.30057761e-02,\n",
       "       -3.50407697e-02, -8.09195340e-02, -1.39570201e-03, -5.38418554e-02,\n",
       "        2.84223575e-02, -3.17212194e-02,  2.11069006e-02,  6.61001131e-02,\n",
       "        2.86773853e-02, -3.31302769e-02,  2.08212640e-02, -3.77331264e-02,\n",
       "        4.29758150e-03,  3.10252197e-02,  3.20712589e-02,  1.00408820e-02,\n",
       "        1.91674605e-02,  1.00371785e-01,  2.08694991e-02,  1.77995786e-02,\n",
       "        5.34246676e-02, -9.91956331e-03,  8.52509364e-02, -6.52471464e-03,\n",
       "        5.92572950e-02, -2.96155084e-03,  5.45861758e-02,  2.47646887e-02,\n",
       "       -8.62323772e-03,  2.67604589e-02, -3.97396199e-02,  3.14351134e-02,\n",
       "        1.23901824e-02, -1.05823137e-01, -1.49683198e-02, -6.32199785e-03,\n",
       "       -6.63762400e-03, -3.30151361e-03,  1.07121095e-02, -5.42098545e-02,\n",
       "       -1.41251716e-03,  5.57483453e-03, -4.47055474e-02,  2.12966707e-02,\n",
       "        4.49287705e-02,  2.98225041e-03, -3.80054116e-02,  2.94462126e-02,\n",
       "       -1.95442121e-02,  3.38706374e-03,  2.25270633e-02,  1.56164763e-03,\n",
       "       -6.28413036e-02,  2.71914545e-02, -4.93505411e-02,  5.44898510e-02,\n",
       "       -1.31019084e-02,  4.12115939e-02,  1.51908500e-02,  6.06462322e-02,\n",
       "       -7.21159345e-03,  6.77779764e-02, -1.24549307e-02, -1.45125240e-02,\n",
       "       -4.25565317e-02,  7.58034596e-03,  3.23722581e-03,  5.24269268e-02,\n",
       "        6.27432466e-02,  6.75472468e-02,  3.33121903e-02, -6.20986000e-02,\n",
       "       -1.54326968e-02, -1.36084137e-02,  2.09409706e-02, -1.57523006e-02,\n",
       "        9.48333144e-02, -7.77963665e-04,  2.55631823e-02, -5.71253821e-02],\n",
       "      dtype=float32)"
      ]
     },
     "execution_count": 16,
     "metadata": {},
     "output_type": "execute_result"
    }
   ],
   "source": [
    "model.docvecs['133521']"
   ]
  },
  {
   "cell_type": "code",
   "execution_count": null,
   "metadata": {},
   "outputs": [],
   "source": [
    "#gensim.utils.simple_preprocess??\n",
    "gensim.models.doc2vec.TaggedDocument??"
   ]
  },
  {
   "cell_type": "code",
   "execution_count": null,
   "metadata": {},
   "outputs": [],
   "source": [
    "model = gensim.models.doc2vec.Doc2Vec(size=50, min_count=1, iter=5, alpha=0.025, min_alpha=0.025, sample = 1e-3)\n",
    "\n",
    "gensim.models.doc2vec.Doc2Vec??\n",
    "\n",
    "model.build_vocab(train_corpus)\n",
    "\n",
    "len(model.wv.vocab)\n",
    "\n",
    "%time model.train(train_corpus, total_examples=model.corpus_count, epochs=model.iter)\n",
    "\n",
    "# inferred_vector = model.infer_vector(['clinical', 'finding', 'evaluation', 'prevent', 'sampling', 'foot'])\n",
    "inferred_vector = model.infer_vector(['congenital', 'prolong', 'rupture', 'premature', 'membrane', 'lung'])\n",
    "\n",
    "\n",
    "sims = model.docvecs.most_similar([inferred_vector], topn=10)\n",
    "pprint(sims)\n",
    "\n",
    "for sim in sims:\n",
    "    print(train_corpus[sim[0]].words, \"score: \", sim[1])\n",
    "    \n",
    "for sim in sims:\n",
    "    print(conceptMappingDict[sim[0]], \"score: \", sim[1])\n",
    "  \n",
    "\n",
    "from tempfile import mkstemp\n",
    "\n",
    "fs, temp_path = mkstemp(\"gensim_temp\")  # creates a temp file\n",
    "\n",
    "model.save(temp_path)  # save the model\n",
    "\n",
    "new_model = gensim.models.Doc2Vec.load(temp_path)"
   ]
  },
  {
   "cell_type": "code",
   "execution_count": null,
   "metadata": {},
   "outputs": [],
   "source": [
    "for model in models:\n",
    "    print(str(model))\n",
    "    vec = [model.docvecs[\"Lady Gaga\"] - model[\"american\"] + model[\"japanese\"]]\n",
    "    pprint([m for m in model.docvecs.most_similar(vec, topn=11) if m[0] != \"Lady Gaga\"])"
   ]
  },
  {
   "cell_type": "code",
   "execution_count": null,
   "metadata": {
    "scrolled": true
   },
   "outputs": [],
   "source": [
    "print(\"Total: \",len(train_corpus))\n",
    "\n",
    "\n",
    "ranks = []\n",
    "second_ranks = []\n",
    "for doc_id in range(len(train_corpus)):\n",
    "    print(\"Processing: \", doc_id)\n",
    "    inferred_vector = model.infer_vector(train_corpus[doc_id].words)\n",
    "    sims = model.docvecs.most_similar([inferred_vector], topn=len(model.docvecs))\n",
    "    rank = [docid for docid, sim in sims].index(doc_id)\n",
    "    ranks.append(rank)\n",
    "    \n",
    "    second_ranks.append(sims[1])"
   ]
  },
  {
   "cell_type": "code",
   "execution_count": null,
   "metadata": {},
   "outputs": [],
   "source": [
    "import random, string\n",
    "\n",
    "def randomStr(length):\n",
    "   letters = string.ascii_lowercase\n",
    "   return ''.join(random.choice(letters) for i in range(length))\n"
   ]
  },
  {
   "cell_type": "code",
   "execution_count": null,
   "metadata": {},
   "outputs": [],
   "source": [
    "collections.Counter(ranks) "
   ]
  },
  {
   "cell_type": "code",
   "execution_count": null,
   "metadata": {},
   "outputs": [],
   "source": []
  }
 ],
 "metadata": {
  "kernelspec": {
   "display_name": "Python 3",
   "language": "python",
   "name": "python3"
  },
  "language_info": {
   "codemirror_mode": {
    "name": "ipython",
    "version": 3
   },
   "file_extension": ".py",
   "mimetype": "text/x-python",
   "name": "python",
   "nbconvert_exporter": "python",
   "pygments_lexer": "ipython3",
   "version": "3.5.5"
  }
 },
 "nbformat": 4,
 "nbformat_minor": 2
}
