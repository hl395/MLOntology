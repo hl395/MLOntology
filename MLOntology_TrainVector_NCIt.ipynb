{
 "cells": [
  {
   "cell_type": "code",
   "execution_count": 1,
   "metadata": {},
   "outputs": [],
   "source": [
    "import gensim\n",
    "import os\n",
    "import collections\n",
    "import smart_open\n",
    "import random\n",
    "import multiprocessing\n",
    "from gensim.models.doc2vec import Doc2Vec, TaggedDocument\n",
    "from pprint import pprint"
   ]
  },
  {
   "cell_type": "code",
   "execution_count": 2,
   "metadata": {},
   "outputs": [],
   "source": [
    "#global variabls\n",
    "\n",
    "directory_path = \"/home/hao/AnacondaProjects/MLOntology/NCIt/\"\n",
    "data_path = directory_path + \"data/\"\n",
    "vector_model_path = directory_path +\"vectorModel/\"\n",
    "cnn_model_path = directory_path +\"cnnModel/\""
   ]
  },
  {
   "cell_type": "code",
   "execution_count": 7,
   "metadata": {},
   "outputs": [],
   "source": [
    "import re\n",
    "def get_trailing_number(s):\n",
    "    m = re.search(r'\\d+$', s)\n",
    "    return m.group() if m else None"
   ]
  },
  {
   "cell_type": "code",
   "execution_count": 9,
   "metadata": {},
   "outputs": [
    {
     "name": "stdout",
     "output_type": "stream",
     "text": [
      "prostate carcinoma\n",
      "stage ia esophageal cancer ajcc v7\n",
      "[]\n"
     ]
    }
   ],
   "source": [
    "#read class label file\n",
    "#create mapping from id to labels  \n",
    "#iso-8859-1 , encoding=\"iso-8859-1\"\n",
    "conceptLabelDict={}\n",
    "errors=[]\n",
    "\n",
    "def read_label(fname):\n",
    "    with smart_open.smart_open(fname) as f:\n",
    "        for i, line in enumerate(f):\n",
    "            #get the id for each concept paragraph\n",
    "            splitted = line.decode(\"iso-8859-1\").split(\"\\t\")\n",
    "            if len(splitted)==3:\n",
    "                conceptID = get_trailing_number(splitted[1])\n",
    "                conceptLabelDict[conceptID] = splitted[2].replace(\"\\r\\n\", \"\")\n",
    "            else:\n",
    "                errors.append(splitted)\n",
    "\n",
    "label_file = data_path + \"ontClassLabels_owl_ncit.txt\"\n",
    "read_label(label_file)\n",
    "print(conceptLabelDict[\"4863\"])\n",
    "print(conceptLabelDict[\"115117\"])\n",
    "print(errors)\n"
   ]
  },
  {
   "cell_type": "code",
   "execution_count": 10,
   "metadata": {},
   "outputs": [
    {
     "name": "stdout",
     "output_type": "stream",
     "text": [
      "9955\n"
     ]
    }
   ],
   "source": [
    "print(len(conceptLabelDict))"
   ]
  },
  {
   "cell_type": "code",
   "execution_count": 18,
   "metadata": {},
   "outputs": [],
   "source": [
    "def read_corpus(fname, tokens_only=False):\n",
    "    with smart_open.smart_open(fname) as f:\n",
    "        for i, line in enumerate(f):\n",
    "            #get the id for each concept paragraph\n",
    "            splitted = line.decode(\"iso-8859-1\").split(\"\\t\", 2)\n",
    "            \n",
    "            line = splitted[2]\n",
    "            if tokens_only:\n",
    "                yield gensim.utils.simple_preprocess(line)\n",
    "            else:\n",
    "                # For training data, add tags\n",
    "                conceptMappingDict[i]= int(get_trailing_number(splitted[0]))\n",
    "                yield gensim.models.doc2vec.TaggedDocument(gensim.utils.simple_preprocess(line), [i])"
   ]
  },
  {
   "cell_type": "code",
   "execution_count": null,
   "metadata": {},
   "outputs": [],
   "source": [
    "def read_corpus(fname, tokens_only=False):\n",
    "    with smart_open.smart_open(fname, encoding=\"iso-8859-1\") as f:\n",
    "        for i, line in enumerate(f): \n",
    "            if tokens_only:\n",
    "                yield gensim.utils.simple_preprocess(line)\n",
    "            else:\n",
    "                # For training data, add tags\n",
    "                yield gensim.models.doc2vec.TaggedDocument(gensim.utils.simple_preprocess(line), [randomStr(10),i])"
   ]
  },
  {
   "cell_type": "code",
   "execution_count": 19,
   "metadata": {},
   "outputs": [],
   "source": [
    "conceptMappingDict={}\n",
    "\n",
    "train_file = data_path + \"ontClassTopology_owl_ncit.txt\"\n",
    "\n",
    "train_corpus = list(read_corpus(train_file))"
   ]
  },
  {
   "cell_type": "code",
   "execution_count": 20,
   "metadata": {},
   "outputs": [
    {
     "name": "stdout",
     "output_type": "stream",
     "text": [
      "9955\n"
     ]
    },
    {
     "data": {
      "text/plain": [
       "[TaggedDocument(words=['neoplasm', 'by', 'special', 'category', 'neoplasm', 'by', 'obsolete', 'classification', 'epithelial', 'neoplasm', 'antiquated', 'cancer', 'stage', 'antiquated', 'colorectal', 'cancer', 'by', 'astler', 'coller', 'stage', 'astler', 'coller', 'colorectal', 'carcinoma', 'rectal', 'cancer', 'by', 'astler', 'coller', 'stage', 'astler', 'coller', 'rectal', 'carcinoma', 'astler', 'coller', 'rectal', 'carcinoma', 'astler', 'coller', 'rectal', 'carcinoma'], tags=[1256]),\n",
       " TaggedDocument(words=['neoplasm', 'by', 'special', 'category', 'neoplasm', 'by', 'obsolete', 'classification', 'epithelial', 'neoplasm', 'antiquated', 'cancer', 'stage', 'antiquated', 'colorectal', 'cancer', 'by', 'astler', 'coller', 'stage', 'astler', 'coller', 'colorectal', 'carcinoma', 'rectal', 'cancer', 'by', 'astler', 'coller', 'stage', 'astler', 'coller', 'rectal', 'carcinoma', 'astler', 'coller', 'rectal', 'carcinoma', 'astler', 'coller', 'rectal', 'carcinoma'], tags=[1257]),\n",
       " TaggedDocument(words=['neoplasm', 'by', 'special', 'category', 'neoplasm', 'by', 'obsolete', 'classification', 'epithelial', 'neoplasm', 'antiquated', 'cancer', 'stage', 'antiquated', 'colorectal', 'cancer', 'by', 'astler', 'coller', 'stage', 'rectal', 'cancer', 'by', 'astler', 'coller', 'stage', 'astler', 'coller', 'colorectal', 'carcinoma', 'astler', 'coller', 'rectal', 'carcinoma', 'astler', 'coller', 'rectal', 'carcinoma', 'astler', 'coller', 'rectal', 'carcinoma'], tags=[1258])]"
      ]
     },
     "execution_count": 20,
     "metadata": {},
     "output_type": "execute_result"
    }
   ],
   "source": [
    "print(len(train_corpus))\n",
    "train_corpus[1256:1259]"
   ]
  },
  {
   "cell_type": "code",
   "execution_count": 22,
   "metadata": {},
   "outputs": [
    {
     "name": "stdout",
     "output_type": "stream",
     "text": [
      "8\n"
     ]
    }
   ],
   "source": [
    "cores = multiprocessing.cpu_count()\n",
    "\n",
    "print(cores)\n",
    "models = [\n",
    "    # PV-DBOW \n",
    "    Doc2Vec(dm=0, dbow_words=1, vector_size=200, window=8, min_count=1, epochs=10, workers=cores),\n",
    "    # PV-DM w/average\n",
    "    Doc2Vec(dm=1, dm_mean=1, vector_size=200, window=8, min_count=1, epochs =10, workers=cores),\n",
    "]\n"
   ]
  },
  {
   "cell_type": "code",
   "execution_count": 23,
   "metadata": {},
   "outputs": [
    {
     "name": "stdout",
     "output_type": "stream",
     "text": [
      "Doc2Vec(dbow+w,d200,n5,w8,s0.001,t8)\n",
      "Doc2Vec(dm/m,d200,n5,w8,s0.001,t8)\n"
     ]
    }
   ],
   "source": [
    "models[0].build_vocab(train_corpus)\n",
    "print(str(models[0]))\n",
    "models[1].reset_from(models[0])\n",
    "print(str(models[1]))"
   ]
  },
  {
   "cell_type": "code",
   "execution_count": 25,
   "metadata": {},
   "outputs": [
    {
     "name": "stdout",
     "output_type": "stream",
     "text": [
      "CPU times: user 1min 9s, sys: 756 ms, total: 1min 10s\n",
      "Wall time: 10.4 s\n",
      "CPU times: user 36.6 s, sys: 5.11 s, total: 41.7 s\n",
      "Wall time: 18.1 s\n"
     ]
    }
   ],
   "source": [
    "for model in models:\n",
    "    %%time model.train(train_corpus, total_examples=model.corpus_count, epochs=model.epochs)"
   ]
  },
  {
   "cell_type": "code",
   "execution_count": 30,
   "metadata": {},
   "outputs": [],
   "source": [
    "for i, model in enumerate(models):\n",
    "    temp_path = vector_model_path + \"model\" + str(i)  # creates a temp file\n",
    "    model.save(temp_path)"
   ]
  },
  {
   "cell_type": "code",
   "execution_count": 27,
   "metadata": {},
   "outputs": [
    {
     "ename": "NameError",
     "evalue": "name 'inferred_vector' is not defined",
     "output_type": "error",
     "traceback": [
      "\u001b[0;31m---------------------------------------------------------------------------\u001b[0m",
      "\u001b[0;31mNameError\u001b[0m                                 Traceback (most recent call last)",
      "\u001b[0;32m<ipython-input-27-672bbff0b4d4>\u001b[0m in \u001b[0;36m<module>\u001b[0;34m()\u001b[0m\n\u001b[1;32m      1\u001b[0m \u001b[0mmodel\u001b[0m \u001b[0;34m=\u001b[0m \u001b[0mDoc2Vec\u001b[0m\u001b[0;34m.\u001b[0m\u001b[0mload\u001b[0m\u001b[0;34m(\u001b[0m\u001b[0;34m\"model1\"\u001b[0m\u001b[0;34m)\u001b[0m\u001b[0;34m\u001b[0m\u001b[0m\n\u001b[1;32m      2\u001b[0m \u001b[0;34m\u001b[0m\u001b[0m\n\u001b[0;32m----> 3\u001b[0;31m \u001b[0mpprint\u001b[0m\u001b[0;34m(\u001b[0m\u001b[0mmodel\u001b[0m\u001b[0;34m.\u001b[0m\u001b[0mdocvecs\u001b[0m\u001b[0;34m.\u001b[0m\u001b[0mmost_similar\u001b[0m\u001b[0;34m(\u001b[0m\u001b[0;34m[\u001b[0m\u001b[0minferred_vector\u001b[0m\u001b[0;34m]\u001b[0m\u001b[0;34m,\u001b[0m \u001b[0mtopn\u001b[0m\u001b[0;34m=\u001b[0m\u001b[0;36m20\u001b[0m\u001b[0;34m)\u001b[0m\u001b[0;34m)\u001b[0m\u001b[0;34m\u001b[0m\u001b[0m\n\u001b[0m",
      "\u001b[0;31mNameError\u001b[0m: name 'inferred_vector' is not defined"
     ]
    }
   ],
   "source": [
    "model = Doc2Vec.load(\"model1\") \n",
    "\n",
    "pprint(model.docvecs.most_similar([inferred_vector], topn=20))"
   ]
  },
  {
   "cell_type": "code",
   "execution_count": 28,
   "metadata": {},
   "outputs": [
    {
     "name": "stdout",
     "output_type": "stream",
     "text": [
      "Doc2Vec(dbow+w,d200,n5,w8,s0.001,t8)\n",
      "[(730, 0.6486555337905884),\n",
      " (9748, 0.6175359487533569),\n",
      " (4230, 0.606914758682251),\n",
      " (7095, 0.6059582233428955),\n",
      " (5881, 0.5948716998100281),\n",
      " (1784, 0.5942044258117676),\n",
      " (7432, 0.5923898220062256),\n",
      " (7411, 0.5885365009307861),\n",
      " (6385, 0.5879079103469849),\n",
      " (3393, 0.5851361751556396),\n",
      " (1677, 0.5828551650047302),\n",
      " (2924, 0.5823056697845459),\n",
      " (433, 0.581768274307251),\n",
      " (8280, 0.5781128406524658),\n",
      " (82, 0.5756554007530212),\n",
      " (7965, 0.5721471309661865),\n",
      " (2417, 0.5712842345237732),\n",
      " (541, 0.5674805045127869),\n",
      " (7434, 0.5666027069091797),\n",
      " (727, 0.5641233921051025)]\n",
      "Doc2Vec(dm/m,d200,n5,w8,s0.001,t8)\n",
      "[(7432, 0.5708985924720764),\n",
      " (5119, 0.5656453371047974),\n",
      " (3975, 0.5338389873504639),\n",
      " (3463, 0.5081766843795776),\n",
      " (1132, 0.4790615439414978),\n",
      " (1875, 0.41995540261268616),\n",
      " (5707, 0.40108197927474976),\n",
      " (0, 0.39105379581451416),\n",
      " (9105, 0.38858065009117126),\n",
      " (1674, 0.3786812424659729),\n",
      " (234, 0.37764543294906616),\n",
      " (5342, 0.37195885181427),\n",
      " (8720, 0.3663794994354248),\n",
      " (630, 0.3644373118877411),\n",
      " (7481, 0.3589365780353546),\n",
      " (3087, 0.35586509108543396),\n",
      " (4381, 0.3535737693309784),\n",
      " (5330, 0.35226425528526306),\n",
      " (7100, 0.35123687982559204),\n",
      " (54, 0.34875109791755676)]\n"
     ]
    }
   ],
   "source": [
    "for model in models:\n",
    "    print(str(model))\n",
    "    inferred_vector = model.infer_vector(['congenital', 'prolong', 'rupture', 'premature', 'membrane', 'lung'])\n",
    "    pprint(model.docvecs.most_similar([inferred_vector], topn=20))"
   ]
  },
  {
   "cell_type": "code",
   "execution_count": 29,
   "metadata": {},
   "outputs": [
    {
     "name": "stdout",
     "output_type": "stream",
     "text": [
      "Doc2Vec(dbow+w,d200,n5,w8,s0.001,t8)\n",
      "benign respiratory tract neoplasm score:  0.667535662651062\n",
      "pulmonary hamartoma score:  0.6600381135940552\n",
      "atypical adenomatous lung hyperplasia score:  0.6461799144744873\n",
      "endobronchial hamartoma score:  0.6457448601722717\n",
      "malignant neoplasm of multiple primary sites score:  0.63677978515625\n",
      "multiple pulmonary hamartomas score:  0.6347206234931946\n",
      "congenital peribronchial myofibroblastic tumor score:  0.6337246894836426\n",
      "malignant neoplasm of lung - multiple primary sites score:  0.632215142250061\n",
      "benign lung hilum neoplasm score:  0.6287093162536621\n",
      "axillary neoplasm score:  0.6262967586517334\n",
      "lung hilum neoplasm score:  0.6115237474441528\n",
      "giant congenital nevus score:  0.6098372936248779\n",
      "proliferative dermal lesion in congenital nevus score:  0.6089194416999817\n",
      "melanoma in congenital melanocytic nevus score:  0.6037662029266357\n",
      "small congenital melanocytic nevus score:  0.6007400751113892\n",
      "melanoma arising in giant congenital nevus score:  0.5976440906524658\n",
      "airway hemangioma score:  0.597413957118988\n",
      "benign axillary neoplasm score:  0.5962989330291748\n",
      "malignant lung hilum neoplasm score:  0.5951769351959229\n",
      "congenital hemangioma score:  0.5927293300628662\n",
      "Doc2Vec(dm/m,d200,n5,w8,s0.001,t8)\n",
      "hemangioblastoma score:  0.5440220832824707\n",
      "tubular neoplasm score:  0.4046939015388489\n",
      "benign skin neoplasm score:  0.3844774067401886\n",
      "villous neoplasm score:  0.33378443121910095\n",
      "childhood malignant kidney neoplasm score:  0.3328041136264801\n",
      "trigeminal nerve neoplasm score:  0.3302859663963318\n",
      "hemangiopericytoma score:  0.3245829641819\n",
      "neoplasm score:  0.31916773319244385\n",
      "hemangiopericytic neoplasm score:  0.3159579932689667\n",
      "benign dermal neoplasm score:  0.3075808882713318\n",
      "eye neoplasm score:  0.29144051671028137\n",
      "melanocytic skin neoplasm score:  0.28498443961143494\n",
      "malignant hemangiopericytoma score:  0.2838163673877716\n",
      "neoplasm by site score:  0.2807968854904175\n",
      "breast melanoma score:  0.2777542471885681\n",
      "benign oral neoplasm score:  0.27420610189437866\n",
      "benign bone neoplasm score:  0.26927077770233154\n",
      "benign connective and soft tissue neoplasm score:  0.2667732238769531\n",
      "lip neoplasm score:  0.26322728395462036\n",
      "hemangioma score:  0.26197904348373413\n"
     ]
    }
   ],
   "source": [
    "for model in models:\n",
    "    print(str(model))\n",
    "    inferred_vector = model.infer_vector(['congenital', 'prolong', 'rupture', 'premature', 'membrane', 'lung'])\n",
    "    sims= model.docvecs.most_similar([inferred_vector], topn=20)\n",
    "    for sim in sims:\n",
    "        index = str(conceptMappingDict[sim[0]])\n",
    "        print(conceptLabelDict[index], \"score: \", sim[1])\n",
    "    "
   ]
  },
  {
   "cell_type": "code",
   "execution_count": null,
   "metadata": {},
   "outputs": [],
   "source": [
    "#gensim.utils.simple_preprocess??\n",
    "gensim.models.doc2vec.TaggedDocument??"
   ]
  },
  {
   "cell_type": "code",
   "execution_count": null,
   "metadata": {},
   "outputs": [],
   "source": [
    "model = gensim.models.doc2vec.Doc2Vec(size=50, min_count=1, iter=5, alpha=0.025, min_alpha=0.025, sample = 1e-3)\n",
    "\n",
    "gensim.models.doc2vec.Doc2Vec??\n",
    "\n",
    "model.build_vocab(train_corpus)\n",
    "\n",
    "len(model.wv.vocab)\n",
    "\n",
    "%time model.train(train_corpus, total_examples=model.corpus_count, epochs=model.iter)\n",
    "\n",
    "# inferred_vector = model.infer_vector(['clinical', 'finding', 'evaluation', 'prevent', 'sampling', 'foot'])\n",
    "inferred_vector = model.infer_vector(['congenital', 'prolong', 'rupture', 'premature', 'membrane', 'lung'])\n",
    "\n",
    "\n",
    "sims = model.docvecs.most_similar([inferred_vector], topn=10)\n",
    "pprint(sims)\n",
    "\n",
    "for sim in sims:\n",
    "    print(train_corpus[sim[0]].words, \"score: \", sim[1])\n",
    "    \n",
    "for sim in sims:\n",
    "    print(conceptMappingDict[sim[0]], \"score: \", sim[1])\n",
    "  \n",
    "\n",
    "from tempfile import mkstemp\n",
    "\n",
    "fs, temp_path = mkstemp(\"gensim_temp\")  # creates a temp file\n",
    "\n",
    "model.save(temp_path)  # save the model\n",
    "\n",
    "new_model = gensim.models.Doc2Vec.load(temp_path)"
   ]
  },
  {
   "cell_type": "code",
   "execution_count": null,
   "metadata": {},
   "outputs": [],
   "source": [
    "for model in models:\n",
    "    print(str(model))\n",
    "    vec = [model.docvecs[\"Lady Gaga\"] - model[\"american\"] + model[\"japanese\"]]\n",
    "    pprint([m for m in model.docvecs.most_similar(vec, topn=11) if m[0] != \"Lady Gaga\"])"
   ]
  },
  {
   "cell_type": "code",
   "execution_count": null,
   "metadata": {
    "scrolled": true
   },
   "outputs": [],
   "source": [
    "print(\"Total: \",len(train_corpus))\n",
    "\n",
    "\n",
    "ranks = []\n",
    "second_ranks = []\n",
    "for doc_id in range(len(train_corpus)):\n",
    "    print(\"Processing: \", doc_id)\n",
    "    inferred_vector = model.infer_vector(train_corpus[doc_id].words)\n",
    "    sims = model.docvecs.most_similar([inferred_vector], topn=len(model.docvecs))\n",
    "    rank = [docid for docid, sim in sims].index(doc_id)\n",
    "    ranks.append(rank)\n",
    "    \n",
    "    second_ranks.append(sims[1])"
   ]
  },
  {
   "cell_type": "code",
   "execution_count": null,
   "metadata": {},
   "outputs": [],
   "source": [
    "import random, string\n",
    "\n",
    "def randomStr(length):\n",
    "   letters = string.ascii_lowercase\n",
    "   return ''.join(random.choice(letters) for i in range(length))\n"
   ]
  },
  {
   "cell_type": "code",
   "execution_count": null,
   "metadata": {},
   "outputs": [],
   "source": [
    "collections.Counter(ranks) "
   ]
  },
  {
   "cell_type": "code",
   "execution_count": null,
   "metadata": {},
   "outputs": [],
   "source": []
  }
 ],
 "metadata": {
  "kernelspec": {
   "display_name": "Python 3",
   "language": "python",
   "name": "python3"
  },
  "language_info": {
   "codemirror_mode": {
    "name": "ipython",
    "version": 3
   },
   "file_extension": ".py",
   "mimetype": "text/x-python",
   "name": "python",
   "nbconvert_exporter": "python",
   "pygments_lexer": "ipython3",
   "version": "3.5.4"
  }
 },
 "nbformat": 4,
 "nbformat_minor": 2
}
